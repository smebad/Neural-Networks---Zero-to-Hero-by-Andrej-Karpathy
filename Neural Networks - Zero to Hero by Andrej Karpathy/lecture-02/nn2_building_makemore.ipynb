{
 "cells": [
  {
   "cell_type": "code",
   "execution_count": 11,
   "metadata": {},
   "outputs": [
    {
     "name": "stdout",
     "output_type": "stream",
     "text": [
      "Cleaned 29681 unique names and saved to cleaned_names.txt.\n"
     ]
    }
   ],
   "source": [
    "# Input file (already renamed)\n",
    "input_file = \"names.txt\"\n",
    "\n",
    "# Output file to save cleaned names\n",
    "output_file = \"cleaned_names.txt\"\n",
    "\n",
    "# Process the file\n",
    "with open(input_file, \"r\") as infile, open(output_file, \"w\") as outfile:\n",
    "    names = set()  # Use a set to remove duplicates\n",
    "    for line in infile:\n",
    "        # Split by commas and extract the name (first column)\n",
    "        name = line.split(\",\")[0]\n",
    "        names.add(name.strip())  # Remove extra spaces if any\n",
    "\n",
    "    # Write the cleaned names to the new file (no numbering)\n",
    "    for name in sorted(names):  # Optional: Sort names alphabetically\n",
    "        outfile.write(f\"{name}\\n\")  # Write each name on a new line\n",
    "\n",
    "print(f\"Cleaned {len(names)} unique names and saved to {output_file}.\")\n"
   ]
  },
  {
   "cell_type": "code",
   "execution_count": 12,
   "metadata": {},
   "outputs": [],
   "source": [
    "words = open('cleaned_names.txt', 'r').read().splitlines()"
   ]
  },
  {
   "cell_type": "code",
   "execution_count": 15,
   "metadata": {},
   "outputs": [
    {
     "data": {
      "text/plain": [
       "['Aaban',\n",
       " 'Aabid',\n",
       " 'Aabidah',\n",
       " 'Aabir',\n",
       " 'Aabriella',\n",
       " 'Aada',\n",
       " 'Aadam',\n",
       " 'Aadarsh',\n",
       " 'Aadaya',\n",
       " 'Aaden']"
      ]
     },
     "execution_count": 15,
     "metadata": {},
     "output_type": "execute_result"
    }
   ],
   "source": [
    "words[:10]"
   ]
  },
  {
   "cell_type": "code",
   "execution_count": 16,
   "metadata": {},
   "outputs": [
    {
     "data": {
      "text/plain": [
       "29681"
      ]
     },
     "execution_count": 16,
     "metadata": {},
     "output_type": "execute_result"
    }
   ],
   "source": [
    "len(words)"
   ]
  },
  {
   "cell_type": "code",
   "execution_count": 17,
   "metadata": {},
   "outputs": [
    {
     "data": {
      "text/plain": [
       "2"
      ]
     },
     "execution_count": 17,
     "metadata": {},
     "output_type": "execute_result"
    }
   ],
   "source": [
    "min(len(w) for w in words)"
   ]
  },
  {
   "cell_type": "code",
   "execution_count": 18,
   "metadata": {},
   "outputs": [
    {
     "data": {
      "text/plain": [
       "15"
      ]
     },
     "execution_count": 18,
     "metadata": {},
     "output_type": "execute_result"
    }
   ],
   "source": [
    "max(len(w) for w in words)"
   ]
  },
  {
   "cell_type": "code",
   "execution_count": null,
   "metadata": {},
   "outputs": [],
   "source": []
  }
 ],
 "metadata": {
  "kernelspec": {
   "display_name": "NN",
   "language": "python",
   "name": "python3"
  },
  "language_info": {
   "codemirror_mode": {
    "name": "ipython",
    "version": 3
   },
   "file_extension": ".py",
   "mimetype": "text/x-python",
   "name": "python",
   "nbconvert_exporter": "python",
   "pygments_lexer": "ipython3",
   "version": "3.11.11"
  }
 },
 "nbformat": 4,
 "nbformat_minor": 2
}
