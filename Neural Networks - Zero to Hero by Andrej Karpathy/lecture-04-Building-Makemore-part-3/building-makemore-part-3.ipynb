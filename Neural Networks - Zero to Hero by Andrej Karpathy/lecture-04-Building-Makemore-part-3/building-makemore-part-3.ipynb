{
 "cells": [
  {
   "cell_type": "code",
   "execution_count": 43,
   "metadata": {},
   "outputs": [],
   "source": [
    "# PAPER - dELVING dEEP INTO RECTIFIERS:  SURPASSING HUMAN-LEVEL PERFORMANCE ON IMAGENET CLASSIFICATION BY KAIMING HE"
   ]
  },
  {
   "cell_type": "code",
   "execution_count": 1,
   "metadata": {},
   "outputs": [],
   "source": [
    "import torch\n",
    "import torch.nn.functional as F\n",
    "import matplotlib.pyplot as plt"
   ]
  },
  {
   "cell_type": "code",
   "execution_count": 2,
   "metadata": {},
   "outputs": [
    {
     "data": {
      "text/plain": [
       "['aaban', 'aabid', 'aabidah', 'aabir', 'aabriella', 'aada', 'aadam', 'aadarsh']"
      ]
     },
     "execution_count": 2,
     "metadata": {},
     "output_type": "execute_result"
    }
   ],
   "source": [
    "# reading all the words\n",
    "words = open('cleaned_names.txt', 'r').read().splitlines()\n",
    "words[:8]"
   ]
  },
  {
   "cell_type": "code",
   "execution_count": 3,
   "metadata": {},
   "outputs": [
    {
     "data": {
      "text/plain": [
       "29681"
      ]
     },
     "execution_count": 3,
     "metadata": {},
     "output_type": "execute_result"
    }
   ],
   "source": [
    "len(words)"
   ]
  },
  {
   "cell_type": "code",
   "execution_count": 4,
   "metadata": {},
   "outputs": [
    {
     "name": "stdout",
     "output_type": "stream",
     "text": [
      "{1: 'a', 2: 'b', 3: 'c', 4: 'd', 5: 'e', 6: 'f', 7: 'g', 8: 'h', 9: 'i', 10: 'j', 11: 'k', 12: 'l', 13: 'm', 14: 'n', 15: 'o', 16: 'p', 17: 'q', 18: 'r', 19: 's', 20: 't', 21: 'u', 22: 'v', 23: 'w', 24: 'x', 25: 'y', 26: 'z', 0: '.'}\n",
      "27\n"
     ]
    }
   ],
   "source": [
    "# building the vocabulary of characters and mappings to/from integers\n",
    "chars = sorted(list(set(''.join(words))))\n",
    "stoi = {s:i+1 for i,s in enumerate(chars)}\n",
    "stoi['.'] = 0\n",
    "itos = {i:s for s,i in stoi.items()}\n",
    "vocab_size = len(itos)\n",
    "print(itos)\n",
    "print(vocab_size)"
   ]
  },
  {
   "cell_type": "code",
   "execution_count": 5,
   "metadata": {},
   "outputs": [
    {
     "name": "stdout",
     "output_type": "stream",
     "text": [
      "torch.Size([170379, 3]) torch.Size([170379])\n",
      "torch.Size([21222, 3]) torch.Size([21222])\n",
      "torch.Size([21124, 3]) torch.Size([21124])\n"
     ]
    }
   ],
   "source": [
    "# building the dataset\n",
    "block_size = 3 # context length: how many characters do we take to predict the next one?\n",
    "\n",
    "def build_dataset(words):\n",
    "  X, Y = [], []\n",
    "\n",
    "  for w in words:\n",
    "    context = [0] * block_size\n",
    "    for ch in w + '.':\n",
    "      ix = stoi[ch]\n",
    "      X.append(context)\n",
    "      Y.append(ix)\n",
    "      context = context[1:] + [ix] # crop and append\n",
    "\n",
    "  X = torch.tensor(X)\n",
    "  Y = torch.tensor(Y)\n",
    "  print(X.shape, Y.shape)\n",
    "  return X, Y\n",
    "\n",
    "import random\n",
    "random.seed(42)\n",
    "random.shuffle(words)\n",
    "n1 = int(0.8*len(words))\n",
    "n2 = int(0.9*len(words))\n",
    "\n",
    "Xtr, Ytr = build_dataset(words[:n1]) # 80% of the data\n",
    "Xdev, Ydev = build_dataset(words[n1:n2]) # 10% of the data\n",
    "Xte, Yte = build_dataset(words[n2:]) # 10% of the data"
   ]
  },
  {
   "cell_type": "code",
   "execution_count": 50,
   "metadata": {},
   "outputs": [
    {
     "name": "stdout",
     "output_type": "stream",
     "text": [
      "11897\n"
     ]
    }
   ],
   "source": [
    "# MLP revisited\n",
    "n_embd = 10 # the dimensionality of the embeddings\n",
    "n_hidden = 200 # the number of neurons in the hidden layer of the MLP\n",
    "\n",
    "g = torch.Generator().manual_seed(2147483647) # for reproducibility\n",
    "C = torch.randn((vocab_size, n_embd),          generator=g) # the embedding matrix\n",
    "W1 = torch.randn((n_embd * block_size, n_hidden), generator=g) * ((5/3) / (n_embd * block_size)**0.5) # 0.2 # the first layer of the MLP # \"Kaiming init\"\n",
    "b1 = torch.randn((n_hidden),                    generator=g) * 0.01 # the bias of the first layer\n",
    "W2 = torch.randn((n_hidden, vocab_size),        generator=g) * 0.01 # the second layer of the MLP\n",
    "b2 = torch.randn((vocab_size),                  generator=g) * 0 # the bias of the second layer\n",
    "\n",
    "parameters = [C, W1, b1, W2, b2]\n",
    "print(sum(p.nelement() for p in parameters)) # number of parameters in total\n",
    "for p in parameters:\n",
    "  p.requires_grad = True\n"
   ]
  },
  {
   "cell_type": "code",
   "execution_count": 46,
   "metadata": {},
   "outputs": [
    {
     "data": {
      "text/plain": [
       "tensor(0.2026)"
      ]
     },
     "execution_count": 46,
     "metadata": {},
     "output_type": "execute_result"
    }
   ],
   "source": [
    "(torch.randn(10000) * 0.2).std() # numbers for gaussian"
   ]
  },
  {
   "cell_type": "code",
   "execution_count": 47,
   "metadata": {},
   "outputs": [
    {
     "data": {
      "text/plain": [
       "30"
      ]
     },
     "execution_count": 47,
     "metadata": {},
     "output_type": "execute_result"
    }
   ],
   "source": [
    "n_embd * block_size"
   ]
  },
  {
   "cell_type": "code",
   "execution_count": 48,
   "metadata": {},
   "outputs": [
    {
     "data": {
      "text/plain": [
       "0.3042903097250923"
      ]
     },
     "execution_count": 48,
     "metadata": {},
     "output_type": "execute_result"
    }
   ],
   "source": [
    "(5/3) / (30**0.5)"
   ]
  },
  {
   "cell_type": "code",
   "execution_count": 51,
   "metadata": {},
   "outputs": [
    {
     "name": "stdout",
     "output_type": "stream",
     "text": [
      "tensor(-0.0090) tensor(1.0008)\n",
      "tensor(-0.0017) tensor(1.0008)\n"
     ]
    }
   ],
   "source": [
    "x = torch.randn(1000, 10)\n",
    "w = torch.randn(10, 200) / 10**0.5\n",
    "y = x @ w\n",
    "print(x.mean(), x.std())\n",
    "print(y.mean(), y.std())\n"
   ]
  },
  {
   "cell_type": "code",
   "execution_count": null,
   "metadata": {},
   "outputs": [],
   "source": [
    "# x = torch.randn(1000, 10)\n",
    "# w = torch.randn(10, 200)\n",
    "# y = x @ w\n",
    "# print(x.mean(), x.std())\n",
    "# print(y.mean(), y.std())\n",
    "# plt.figure(figsize=(16,4))\n",
    "# plt.subplot(121)\n",
    "# plt.hist(x.view(-1.tolist(), 50, density=True));\n",
    "# plt.subplot(122)\n",
    "# plt.hist(y.view(-1).tolist(), 50, density=True)"
   ]
  },
  {
   "cell_type": "code",
   "execution_count": 52,
   "metadata": {},
   "outputs": [
    {
     "name": "stdout",
     "output_type": "stream",
     "text": [
      "      0/ 200000: loss = 3.3188\n",
      "  10000/ 200000: loss = 2.0989\n",
      "  20000/ 200000: loss = 2.3204\n",
      "  30000/ 200000: loss = 2.1513\n",
      "  40000/ 200000: loss = 1.9521\n",
      "  50000/ 200000: loss = 2.2986\n",
      "  60000/ 200000: loss = 2.6944\n",
      "  70000/ 200000: loss = 2.2578\n",
      "  80000/ 200000: loss = 2.2030\n",
      "  90000/ 200000: loss = 2.7034\n",
      " 100000/ 200000: loss = 2.0390\n",
      " 110000/ 200000: loss = 2.0694\n",
      " 120000/ 200000: loss = 2.1744\n",
      " 130000/ 200000: loss = 2.4378\n",
      " 140000/ 200000: loss = 1.8644\n",
      " 150000/ 200000: loss = 2.2597\n",
      " 160000/ 200000: loss = 2.0452\n",
      " 170000/ 200000: loss = 2.0599\n",
      " 180000/ 200000: loss = 2.1208\n",
      " 190000/ 200000: loss = 2.3622\n"
     ]
    }
   ],
   "source": [
    "# same optimization as in part 2\n",
    "max_steps = 200000\n",
    "batch_size = 32\n",
    "lossi = []\n",
    "\n",
    "for i in range(max_steps):\n",
    "\n",
    "  # minibatch construction\n",
    "  ix = torch.randint(0, Xtr.shape[0], (batch_size,), generator=g)\n",
    "  Xb, Yb = Xtr[ix], Ytr[ix] # batch X,Y\n",
    "\n",
    "  # forward pass\n",
    "  emb = C[Xb] # embed the characters into vectors\n",
    "  embcat = emb.view(emb.shape[0], -1) # concatenate the vectors\n",
    "  hpreact = embcat @ W1 + b1 # hidden layer pre-activation\n",
    "  h = torch.tanh(hpreact) # hidden layer\n",
    "  logits = h @ W2 + b2 # output layer\n",
    "  loss = F.cross_entropy(logits, Yb) # loss function\n",
    "\n",
    "  # backward pass\n",
    "  for p in parameters:\n",
    "    p.grad = None\n",
    "  loss.backward()\n",
    "  \n",
    "  # update\n",
    "  lr = 0.1 if i < 100000 else 0.01 # step learning rate decay\n",
    "  for p in parameters:\n",
    "    p.data += -lr * p.grad\n",
    "\n",
    "  # tracking the stats\n",
    "  if i % 10000 == 0: # print every once in a while\n",
    "    print(f'{i:7d}/{max_steps:7d}: loss = {loss.item():.4f}')\n",
    "  lossi.append(loss.log10().item())"
   ]
  },
  {
   "cell_type": "code",
   "execution_count": 8,
   "metadata": {},
   "outputs": [],
   "source": [
    "# plt.figure(figsize=(20,10))\n",
    "# plt.imshow(h.abs() > 0.99, cmap='gray', interpolation='nearest')"
   ]
  },
  {
   "cell_type": "code",
   "execution_count": 53,
   "metadata": {},
   "outputs": [
    {
     "data": {
      "text/plain": [
       "tensor([[-0.9617, -0.9895, -0.8348,  ..., -0.9999,  0.6841,  0.9956],\n",
       "        [ 0.9962,  0.9574, -0.3894,  ..., -0.9434,  0.8567,  0.9188],\n",
       "        [-0.9967,  0.9997, -0.9823,  ..., -0.1281, -0.9900, -0.0703],\n",
       "        ...,\n",
       "        [ 0.9691, -0.8923, -0.7311,  ..., -0.9639,  0.9984,  0.9995],\n",
       "        [-0.9963,  0.9669, -0.9437,  ...,  0.9826, -0.9996, -0.7680],\n",
       "        [-0.7642,  0.6927, -0.9911,  ..., -0.8065,  0.6230,  0.4331]],\n",
       "       grad_fn=<TanhBackward0>)"
      ]
     },
     "execution_count": 53,
     "metadata": {},
     "output_type": "execute_result"
    }
   ],
   "source": [
    "h"
   ]
  },
  {
   "cell_type": "code",
   "execution_count": 33,
   "metadata": {},
   "outputs": [
    {
     "data": {
      "text/plain": [
       "torch.Size([32, 200])"
      ]
     },
     "execution_count": 33,
     "metadata": {},
     "output_type": "execute_result"
    }
   ],
   "source": [
    "h.shape"
   ]
  },
  {
   "cell_type": "code",
   "execution_count": 11,
   "metadata": {},
   "outputs": [],
   "source": [
    "# plt.hist(h.view(-1).tolist(), 50);"
   ]
  },
  {
   "cell_type": "code",
   "execution_count": 12,
   "metadata": {},
   "outputs": [],
   "source": [
    "# plt.hist(hpreact.view(-1).tolist(), 50);"
   ]
  },
  {
   "cell_type": "code",
   "execution_count": 55,
   "metadata": {},
   "outputs": [
    {
     "data": {
      "text/plain": [
       "tensor([ 4.6037,  2.4816, -2.9437,  0.3146, -0.0422,  2.7464, -0.1512, -0.8929,\n",
       "        -1.7696,  0.3095, -0.8370,  1.3046,  0.4624, -0.0111,  0.9328, -0.4851,\n",
       "        -3.7180, -0.5719,  0.4491,  1.8187,  0.9771, -0.1514, -0.5998, -4.3349,\n",
       "        -0.7540,  2.7375, -0.9183], grad_fn=<SelectBackward0>)"
      ]
     },
     "execution_count": 55,
     "metadata": {},
     "output_type": "execute_result"
    }
   ],
   "source": [
    "logits[0] # logits should be much much closer to zero"
   ]
  },
  {
   "cell_type": "code",
   "execution_count": 35,
   "metadata": {},
   "outputs": [
    {
     "data": {
      "text/plain": [
       "tensor(3.2958)"
      ]
     },
     "execution_count": 35,
     "metadata": {},
     "output_type": "execute_result"
    }
   ],
   "source": [
    "# probability for any character\n",
    "-torch.tensor(1/27.0).log()"
   ]
  },
  {
   "cell_type": "code",
   "execution_count": 56,
   "metadata": {},
   "outputs": [
    {
     "data": {
      "text/plain": [
       "(tensor([1., 1., 1., 1.]),\n",
       " tensor([0.2500, 0.2500, 0.2500, 0.2500]),\n",
       " tensor(1.3863))"
      ]
     },
     "execution_count": 56,
     "metadata": {},
     "output_type": "execute_result"
    }
   ],
   "source": [
    "# 4 dimensional example of the issue\n",
    "logits = torch.tensor([1.0, 1.0, 1.0, 1.0])\n",
    "# logits = torch.randn(4) * 10\n",
    "probs = torch.softmax(logits, dim=0)\n",
    "loss = -probs[2].log()\n",
    "logits, probs, loss"
   ]
  },
  {
   "cell_type": "code",
   "execution_count": 16,
   "metadata": {},
   "outputs": [],
   "source": [
    "# plt.plot(lossi)"
   ]
  },
  {
   "cell_type": "code",
   "execution_count": 57,
   "metadata": {},
   "outputs": [
    {
     "name": "stdout",
     "output_type": "stream",
     "text": [
      "train 2.0455400943756104\n",
      "val 2.1180968284606934\n",
      "test 2.128801107406616\n"
     ]
    }
   ],
   "source": [
    "@torch.no_grad() # this ensures that we don't save gradients\n",
    "def split_loss(split):\n",
    "  x,y = {\n",
    "    'train': (Xtr, Ytr),\n",
    "    'val': (Xdev, Ydev),\n",
    "    'test': (Xte, Yte)\n",
    "  }[split]\n",
    "  emb = C[x] # (N, block_size, n_embd) embed the characters into vectors\n",
    "  embcat = emb.view(emb.shape[0], -1) # concatenate the vectors (N, block_size * n_embd)\n",
    "  h = torch.tanh(embcat @ W1 + b1) # hidden layer (N, n_hidden)\n",
    "  logits = h @ W2 + b2 # output layer (N, vocab_size)\n",
    "  loss = F.cross_entropy(logits, y)\n",
    "  print(split, loss.item())\n",
    "  \n",
    "split_loss('train')\n",
    "split_loss('val')\n",
    "split_loss('test')"
   ]
  },
  {
   "cell_type": "code",
   "execution_count": 60,
   "metadata": {},
   "outputs": [
    {
     "name": "stdout",
     "output_type": "stream",
     "text": [
      "montaymyah.\n",
      "seel.\n",
      "ndhayla.\n",
      "reivan.\n",
      "endra.\n",
      "gradee.\n",
      "daelin.\n",
      "shi.\n",
      "jen.\n",
      "eden.\n",
      "van.\n",
      "aarielle.\n",
      "malaia.\n",
      "noshubergihiriel.\n",
      "kindreelynn.\n",
      "novana.\n",
      "ubamard.\n",
      "ryyah.\n",
      "fael.\n",
      "yuma.\n"
     ]
    }
   ],
   "source": [
    "# sample from the model\n",
    "g = torch.Generator().manual_seed(2147483647 + 10) # for reproducibility\n",
    "\n",
    "for _ in range(20):\n",
    "\n",
    "  out = []\n",
    "  context = [0] * block_size # initialize with all dots\n",
    "  while True:\n",
    "    # forward pass\n",
    "    emb = C[torch.tensor([context])] # embedding\n",
    "    h = torch.tanh(emb.view(1, -1) @ W1 + b1) # hidden layer\n",
    "    logits = h @ W2 + b2 # output layer\n",
    "    probs = F.softmax(logits, dim=1) # probabilities\n",
    "    \n",
    "    # sample from the distribution\n",
    "    ix = torch.multinomial(probs, num_samples=1, generator=g).item()\n",
    "    \n",
    "    # shift the context window and track the sample\n",
    "    context = context[1:] + [ix]\n",
    "    out.append(ix)\n",
    "    \n",
    "    # stop if we reach the end\n",
    "    if ix == 0:\n",
    "      break\n",
    "\n",
    "  print(''.join(itos[i] for i in out)) # decode and print the sample"
   ]
  },
  {
   "cell_type": "code",
   "execution_count": null,
   "metadata": {},
   "outputs": [],
   "source": []
  }
 ],
 "metadata": {
  "kernelspec": {
   "display_name": "NN",
   "language": "python",
   "name": "python3"
  },
  "language_info": {
   "codemirror_mode": {
    "name": "ipython",
    "version": 3
   },
   "file_extension": ".py",
   "mimetype": "text/x-python",
   "name": "python",
   "nbconvert_exporter": "python",
   "pygments_lexer": "ipython3",
   "version": "3.11.11"
  }
 },
 "nbformat": 4,
 "nbformat_minor": 2
}
