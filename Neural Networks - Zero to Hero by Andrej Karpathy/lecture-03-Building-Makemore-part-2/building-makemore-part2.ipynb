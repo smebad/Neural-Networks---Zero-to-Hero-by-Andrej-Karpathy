{
 "cells": [
  {
   "cell_type": "code",
   "execution_count": 175,
   "metadata": {},
   "outputs": [],
   "source": [
    "# MLP - with using paper Bengio et al.2003"
   ]
  },
  {
   "cell_type": "code",
   "execution_count": 176,
   "metadata": {},
   "outputs": [],
   "source": [
    "import torch\n",
    "import torch.nn.functional as F\n",
    "import matplotlib.pyplot as plt # for making figures\n",
    "%matplotlib inline"
   ]
  },
  {
   "cell_type": "code",
   "execution_count": 177,
   "metadata": {},
   "outputs": [
    {
     "data": {
      "text/plain": [
       "['aaban', 'aabid', 'aabidah', 'aabir', 'aabriella', 'aada', 'aadam', 'aadarsh']"
      ]
     },
     "execution_count": 177,
     "metadata": {},
     "output_type": "execute_result"
    }
   ],
   "source": [
    "# read in all the words\n",
    "words = open('cleaned_names.txt', 'r').read().splitlines()\n",
    "words[:8]"
   ]
  },
  {
   "cell_type": "code",
   "execution_count": 178,
   "metadata": {},
   "outputs": [
    {
     "data": {
      "text/plain": [
       "29681"
      ]
     },
     "execution_count": 178,
     "metadata": {},
     "output_type": "execute_result"
    }
   ],
   "source": [
    "len(words)"
   ]
  },
  {
   "cell_type": "code",
   "execution_count": 179,
   "metadata": {},
   "outputs": [
    {
     "name": "stdout",
     "output_type": "stream",
     "text": [
      "{1: 'a', 2: 'b', 3: 'c', 4: 'd', 5: 'e', 6: 'f', 7: 'g', 8: 'h', 9: 'i', 10: 'j', 11: 'k', 12: 'l', 13: 'm', 14: 'n', 15: 'o', 16: 'p', 17: 'q', 18: 'r', 19: 's', 20: 't', 21: 'u', 22: 'v', 23: 'w', 24: 'x', 25: 'y', 26: 'z', 0: '.'}\n"
     ]
    }
   ],
   "source": [
    "# build the vocabulary of characters and mappings to/from integers\n",
    "chars = sorted(set(''.join(words)))\n",
    "stoi = {s:i+1 for i,s in enumerate(chars)}\n",
    "stoi['.'] = 0\n",
    "itos = {i:s for s,i in stoi.items()}\n",
    "print(itos)"
   ]
  },
  {
   "cell_type": "code",
   "execution_count": 180,
   "metadata": {},
   "outputs": [],
   "source": [
    "# build the dataset\n",
    "\n",
    "block_size = 3 # context length: how many characters to use to predict the next one?\n",
    "X, Y = [], []\n",
    "for w in words: # [:5]\n",
    "\n",
    "  # print(w)\n",
    "  context = [0] * block_size\n",
    "  for ch in w + '.':\n",
    "    ix = stoi[ch]\n",
    "    X.append(context)\n",
    "    Y.append(ix)\n",
    "    # print(''.join([itos[i] for i in context]), '---->', itos[ix])\n",
    "    context = context[1:] + [ix] # crop and append\n",
    "\n",
    "X = torch.tensor(X)\n",
    "Y = torch.tensor(Y)"
   ]
  },
  {
   "cell_type": "code",
   "execution_count": 181,
   "metadata": {},
   "outputs": [
    {
     "data": {
      "text/plain": [
       "(torch.Size([212725, 3]), torch.int64, torch.Size([212725]), torch.int64)"
      ]
     },
     "execution_count": 181,
     "metadata": {},
     "output_type": "execute_result"
    }
   ],
   "source": [
    "X.shape, X.dtype, Y.shape, Y.dtype "
   ]
  },
  {
   "cell_type": "code",
   "execution_count": 182,
   "metadata": {},
   "outputs": [
    {
     "name": "stdout",
     "output_type": "stream",
     "text": [
      "torch.Size([170379, 3]) torch.Size([170379])\n",
      "torch.Size([21222, 3]) torch.Size([21222])\n",
      "torch.Size([21124, 3]) torch.Size([21124])\n"
     ]
    }
   ],
   "source": [
    "# Converting the above code into a function\n",
    "\n",
    "def build_dataset(words):\n",
    "  block_size = 3 # context length: how many characters to use to predict the next one\n",
    "  X, Y = [], []\n",
    "  for w in words:\n",
    "\n",
    "    # print(w)\n",
    "    context = [0] * block_size\n",
    "    for ch in w + '.':\n",
    "      X.append(context)\n",
    "      Y.append(ix)\n",
    "      # print(''.join([itos[i] for i in context]), '---->', itos[ix])\n",
    "      context = context[1:] + [ix] # crop and append\n",
    "\n",
    "  X = torch.tensor(X)\n",
    "  Y = torch.tensor(Y)\n",
    "  print(X.shape, Y.shape)\n",
    "  return X, Y\n",
    "\n",
    "import random\n",
    "random.seed(42)\n",
    "random.shuffle(words)\n",
    "n1 = int(0.8 * len(words))\n",
    "n2 = int(0.9 * len(words))\n",
    "\n",
    "Xtr, Ytr = build_dataset(words[:n1]) # 80%\n",
    "Xdev, Ydev = build_dataset(words[n1:n2]) # 10%\n",
    "Xte, Yte = build_dataset(words[n2:]) # 10%"
   ]
  },
  {
   "cell_type": "code",
   "execution_count": 183,
   "metadata": {},
   "outputs": [
    {
     "data": {
      "text/plain": [
       "29681"
      ]
     },
     "execution_count": 183,
     "metadata": {},
     "output_type": "execute_result"
    }
   ],
   "source": [
    "len(words)"
   ]
  },
  {
   "cell_type": "code",
   "execution_count": 184,
   "metadata": {},
   "outputs": [
    {
     "data": {
      "text/plain": [
       "23744"
      ]
     },
     "execution_count": 184,
     "metadata": {},
     "output_type": "execute_result"
    }
   ],
   "source": [
    "n1"
   ]
  },
  {
   "cell_type": "code",
   "execution_count": 185,
   "metadata": {},
   "outputs": [
    {
     "data": {
      "text/plain": [
       "26712"
      ]
     },
     "execution_count": 185,
     "metadata": {},
     "output_type": "execute_result"
    }
   ],
   "source": [
    "n2"
   ]
  },
  {
   "cell_type": "code",
   "execution_count": 186,
   "metadata": {},
   "outputs": [
    {
     "data": {
      "text/plain": [
       "2968"
      ]
     },
     "execution_count": 186,
     "metadata": {},
     "output_type": "execute_result"
    }
   ],
   "source": [
    "n2 - n1"
   ]
  },
  {
   "cell_type": "code",
   "execution_count": 187,
   "metadata": {},
   "outputs": [
    {
     "data": {
      "text/plain": [
       "2969"
      ]
     },
     "execution_count": 187,
     "metadata": {},
     "output_type": "execute_result"
    }
   ],
   "source": [
    "len(words) - n2"
   ]
  },
  {
   "cell_type": "code",
   "execution_count": 188,
   "metadata": {},
   "outputs": [
    {
     "data": {
      "text/plain": [
       "tensor([[ 0,  0,  0],\n",
       "        [ 0,  0,  1],\n",
       "        [ 0,  1,  1],\n",
       "        ...,\n",
       "        [26, 26, 25],\n",
       "        [26, 25, 26],\n",
       "        [25, 26, 24]])"
      ]
     },
     "execution_count": 188,
     "metadata": {},
     "output_type": "execute_result"
    }
   ],
   "source": [
    "X"
   ]
  },
  {
   "cell_type": "code",
   "execution_count": 189,
   "metadata": {},
   "outputs": [
    {
     "data": {
      "text/plain": [
       "tensor([ 1,  1,  2,  ..., 26, 24,  0])"
      ]
     },
     "execution_count": 189,
     "metadata": {},
     "output_type": "execute_result"
    }
   ],
   "source": [
    "Y # labels"
   ]
  },
  {
   "cell_type": "code",
   "execution_count": 190,
   "metadata": {},
   "outputs": [],
   "source": [
    "C = torch.randn(27, 2) # each 27 characters is represented by a 2D embedding"
   ]
  },
  {
   "cell_type": "code",
   "execution_count": 191,
   "metadata": {},
   "outputs": [
    {
     "data": {
      "text/plain": [
       "tensor([[-1.8534, -0.4068],\n",
       "        [ 0.5352, -1.6474],\n",
       "        [-2.1217, -0.0860],\n",
       "        [-0.6625, -0.1120],\n",
       "        [ 1.4715,  1.9571],\n",
       "        [-0.1937, -0.4684],\n",
       "        [ 1.6381, -0.5527],\n",
       "        [ 0.5527,  1.0046],\n",
       "        [ 0.6768, -0.6734],\n",
       "        [ 0.4261, -0.9327],\n",
       "        [ 0.1062,  0.7216],\n",
       "        [-1.7297, -1.4324],\n",
       "        [ 0.6761,  0.4655],\n",
       "        [ 0.0048,  0.3789],\n",
       "        [-0.2102,  0.3964],\n",
       "        [-0.2872, -0.3891],\n",
       "        [-2.0022, -0.7070],\n",
       "        [ 0.9121, -0.1046],\n",
       "        [-0.7447, -0.5701],\n",
       "        [-0.4313, -0.3535],\n",
       "        [ 1.4642, -0.9756],\n",
       "        [-0.3948, -1.8163],\n",
       "        [-0.2753,  0.3362],\n",
       "        [-1.1952, -0.9131],\n",
       "        [-0.8811,  0.1634],\n",
       "        [ 0.7803,  0.0805],\n",
       "        [ 0.5614,  2.1519]])"
      ]
     },
     "execution_count": 191,
     "metadata": {},
     "output_type": "execute_result"
    }
   ],
   "source": [
    "C"
   ]
  },
  {
   "cell_type": "code",
   "execution_count": 192,
   "metadata": {},
   "outputs": [
    {
     "data": {
      "text/plain": [
       "tensor([-0.1937, -0.4684])"
      ]
     },
     "execution_count": 192,
     "metadata": {},
     "output_type": "execute_result"
    }
   ],
   "source": [
    "C[5]"
   ]
  },
  {
   "cell_type": "code",
   "execution_count": 193,
   "metadata": {},
   "outputs": [
    {
     "data": {
      "text/plain": [
       "tensor([-0.1937, -0.4684])"
      ]
     },
     "execution_count": 193,
     "metadata": {},
     "output_type": "execute_result"
    }
   ],
   "source": [
    "F.one_hot(torch.tensor(5), num_classes=27).float() @ C # one hot vector"
   ]
  },
  {
   "cell_type": "code",
   "execution_count": 194,
   "metadata": {},
   "outputs": [
    {
     "data": {
      "text/plain": [
       "tensor([[-0.1937, -0.4684],\n",
       "        [ 1.6381, -0.5527],\n",
       "        [ 0.5527,  1.0046]])"
      ]
     },
     "execution_count": 194,
     "metadata": {},
     "output_type": "execute_result"
    }
   ],
   "source": [
    "C[[5,6,7]] # indexing with list"
   ]
  },
  {
   "cell_type": "code",
   "execution_count": 195,
   "metadata": {},
   "outputs": [
    {
     "data": {
      "text/plain": [
       "tensor([[-0.1937, -0.4684],\n",
       "        [ 1.6381, -0.5527],\n",
       "        [ 0.5527,  1.0046]])"
      ]
     },
     "execution_count": 195,
     "metadata": {},
     "output_type": "execute_result"
    }
   ],
   "source": [
    "C[torch.tensor([5,6,7])] # indexing with tensor"
   ]
  },
  {
   "cell_type": "code",
   "execution_count": 196,
   "metadata": {},
   "outputs": [
    {
     "data": {
      "text/plain": [
       "torch.Size([212725, 3, 2])"
      ]
     },
     "execution_count": 196,
     "metadata": {},
     "output_type": "execute_result"
    }
   ],
   "source": [
    "C[X].shape"
   ]
  },
  {
   "cell_type": "code",
   "execution_count": 197,
   "metadata": {},
   "outputs": [
    {
     "data": {
      "text/plain": [
       "tensor(1)"
      ]
     },
     "execution_count": 197,
     "metadata": {},
     "output_type": "execute_result"
    }
   ],
   "source": [
    "X[13,2] # 13th example, 2nd character"
   ]
  },
  {
   "cell_type": "code",
   "execution_count": 198,
   "metadata": {},
   "outputs": [
    {
     "data": {
      "text/plain": [
       "tensor([ 0.5352, -1.6474])"
      ]
     },
     "execution_count": 198,
     "metadata": {},
     "output_type": "execute_result"
    }
   ],
   "source": [
    "C[X[13,2]] # embedding of the 13th example, 2nd character"
   ]
  },
  {
   "cell_type": "code",
   "execution_count": 199,
   "metadata": {},
   "outputs": [
    {
     "data": {
      "text/plain": [
       "tensor([ 0.5352, -1.6474])"
      ]
     },
     "execution_count": 199,
     "metadata": {},
     "output_type": "execute_result"
    }
   ],
   "source": [
    "C[1]"
   ]
  },
  {
   "cell_type": "code",
   "execution_count": 200,
   "metadata": {},
   "outputs": [
    {
     "data": {
      "text/plain": [
       "torch.Size([212725, 3, 2])"
      ]
     },
     "execution_count": 200,
     "metadata": {},
     "output_type": "execute_result"
    }
   ],
   "source": [
    "emb = C[X]\n",
    "emb.shape"
   ]
  },
  {
   "cell_type": "code",
   "execution_count": 201,
   "metadata": {},
   "outputs": [],
   "source": [
    "# Constructing the hidden layer\n",
    "W1 = torch.randn((6, 100))\n",
    "b1 = torch.randn(100)"
   ]
  },
  {
   "cell_type": "code",
   "execution_count": 202,
   "metadata": {},
   "outputs": [],
   "source": [
    "h = emb.view(-1, 6) @ W1 + b1"
   ]
  },
  {
   "cell_type": "code",
   "execution_count": 203,
   "metadata": {},
   "outputs": [
    {
     "data": {
      "text/plain": [
       "tensor([[-2.0890, -7.9114, 10.7474,  ..., -1.3549,  0.1520, -8.5666],\n",
       "        [-1.5446, -5.1050,  8.4997,  ..., -1.2745,  2.9149, -0.8455],\n",
       "        [-4.6651, -5.8156,  4.7812,  ..., -0.3017,  7.0756, -2.4895],\n",
       "        ...,\n",
       "        [ 5.1452,  4.1186, -6.1267,  ...,  1.7317, -0.4979,  4.5610],\n",
       "        [ 3.0741,  6.7322, -4.8757,  ...,  0.1303,  0.2120, -1.8144],\n",
       "        [ 3.7521,  0.9668, -2.9543,  ..., -1.8094, -1.0583, -0.0192]])"
      ]
     },
     "execution_count": 203,
     "metadata": {},
     "output_type": "execute_result"
    }
   ],
   "source": [
    "h"
   ]
  },
  {
   "cell_type": "code",
   "execution_count": 204,
   "metadata": {},
   "outputs": [],
   "source": [
    "# torch.cat([emb[:, 0, :], emb[:, 1, :], emb[:, 2, :]], 1).shape # first, second, third characters of the first example concatenated"
   ]
  },
  {
   "cell_type": "code",
   "execution_count": 205,
   "metadata": {},
   "outputs": [],
   "source": [
    "# torch.cat(torch.unbind(emb, 1), 1).shape # split the tensor along the second dimension"
   ]
  },
  {
   "cell_type": "code",
   "execution_count": 206,
   "metadata": {},
   "outputs": [
    {
     "data": {
      "text/plain": [
       "tensor([ 0,  1,  2,  3,  4,  5,  6,  7,  8,  9, 10, 11, 12, 13, 14, 15, 16, 17])"
      ]
     },
     "execution_count": 206,
     "metadata": {},
     "output_type": "execute_result"
    }
   ],
   "source": [
    "a = torch.arange(18)\n",
    "a"
   ]
  },
  {
   "cell_type": "code",
   "execution_count": 207,
   "metadata": {},
   "outputs": [
    {
     "data": {
      "text/plain": [
       "torch.Size([18])"
      ]
     },
     "execution_count": 207,
     "metadata": {},
     "output_type": "execute_result"
    }
   ],
   "source": [
    "a.shape"
   ]
  },
  {
   "cell_type": "code",
   "execution_count": 208,
   "metadata": {},
   "outputs": [
    {
     "data": {
      "text/plain": [
       "tensor([[ 0,  1,  2,  3,  4,  5,  6,  7,  8],\n",
       "        [ 9, 10, 11, 12, 13, 14, 15, 16, 17]])"
      ]
     },
     "execution_count": 208,
     "metadata": {},
     "output_type": "execute_result"
    }
   ],
   "source": [
    "a.view(2, 9) # view as 2x9 matrix"
   ]
  },
  {
   "cell_type": "code",
   "execution_count": 209,
   "metadata": {},
   "outputs": [
    {
     "data": {
      "text/plain": [
       "tensor([[ 0,  1],\n",
       "        [ 2,  3],\n",
       "        [ 4,  5],\n",
       "        [ 6,  7],\n",
       "        [ 8,  9],\n",
       "        [10, 11],\n",
       "        [12, 13],\n",
       "        [14, 15],\n",
       "        [16, 17]])"
      ]
     },
     "execution_count": 209,
     "metadata": {},
     "output_type": "execute_result"
    }
   ],
   "source": [
    "a.view(9, 2)"
   ]
  },
  {
   "cell_type": "code",
   "execution_count": 210,
   "metadata": {},
   "outputs": [
    {
     "data": {
      "text/plain": [
       "tensor([[[ 0,  1],\n",
       "         [ 2,  3],\n",
       "         [ 4,  5]],\n",
       "\n",
       "        [[ 6,  7],\n",
       "         [ 8,  9],\n",
       "         [10, 11]],\n",
       "\n",
       "        [[12, 13],\n",
       "         [14, 15],\n",
       "         [16, 17]]])"
      ]
     },
     "execution_count": 210,
     "metadata": {},
     "output_type": "execute_result"
    }
   ],
   "source": [
    "a.view(3, 3, 2)"
   ]
  },
  {
   "cell_type": "code",
   "execution_count": 211,
   "metadata": {},
   "outputs": [
    {
     "data": {
      "text/plain": [
       " 0\n",
       " 1\n",
       " 2\n",
       " 3\n",
       " 4\n",
       " 5\n",
       " 6\n",
       " 7\n",
       " 8\n",
       " 9\n",
       " 10\n",
       " 11\n",
       " 12\n",
       " 13\n",
       " 14\n",
       " 15\n",
       " 16\n",
       " 17\n",
       "[torch.storage.TypedStorage(dtype=torch.int64, device=cpu) of size 18]"
      ]
     },
     "execution_count": 211,
     "metadata": {},
     "output_type": "execute_result"
    }
   ],
   "source": [
    "a.storage() # memory address"
   ]
  },
  {
   "cell_type": "code",
   "execution_count": 212,
   "metadata": {},
   "outputs": [
    {
     "data": {
      "text/plain": [
       "torch.Size([212725, 3, 2])"
      ]
     },
     "execution_count": 212,
     "metadata": {},
     "output_type": "execute_result"
    }
   ],
   "source": [
    "emb.shape"
   ]
  },
  {
   "cell_type": "code",
   "execution_count": 213,
   "metadata": {},
   "outputs": [],
   "source": [
    "# emb.view(32, 6) == torch.cat(torch.unbind(emb, 1), 1)"
   ]
  },
  {
   "cell_type": "code",
   "execution_count": 214,
   "metadata": {},
   "outputs": [],
   "source": [
    "h = torch.tanh(emb.view(-1, 6) @ W1 + b1)"
   ]
  },
  {
   "cell_type": "code",
   "execution_count": 215,
   "metadata": {},
   "outputs": [
    {
     "data": {
      "text/plain": [
       "tensor([[-0.9698, -1.0000,  1.0000,  ..., -0.8752,  0.1508, -1.0000],\n",
       "        [-0.9129, -0.9999,  1.0000,  ..., -0.8550,  0.9941, -0.6887],\n",
       "        [-0.9998, -1.0000,  0.9999,  ..., -0.2928,  1.0000, -0.9863],\n",
       "        ...,\n",
       "        [ 0.9999,  0.9995, -1.0000,  ...,  0.9393, -0.4604,  0.9998],\n",
       "        [ 0.9957,  1.0000, -0.9999,  ...,  0.1295,  0.2089, -0.9483],\n",
       "        [ 0.9989,  0.7473, -0.9946,  ..., -0.9478, -0.7850, -0.0192]])"
      ]
     },
     "execution_count": 215,
     "metadata": {},
     "output_type": "execute_result"
    }
   ],
   "source": [
    "h"
   ]
  },
  {
   "cell_type": "code",
   "execution_count": 216,
   "metadata": {},
   "outputs": [
    {
     "data": {
      "text/plain": [
       "torch.Size([212725, 100])"
      ]
     },
     "execution_count": 216,
     "metadata": {},
     "output_type": "execute_result"
    }
   ],
   "source": [
    "h.shape"
   ]
  },
  {
   "cell_type": "code",
   "execution_count": 217,
   "metadata": {},
   "outputs": [
    {
     "data": {
      "text/plain": [
       "torch.Size([212725, 100])"
      ]
     },
     "execution_count": 217,
     "metadata": {},
     "output_type": "execute_result"
    }
   ],
   "source": [
    "(emb.view(-1, 6) @ W1).shape"
   ]
  },
  {
   "cell_type": "code",
   "execution_count": 218,
   "metadata": {},
   "outputs": [
    {
     "data": {
      "text/plain": [
       "torch.Size([100])"
      ]
     },
     "execution_count": 218,
     "metadata": {},
     "output_type": "execute_result"
    }
   ],
   "source": [
    "b1.shape"
   ]
  },
  {
   "cell_type": "code",
   "execution_count": 219,
   "metadata": {},
   "outputs": [],
   "source": [
    "# 32, 100\n",
    "# broadcasting to 100\n",
    "# 1 , 100"
   ]
  },
  {
   "cell_type": "code",
   "execution_count": 220,
   "metadata": {},
   "outputs": [],
   "source": [
    "# Creating the final layer (output layer)\n",
    "W2 = torch.randn(100, 27)\n",
    "b2 = torch.randn(27)"
   ]
  },
  {
   "cell_type": "code",
   "execution_count": 221,
   "metadata": {},
   "outputs": [],
   "source": [
    "logits = h @ W2 + b2"
   ]
  },
  {
   "cell_type": "code",
   "execution_count": 222,
   "metadata": {},
   "outputs": [
    {
     "data": {
      "text/plain": [
       "torch.Size([212725, 27])"
      ]
     },
     "execution_count": 222,
     "metadata": {},
     "output_type": "execute_result"
    }
   ],
   "source": [
    "logits.shape"
   ]
  },
  {
   "cell_type": "code",
   "execution_count": 223,
   "metadata": {},
   "outputs": [],
   "source": [
    "counts = logits.exp()"
   ]
  },
  {
   "cell_type": "code",
   "execution_count": 224,
   "metadata": {},
   "outputs": [],
   "source": [
    "prob = counts / counts.sum(-1, keepdim=True)"
   ]
  },
  {
   "cell_type": "code",
   "execution_count": 225,
   "metadata": {},
   "outputs": [
    {
     "data": {
      "text/plain": [
       "torch.Size([212725, 27])"
      ]
     },
     "execution_count": 225,
     "metadata": {},
     "output_type": "execute_result"
    }
   ],
   "source": [
    "prob.shape"
   ]
  },
  {
   "cell_type": "code",
   "execution_count": 226,
   "metadata": {},
   "outputs": [
    {
     "data": {
      "text/plain": [
       "tensor([[2.1418e-05, 2.5747e-06, 2.4741e-03,  ..., 4.6982e-10, 3.0663e-07,\n",
       "         1.8508e-06],\n",
       "        [1.2659e-07, 1.8981e-08, 3.3634e-09,  ..., 6.2836e-06, 1.5867e-10,\n",
       "         4.8086e-04],\n",
       "        [3.0487e-09, 1.3044e-04, 6.8108e-07,  ..., 2.3791e-02, 3.8081e-09,\n",
       "         1.7835e-05],\n",
       "        ...,\n",
       "        [1.3193e-06, 2.2135e-08, 5.2653e-11,  ..., 8.6223e-11, 3.9051e-04,\n",
       "         8.7195e-09],\n",
       "        [2.1540e-05, 4.5450e-12, 7.6124e-05,  ..., 7.9294e-10, 7.9628e-01,\n",
       "         2.7153e-13],\n",
       "        [9.3199e-07, 7.4203e-02, 3.6436e-06,  ..., 1.7779e-09, 4.0224e-02,\n",
       "         6.8946e-12]])"
      ]
     },
     "execution_count": 226,
     "metadata": {},
     "output_type": "execute_result"
    }
   ],
   "source": [
    "prob"
   ]
  },
  {
   "cell_type": "code",
   "execution_count": 227,
   "metadata": {},
   "outputs": [
    {
     "data": {
      "text/plain": [
       "tensor(1.0000)"
      ]
     },
     "execution_count": 227,
     "metadata": {},
     "output_type": "execute_result"
    }
   ],
   "source": [
    "prob[0].sum() # normalized"
   ]
  },
  {
   "cell_type": "code",
   "execution_count": 228,
   "metadata": {},
   "outputs": [
    {
     "data": {
      "text/plain": [
       "tensor([ 1,  1,  2,  ..., 26, 24,  0])"
      ]
     },
     "execution_count": 228,
     "metadata": {},
     "output_type": "execute_result"
    }
   ],
   "source": [
    "Y # labels"
   ]
  },
  {
   "cell_type": "code",
   "execution_count": 229,
   "metadata": {},
   "outputs": [
    {
     "data": {
      "text/plain": [
       "tensor([ 0,  1,  2,  3,  4,  5,  6,  7,  8,  9, 10, 11, 12, 13, 14, 15, 16, 17,\n",
       "        18, 19, 20, 21, 22, 23, 24, 25, 26, 27, 28, 29, 30, 31, 32, 33, 34, 35])"
      ]
     },
     "execution_count": 229,
     "metadata": {},
     "output_type": "execute_result"
    }
   ],
   "source": [
    "torch.arange(36)"
   ]
  },
  {
   "cell_type": "code",
   "execution_count": 230,
   "metadata": {},
   "outputs": [],
   "source": [
    "# prob[torch.arange(36), Y] # probabilities of the true characters"
   ]
  },
  {
   "cell_type": "code",
   "execution_count": 231,
   "metadata": {},
   "outputs": [],
   "source": [
    "# loss = -prob[torch.arange(36), Y].log().mean() # cross entropy loss\n",
    "# loss"
   ]
  },
  {
   "cell_type": "code",
   "execution_count": 232,
   "metadata": {},
   "outputs": [],
   "source": [
    "# ----------------- Summary -----------------"
   ]
  },
  {
   "cell_type": "code",
   "execution_count": 233,
   "metadata": {},
   "outputs": [
    {
     "data": {
      "text/plain": [
       "(torch.Size([170379, 3]), torch.Size([170379]))"
      ]
     },
     "execution_count": 233,
     "metadata": {},
     "output_type": "execute_result"
    }
   ],
   "source": [
    "Xtr.shape, Ytr.shape"
   ]
  },
  {
   "cell_type": "code",
   "execution_count": 234,
   "metadata": {},
   "outputs": [],
   "source": [
    "g = torch.Generator().manual_seed(2147483647) # seed for reproducibility\n",
    "C = torch.randn((27, 10), generator=g) # character embeddings\n",
    "W1 = torch.randn((30, 200), generator=g)  # hidden layer\n",
    "b1 = torch.randn(200, generator=g) # bias\n",
    "W2 = torch.randn(200, 27, generator=g)  # output layer\n",
    "b2 = torch.randn(27, generator=g) # bias\n",
    "parameters = [C, W1, b1, W2, b2] # all parameters"
   ]
  },
  {
   "cell_type": "code",
   "execution_count": 235,
   "metadata": {},
   "outputs": [
    {
     "data": {
      "text/plain": [
       "11897"
      ]
     },
     "execution_count": 235,
     "metadata": {},
     "output_type": "execute_result"
    }
   ],
   "source": [
    "sum(p.nelement() for p in parameters) # total number of parameters"
   ]
  },
  {
   "cell_type": "code",
   "execution_count": 236,
   "metadata": {},
   "outputs": [],
   "source": [
    "# Enabling gradient computation\n",
    "for p in parameters:\n",
    "  p.requires_grad = True"
   ]
  },
  {
   "cell_type": "code",
   "execution_count": 237,
   "metadata": {},
   "outputs": [],
   "source": [
    "# finding out the learning rate\n",
    "lre = torch.linspace(-3, 0, 1000) # 1000 points between 0.001 and 1\n",
    "lrs = 10 ** lre # learning rates\n",
    "# lrs"
   ]
  },
  {
   "cell_type": "code",
   "execution_count": 238,
   "metadata": {},
   "outputs": [],
   "source": [
    "lri = []\n",
    "lossi = []\n",
    "step = []"
   ]
  },
  {
   "cell_type": "code",
   "execution_count": 239,
   "metadata": {},
   "outputs": [],
   "source": [
    "# Training loop\n",
    "for i in range(50000): # iterations\n",
    "\n",
    "# mini-batch construction\n",
    "  ix = torch.randint(0, Xtr.shape[0], (36,)) # 36 random indices from the dataset\n",
    "# Forward pass\n",
    "\n",
    "  emb = C[Xtr[ix]] # embedding \n",
    "  h = torch.tanh(emb.view(-1, 30) @ W1 + b1) # hidden layer\n",
    "  logits = h @ W2 + b2 # output layer\n",
    "# counts = logits.exp() # unnormalized probabilities\n",
    "# prob = counts / counts.sum(1, keepdim=True) # normalized probabilities\n",
    "# loss = -prob[torch.arange(36), Y].log().mean() # cross entropy loss\n",
    "#  but never use the above code in practice as it is not efficient and numerically unstable\n",
    "  loss = F.cross_entropy(logits, Ytr[ix]) # cross entropy loss\n",
    "  # print(loss.item())\n",
    "\n",
    "\n",
    "  # Backward pass\n",
    "  for p in parameters:\n",
    "    p.grad = None\n",
    "\n",
    "  loss.backward()\n",
    "\n",
    "  # Update\n",
    "  # lr = lrs[i]\n",
    "  lr = 0.01\n",
    "  for p in parameters:\n",
    "    p.data += -lr * p.grad # learning rate e.g. -1 (lr)\n",
    "\n",
    "  # track stats\n",
    "  # lri.append(lre[i])\n",
    "  step.append(i)\n",
    "  lossi.append(loss.log10().item())  "
   ]
  },
  {
   "cell_type": "code",
   "execution_count": 240,
   "metadata": {},
   "outputs": [
    {
     "name": "stdout",
     "output_type": "stream",
     "text": [
      "2.0265558760002023e-06\n"
     ]
    }
   ],
   "source": [
    "print(loss.item())  "
   ]
  },
  {
   "cell_type": "code",
   "execution_count": 241,
   "metadata": {},
   "outputs": [],
   "source": [
    "# plt.plot(lri, lossi)\n",
    "# plt.xscale('log')"
   ]
  },
  {
   "cell_type": "code",
   "execution_count": 242,
   "metadata": {},
   "outputs": [],
   "source": [
    "# F.cross_entropy(logits, Y) # PyTorch's implementation of cross entropy we can put the cross entropy directly in this code with the help of Pytorch directly in this code which will be more efficient for forward pass and backward pass and numerical stability."
   ]
  },
  {
   "cell_type": "code",
   "execution_count": 243,
   "metadata": {},
   "outputs": [
    {
     "data": {
      "text/plain": [
       "torch.return_types.max(\n",
       "values=tensor([30.6286, 30.6286, 30.6286, 30.6286, 30.6286, 30.6286, 30.6286, 30.6286,\n",
       "        30.6286, 30.6286, 30.6286, 30.6286, 30.6286, 30.6286, 30.6286, 30.6286,\n",
       "        30.6286, 30.6286, 30.6286, 30.6286, 30.6286, 30.6286, 30.6286, 30.6286,\n",
       "        30.6286, 30.6286, 30.6286, 30.6286, 30.6286, 30.6286, 30.6286, 30.6286,\n",
       "        30.6286, 30.6286, 30.6286, 30.6286], grad_fn=<MaxBackward0>),\n",
       "indices=tensor([0, 0, 0, 0, 0, 0, 0, 0, 0, 0, 0, 0, 0, 0, 0, 0, 0, 0, 0, 0, 0, 0, 0, 0,\n",
       "        0, 0, 0, 0, 0, 0, 0, 0, 0, 0, 0, 0]))"
      ]
     },
     "execution_count": 243,
     "metadata": {},
     "output_type": "execute_result"
    }
   ],
   "source": [
    "logits.max(1) # max in python is a function that returns two values: the maximum value and its index"
   ]
  },
  {
   "cell_type": "code",
   "execution_count": 244,
   "metadata": {},
   "outputs": [
    {
     "data": {
      "text/plain": [
       "tensor([ 1,  1,  2,  ..., 26, 24,  0])"
      ]
     },
     "execution_count": 244,
     "metadata": {},
     "output_type": "execute_result"
    }
   ],
   "source": [
    "Y # labels"
   ]
  },
  {
   "cell_type": "code",
   "execution_count": 245,
   "metadata": {},
   "outputs": [
    {
     "data": {
      "text/plain": [
       "tensor([143353, 130774, 171731, 124893, 180625,  62974, 174274,  19097, 193049,\n",
       "         66477,  34611, 166457,  94864,  69560,  51841, 208913, 169818,  60051,\n",
       "         15449, 204467, 163286,  97528, 196664, 127293,  62891, 179840, 193482,\n",
       "        135105,  80905,  17885,  21186, 106171,  52004, 164486, 139079, 112662])"
      ]
     },
     "execution_count": 245,
     "metadata": {},
     "output_type": "execute_result"
    }
   ],
   "source": [
    "# creating minibatches\n",
    "torch.randint(0, X.shape[0], (36,)) # random integers between 0 and 4"
   ]
  },
  {
   "cell_type": "code",
   "execution_count": 246,
   "metadata": {},
   "outputs": [
    {
     "data": {
      "text/plain": [
       "tensor(2.0266e-06, grad_fn=<NllLossBackward0>)"
      ]
     },
     "execution_count": 246,
     "metadata": {},
     "output_type": "execute_result"
    }
   ],
   "source": [
    "# evaluation\n",
    "\n",
    "emb = C[Xdev] # embedding \n",
    "h = torch.tanh(emb.view(-1, 30) @ W1 + b1) # hidden layer\n",
    "logits = h @ W2 + b2 # output layer\n",
    "loss = F.cross_entropy(logits, Ydev) # cross entropy loss\n",
    "loss\n"
   ]
  },
  {
   "cell_type": "code",
   "execution_count": 247,
   "metadata": {},
   "outputs": [
    {
     "data": {
      "text/plain": [
       "tensor(2.0266e-06, grad_fn=<NllLossBackward0>)"
      ]
     },
     "execution_count": 247,
     "metadata": {},
     "output_type": "execute_result"
    }
   ],
   "source": [
    "# loss on training set\n",
    "emb = C[Xtr] # embedding\n",
    "h = torch.tanh(emb.view(-1, 30) @ W1 + b1) # hidden layer\n",
    "logits = h @ W2 + b2 # output layer\n",
    "loss = F.cross_entropy(logits, Ytr) # cross entropy loss\n",
    "loss"
   ]
  },
  {
   "cell_type": "code",
   "execution_count": 248,
   "metadata": {},
   "outputs": [],
   "source": [
    "# plt.figure(figsize=(8, 8))\n",
    "# plt.scatter(C[:, 0].data, C[:, 1].data, s=200) # x and y coordinates of the embeddings\n",
    "# for i in range(C.shape[0]):\n",
    "  # plt.text(C[i, 0].item(), C[i, 1].item(), itos[i], ha='center', va='center', color='white')\n",
    "# plt.grid('minor')"
   ]
  },
  {
   "cell_type": "code",
   "execution_count": 249,
   "metadata": {},
   "outputs": [],
   "source": [
    "# Training split, dev / validation split, test split\n",
    "# Training split: 80% of the data\n",
    "# Dev split: 10% of the data\n",
    "# Test split: 10% of the data"
   ]
  },
  {
   "cell_type": "code",
   "execution_count": null,
   "metadata": {},
   "outputs": [
    {
     "name": "stdout",
     "output_type": "stream",
     "text": [
      "djdyhdyrhguyozvwucovwthslrhcgfccamhjryhcyysewgmtiojyhguyozvyyhjkdokhdnesexjkcynsrqhs.\n",
      "djdyhvzkhjkdixjyrnuhjryhcyysewgwydiejoyhshodydiejoyhshvyyhjkdokhdneshciyfvyrhguyozvyyhjkdokhdnesewgmtiofvwovsvwidtesjrhguyozvwucovwthsewgmtiojyhguyozvwths.\n",
      "dzdyxzvkhhjkdokhdnejkyoadiddadiddadiddadiddadiddadiddadiddxshvyyhjkdixjkcynsrqhs.\n",
      "djdyhdyrzucovwidtesjrhguyozvwths.\n",
      "djdyhddrzshvyyhjkdixjyrnuhddrewaesyxshvyyhjkyixfkcoyhshojyhguyozvyycoewidigdyxzvkhhjkdoewiekkoovwthslrhcgfyckyfkjryhcyryhcyysovyyhjkdokhdnesewgmtiofvwthslkdaadjdyhdyrhgcbyhshodydiejoyhshojyhguyozvwucovwths.\n",
      "djdyhddrzvwucovwths.\n",
      "djdyhddrewaejkhgkbdnrzccvnhguyozvwtesjrhgiddadiddadiddadiddaddrzvwthslrhcgfccamhjkdokhdnesewgmtiofvwaejy.\n",
      "djdyhshojyhguyrrhshodydiejoyhshwjkhgkbdnrzccvnhguyozvwucovwthslrfucovwthsjkhgkbdnrzccvnhguyozvyycoesyxshvyyhdyrzgthxjyrnuxjnhguyozvwuhjryhcyysewgmtiofvwovsmcjkhgkbdnesewgmtiojyhguyozvyycjyigdyxzvkhhjkdokhdnesexjkcynsrqhs.\n",
      "djdyhddrzvwucovwthsloduhadiddadiddadiddxshvyyhjkdixjyrhguyozvwths.\n",
      "djdyhdyrhgigdyxshvyycoeshwjkhgkbdnrzccvnhguyozvyyhjkdgxjyrngtexjkcynsrqhs.\n",
      "dzdyxzvkhhjkdixjyrhguyozvwthslkdjxvccvnhguyozvwucoyhshgfltraexjkcynurauxjnhguyozvwuhjryhcyysewgmtiojyhguyozvwuhjryhcyysewgmtiofvyrhgdfsnxshvyyhjkdokhdnesexjkcynsrnshxjyrnuhddrvyvcyhguyozvwuhjryhcyyhddrzvwuhjryhcyysewgmtiofvyrhguyozvyyhjkrhxvymhjryhcyysewgmtiofvwovsvcvvkhhjkdgxheoyhshgfltrnjrqhs.\n",
      "djdyhdyrzgthxjyrhgcywcmdurhszkdfkhojyhguyozvwucoyhshodydiejoyhshwjwyhshojyhguyozvwuhjryhcyyshvyyhjkdixjyrnuxjnhguyozvwthslrduhjryhcyysewgmtiodhshwjkhgkbdnrzccvnhguyozvwuhjryhcyysewgkhrzkhjkyozvwths.\n",
      "djdyhddrshvyycoeshwjwtesjrhguyozvwucovwthslrfucovwiekkouhjryhcyysewgmtiodhshfyyoadiddxshvyyhjkdokhdnesexjkcynsrnshxjyrnuxjkcynsrqhs.\n",
      "djdyhddradiddadiddadiddxshvyyhdyrzucovwixtyxfvwaesyxshvyyhjkyojvwucovwidtesjrhguyozvwthslrhxvymhjkdokhdnesexjkcynsrqhs.\n",
      "djdyhdyrzucovwthsewgmtiofvyrhgdfxwtesjrhgigdyxzvkhhjktixjyrnuxjkcynsrqhs.\n",
      "djdyhddrzvwucovwixtyxfvwovsvwidtesjrhguyozvwuhjryhcyysewgmtiofvyrhguyozvwthslrhcgfy.\n",
      "dzdyxzvkhhjkdokhdnesexjkcynsrqhs.\n",
      "djdyhdyrzgthxjyrhgtfxjkcynsrnshxjyrnuxjkkhgkbdnesewgmtiodhshwjwtesjrhguyozvwucovwixtyxfvyrhguyozvyycjyhguyozvwucovwthslrhcgfccyhguyozvwucovwixfyokhdngdhejy.\n",
      "dzdyxzvkhhjkdokhdnesewgmtiofvyrhguyozvwthsewgmtiojyhguyozvwucovwthslkdoewidtesjrhguyozvyycyhguyozvwucovwidtesjrhguyozvwucovwidtesjrhgcbyhidigdyxzvkhhjkdixjyrnuxjkcynsrqhs.\n",
      "djdyhcyysewgmtiofvyrhguyozvwuhjryhcyysovyyhjkdokhindiodhshwjkhgkbdnejkyoadiddadiddxshvyycoewidtesjrhguyozvwthslkdaadjdyhddrzvwthsewgmtiojyhguyozvwucovwths.\n"
     ]
    }
   ],
   "source": [
    "# sampling from the model\n",
    "g = torch.Generator().manual_seed(2147483647 + 10) # seed for reproducibility\n",
    "\n",
    "for _ in range(20):\n",
    "\n",
    "  out = []\n",
    "  context = [0] * block_size # initialize with all dots\n",
    "  while True:\n",
    "    emb = C[torch.tensor([context])] # embedding\n",
    "    h = torch.tanh(emb.view(1, -1) @ W1 + b1) # hidden layer\n",
    "    logits = h @ W2 + b2 # output layer\n",
    "    probs = F.softmax(logits, dim=1) # probabilities\n",
    "    ix = torch.multinomial(probs, num_samples=1, generator=g).item() # sample\n",
    "    context = context[1:] + [ix] # update context\n",
    "    out.append(ix) # store index\n",
    "    if ix == 0:\n",
    "      break\n",
    "\n",
    "  print(''.join(itos[i] for i in out))"
   ]
  },
  {
   "cell_type": "code",
   "execution_count": 252,
   "metadata": {},
   "outputs": [
    {
     "name": "stdout",
     "output_type": "stream",
     "text": [
      "{1: 'a', 2: 'b', 3: 'c', 4: 'd', 5: 'e', 6: 'f', 7: 'g', 8: 'h', 9: 'i', 10: 'j', 11: 'k', 12: 'l', 13: 'm', 14: 'n', 15: 'o', 16: 'p', 17: 'q', 18: 'r', 19: 's', 20: 't', 21: 'u', 22: 'v', 23: 'w', 24: 'x', 25: 'y', 26: 'z', 0: '.'}\n"
     ]
    }
   ],
   "source": [
    "print(itos)"
   ]
  },
  {
   "cell_type": "code",
   "execution_count": null,
   "metadata": {},
   "outputs": [],
   "source": []
  }
 ],
 "metadata": {
  "kernelspec": {
   "display_name": "NN",
   "language": "python",
   "name": "python3"
  },
  "language_info": {
   "codemirror_mode": {
    "name": "ipython",
    "version": 3
   },
   "file_extension": ".py",
   "mimetype": "text/x-python",
   "name": "python",
   "nbconvert_exporter": "python",
   "pygments_lexer": "ipython3",
   "version": "3.11.11"
  }
 },
 "nbformat": 4,
 "nbformat_minor": 2
}
