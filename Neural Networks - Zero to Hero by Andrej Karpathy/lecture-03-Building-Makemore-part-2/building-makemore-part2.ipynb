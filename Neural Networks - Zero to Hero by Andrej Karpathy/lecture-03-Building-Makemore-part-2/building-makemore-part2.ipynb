{
 "cells": [
  {
   "cell_type": "code",
   "execution_count": 1,
   "metadata": {},
   "outputs": [],
   "source": [
    "# MLP - with using paper Bengio et al.2003"
   ]
  },
  {
   "cell_type": "code",
   "execution_count": 2,
   "metadata": {},
   "outputs": [],
   "source": [
    "import torch\n",
    "import torch.nn.functional as F\n",
    "import matplotlib.pyplot as plt # for making figures\n",
    "%matplotlib inline"
   ]
  },
  {
   "cell_type": "code",
   "execution_count": 3,
   "metadata": {},
   "outputs": [
    {
     "data": {
      "text/plain": [
       "['aaban', 'aabid', 'aabidah', 'aabir', 'aabriella', 'aada', 'aadam', 'aadarsh']"
      ]
     },
     "execution_count": 3,
     "metadata": {},
     "output_type": "execute_result"
    }
   ],
   "source": [
    "# read in all the words\n",
    "words = open('cleaned_names.txt', 'r').read().splitlines()\n",
    "words[:8]"
   ]
  },
  {
   "cell_type": "code",
   "execution_count": 4,
   "metadata": {},
   "outputs": [
    {
     "data": {
      "text/plain": [
       "29681"
      ]
     },
     "execution_count": 4,
     "metadata": {},
     "output_type": "execute_result"
    }
   ],
   "source": [
    "len(words)"
   ]
  },
  {
   "cell_type": "code",
   "execution_count": 5,
   "metadata": {},
   "outputs": [
    {
     "name": "stdout",
     "output_type": "stream",
     "text": [
      "{1: 'a', 2: 'b', 3: 'c', 4: 'd', 5: 'e', 6: 'f', 7: 'g', 8: 'h', 9: 'i', 10: 'j', 11: 'k', 12: 'l', 13: 'm', 14: 'n', 15: 'o', 16: 'p', 17: 'q', 18: 'r', 19: 's', 20: 't', 21: 'u', 22: 'v', 23: 'w', 24: 'x', 25: 'y', 26: 'z', 0: '.'}\n"
     ]
    }
   ],
   "source": [
    "# build the vocabulary of characters and mappings to/from integers\n",
    "chars = sorted(set(''.join(words)))\n",
    "stoi = {s:i+1 for i,s in enumerate(chars)}\n",
    "stoi['.'] = 0\n",
    "itos = {i:s for s,i in stoi.items()}\n",
    "print(itos)"
   ]
  },
  {
   "cell_type": "code",
   "execution_count": 6,
   "metadata": {},
   "outputs": [
    {
     "name": "stdout",
     "output_type": "stream",
     "text": [
      "aaban\n",
      "... ----> a\n",
      "..a ----> a\n",
      ".aa ----> b\n",
      "aab ----> a\n",
      "aba ----> n\n",
      "ban ----> .\n",
      "aabid\n",
      "... ----> a\n",
      "..a ----> a\n",
      ".aa ----> b\n",
      "aab ----> i\n",
      "abi ----> d\n",
      "bid ----> .\n",
      "aabidah\n",
      "... ----> a\n",
      "..a ----> a\n",
      ".aa ----> b\n",
      "aab ----> i\n",
      "abi ----> d\n",
      "bid ----> a\n",
      "ida ----> h\n",
      "dah ----> .\n",
      "aabir\n",
      "... ----> a\n",
      "..a ----> a\n",
      ".aa ----> b\n",
      "aab ----> i\n",
      "abi ----> r\n",
      "bir ----> .\n",
      "aabriella\n",
      "... ----> a\n",
      "..a ----> a\n",
      ".aa ----> b\n",
      "aab ----> r\n",
      "abr ----> i\n",
      "bri ----> e\n",
      "rie ----> l\n",
      "iel ----> l\n",
      "ell ----> a\n",
      "lla ----> .\n"
     ]
    }
   ],
   "source": [
    "# build the dataset\n",
    "\n",
    "block_size = 3 # context length: how many characters to use to predict the next one?\n",
    "X, Y = [], []\n",
    "for w in words[:5]:\n",
    "\n",
    "  print(w)\n",
    "  context = [0] * block_size\n",
    "  for ch in w + '.':\n",
    "    ix = stoi[ch]\n",
    "    X.append(context)\n",
    "    Y.append(ix)\n",
    "    print(''.join([itos[i] for i in context]), '---->', itos[ix])\n",
    "    context = context[1:] + [ix] # crop and append\n",
    "\n",
    "X = torch.tensor(X)\n",
    "Y = torch.tensor(Y)"
   ]
  },
  {
   "cell_type": "code",
   "execution_count": 7,
   "metadata": {},
   "outputs": [
    {
     "data": {
      "text/plain": [
       "(torch.Size([36, 3]), torch.int64, torch.Size([36]), torch.int64)"
      ]
     },
     "execution_count": 7,
     "metadata": {},
     "output_type": "execute_result"
    }
   ],
   "source": [
    "X.shape, X.dtype, Y.shape, Y.dtype "
   ]
  },
  {
   "cell_type": "code",
   "execution_count": 8,
   "metadata": {},
   "outputs": [
    {
     "data": {
      "text/plain": [
       "tensor([[ 0,  0,  0],\n",
       "        [ 0,  0,  1],\n",
       "        [ 0,  1,  1],\n",
       "        [ 1,  1,  2],\n",
       "        [ 1,  2,  1],\n",
       "        [ 2,  1, 14],\n",
       "        [ 0,  0,  0],\n",
       "        [ 0,  0,  1],\n",
       "        [ 0,  1,  1],\n",
       "        [ 1,  1,  2],\n",
       "        [ 1,  2,  9],\n",
       "        [ 2,  9,  4],\n",
       "        [ 0,  0,  0],\n",
       "        [ 0,  0,  1],\n",
       "        [ 0,  1,  1],\n",
       "        [ 1,  1,  2],\n",
       "        [ 1,  2,  9],\n",
       "        [ 2,  9,  4],\n",
       "        [ 9,  4,  1],\n",
       "        [ 4,  1,  8],\n",
       "        [ 0,  0,  0],\n",
       "        [ 0,  0,  1],\n",
       "        [ 0,  1,  1],\n",
       "        [ 1,  1,  2],\n",
       "        [ 1,  2,  9],\n",
       "        [ 2,  9, 18],\n",
       "        [ 0,  0,  0],\n",
       "        [ 0,  0,  1],\n",
       "        [ 0,  1,  1],\n",
       "        [ 1,  1,  2],\n",
       "        [ 1,  2, 18],\n",
       "        [ 2, 18,  9],\n",
       "        [18,  9,  5],\n",
       "        [ 9,  5, 12],\n",
       "        [ 5, 12, 12],\n",
       "        [12, 12,  1]])"
      ]
     },
     "execution_count": 8,
     "metadata": {},
     "output_type": "execute_result"
    }
   ],
   "source": [
    "X"
   ]
  },
  {
   "cell_type": "code",
   "execution_count": 9,
   "metadata": {},
   "outputs": [
    {
     "data": {
      "text/plain": [
       "tensor([ 1,  1,  2,  1, 14,  0,  1,  1,  2,  9,  4,  0,  1,  1,  2,  9,  4,  1,\n",
       "         8,  0,  1,  1,  2,  9, 18,  0,  1,  1,  2, 18,  9,  5, 12, 12,  1,  0])"
      ]
     },
     "execution_count": 9,
     "metadata": {},
     "output_type": "execute_result"
    }
   ],
   "source": [
    "Y # labels"
   ]
  },
  {
   "cell_type": "code",
   "execution_count": 10,
   "metadata": {},
   "outputs": [],
   "source": [
    "C = torch.randn(27, 2) # each 27 characters is represented by a 2D embedding"
   ]
  },
  {
   "cell_type": "code",
   "execution_count": 11,
   "metadata": {},
   "outputs": [
    {
     "data": {
      "text/plain": [
       "tensor([[-1.3031e+00, -3.6236e-01],\n",
       "        [ 5.5376e-01, -7.9104e-01],\n",
       "        [-6.1251e-01, -1.9578e+00],\n",
       "        [-1.6448e-02,  1.3773e+00],\n",
       "        [-5.9627e-01,  1.2749e+00],\n",
       "        [-2.2101e+00, -6.2283e-02],\n",
       "        [-2.1936e+00,  1.7788e-01],\n",
       "        [-1.3372e+00, -2.1797e+00],\n",
       "        [-1.1250e+00, -5.5517e-01],\n",
       "        [ 1.2213e+00,  4.8201e-01],\n",
       "        [ 1.2218e+00, -1.5802e+00],\n",
       "        [-1.4658e+00,  7.6298e-01],\n",
       "        [ 1.6160e+00, -1.9099e-02],\n",
       "        [-4.5613e-01, -4.3575e-01],\n",
       "        [ 1.2443e-01, -8.6932e-01],\n",
       "        [ 1.1588e+00,  1.6327e-02],\n",
       "        [ 1.6506e+00,  1.0149e+00],\n",
       "        [ 4.0574e-01,  5.1866e-01],\n",
       "        [-8.6364e-01,  5.7886e-01],\n",
       "        [-1.6941e+00,  1.2033e-03],\n",
       "        [ 1.2299e-02,  9.8640e-01],\n",
       "        [-6.8932e-01, -1.0770e-01],\n",
       "        [ 5.9519e-01,  5.2548e-01],\n",
       "        [-4.5347e-01,  1.1394e+00],\n",
       "        [-1.2553e+00, -3.8083e-01],\n",
       "        [ 7.4810e-01,  2.2655e-01],\n",
       "        [-1.2261e+00,  2.8440e-01]])"
      ]
     },
     "execution_count": 11,
     "metadata": {},
     "output_type": "execute_result"
    }
   ],
   "source": [
    "C"
   ]
  },
  {
   "cell_type": "code",
   "execution_count": 12,
   "metadata": {},
   "outputs": [
    {
     "data": {
      "text/plain": [
       "tensor([-2.2101, -0.0623])"
      ]
     },
     "execution_count": 12,
     "metadata": {},
     "output_type": "execute_result"
    }
   ],
   "source": [
    "C[5]"
   ]
  },
  {
   "cell_type": "code",
   "execution_count": 13,
   "metadata": {},
   "outputs": [
    {
     "data": {
      "text/plain": [
       "tensor([-2.2101, -0.0623])"
      ]
     },
     "execution_count": 13,
     "metadata": {},
     "output_type": "execute_result"
    }
   ],
   "source": [
    "F.one_hot(torch.tensor(5), num_classes=27).float() @ C # one hot vector"
   ]
  },
  {
   "cell_type": "code",
   "execution_count": 14,
   "metadata": {},
   "outputs": [
    {
     "data": {
      "text/plain": [
       "tensor([[-2.2101, -0.0623],\n",
       "        [-2.1936,  0.1779],\n",
       "        [-1.3372, -2.1797]])"
      ]
     },
     "execution_count": 14,
     "metadata": {},
     "output_type": "execute_result"
    }
   ],
   "source": [
    "C[[5,6,7]] # indexing with list"
   ]
  },
  {
   "cell_type": "code",
   "execution_count": 15,
   "metadata": {},
   "outputs": [
    {
     "data": {
      "text/plain": [
       "tensor([[-2.2101, -0.0623],\n",
       "        [-2.1936,  0.1779],\n",
       "        [-1.3372, -2.1797]])"
      ]
     },
     "execution_count": 15,
     "metadata": {},
     "output_type": "execute_result"
    }
   ],
   "source": [
    "C[torch.tensor([5,6,7])] # indexing with tensor"
   ]
  },
  {
   "cell_type": "code",
   "execution_count": 16,
   "metadata": {},
   "outputs": [
    {
     "data": {
      "text/plain": [
       "torch.Size([36, 3, 2])"
      ]
     },
     "execution_count": 16,
     "metadata": {},
     "output_type": "execute_result"
    }
   ],
   "source": [
    "C[X].shape"
   ]
  },
  {
   "cell_type": "code",
   "execution_count": 17,
   "metadata": {},
   "outputs": [
    {
     "data": {
      "text/plain": [
       "tensor(1)"
      ]
     },
     "execution_count": 17,
     "metadata": {},
     "output_type": "execute_result"
    }
   ],
   "source": [
    "X[13,2] # 13th example, 2nd character"
   ]
  },
  {
   "cell_type": "code",
   "execution_count": 18,
   "metadata": {},
   "outputs": [
    {
     "data": {
      "text/plain": [
       "tensor([ 0.5538, -0.7910])"
      ]
     },
     "execution_count": 18,
     "metadata": {},
     "output_type": "execute_result"
    }
   ],
   "source": [
    "C[X[13,2]] # embedding of the 13th example, 2nd character"
   ]
  },
  {
   "cell_type": "code",
   "execution_count": 19,
   "metadata": {},
   "outputs": [
    {
     "data": {
      "text/plain": [
       "tensor([ 0.5538, -0.7910])"
      ]
     },
     "execution_count": 19,
     "metadata": {},
     "output_type": "execute_result"
    }
   ],
   "source": [
    "C[1]"
   ]
  },
  {
   "cell_type": "code",
   "execution_count": 20,
   "metadata": {},
   "outputs": [
    {
     "data": {
      "text/plain": [
       "torch.Size([36, 3, 2])"
      ]
     },
     "execution_count": 20,
     "metadata": {},
     "output_type": "execute_result"
    }
   ],
   "source": [
    "emb = C[X]\n",
    "emb.shape"
   ]
  },
  {
   "cell_type": "code",
   "execution_count": 21,
   "metadata": {},
   "outputs": [],
   "source": [
    "# Constructing the hidden layer\n",
    "W1 = torch.randn((6, 100))\n",
    "b1 = torch.randn(100)"
   ]
  },
  {
   "cell_type": "code",
   "execution_count": 22,
   "metadata": {},
   "outputs": [],
   "source": [
    "h = emb.view(-1, 6) @ W1 + b1"
   ]
  },
  {
   "cell_type": "code",
   "execution_count": 23,
   "metadata": {},
   "outputs": [
    {
     "data": {
      "text/plain": [
       "tensor([[-1.8291,  3.4694, -0.8451,  ...,  1.0835,  2.7335, -1.0800],\n",
       "        [-0.2129,  3.6277, -1.5535,  ..., -1.1340,  1.8812, -3.3228],\n",
       "        [ 0.0992,  3.1450, -1.2577,  ..., -0.7864,  1.8737,  0.4081],\n",
       "        ...,\n",
       "        [-0.4359, -0.3801, -1.2317,  ..., -3.7264, -3.3775, -4.6495],\n",
       "        [ 0.5047,  1.8811, -4.0027,  ..., -1.2813,  2.8477, -0.9158],\n",
       "        [ 0.0375,  0.0330,  1.0419,  ..., -0.5893, -2.3872,  5.2425]])"
      ]
     },
     "execution_count": 23,
     "metadata": {},
     "output_type": "execute_result"
    }
   ],
   "source": [
    "h"
   ]
  },
  {
   "cell_type": "code",
   "execution_count": 24,
   "metadata": {},
   "outputs": [],
   "source": [
    "# torch.cat([emb[:, 0, :], emb[:, 1, :], emb[:, 2, :]], 1).shape # first, second, third characters of the first example concatenated"
   ]
  },
  {
   "cell_type": "code",
   "execution_count": 25,
   "metadata": {},
   "outputs": [],
   "source": [
    "# torch.cat(torch.unbind(emb, 1), 1).shape # split the tensor along the second dimension"
   ]
  },
  {
   "cell_type": "code",
   "execution_count": 26,
   "metadata": {},
   "outputs": [
    {
     "data": {
      "text/plain": [
       "tensor([ 0,  1,  2,  3,  4,  5,  6,  7,  8,  9, 10, 11, 12, 13, 14, 15, 16, 17])"
      ]
     },
     "execution_count": 26,
     "metadata": {},
     "output_type": "execute_result"
    }
   ],
   "source": [
    "a = torch.arange(18)\n",
    "a"
   ]
  },
  {
   "cell_type": "code",
   "execution_count": 27,
   "metadata": {},
   "outputs": [
    {
     "data": {
      "text/plain": [
       "torch.Size([18])"
      ]
     },
     "execution_count": 27,
     "metadata": {},
     "output_type": "execute_result"
    }
   ],
   "source": [
    "a.shape"
   ]
  },
  {
   "cell_type": "code",
   "execution_count": 28,
   "metadata": {},
   "outputs": [
    {
     "data": {
      "text/plain": [
       "tensor([[ 0,  1,  2,  3,  4,  5,  6,  7,  8],\n",
       "        [ 9, 10, 11, 12, 13, 14, 15, 16, 17]])"
      ]
     },
     "execution_count": 28,
     "metadata": {},
     "output_type": "execute_result"
    }
   ],
   "source": [
    "a.view(2, 9) # view as 2x9 matrix"
   ]
  },
  {
   "cell_type": "code",
   "execution_count": 29,
   "metadata": {},
   "outputs": [
    {
     "data": {
      "text/plain": [
       "tensor([[ 0,  1],\n",
       "        [ 2,  3],\n",
       "        [ 4,  5],\n",
       "        [ 6,  7],\n",
       "        [ 8,  9],\n",
       "        [10, 11],\n",
       "        [12, 13],\n",
       "        [14, 15],\n",
       "        [16, 17]])"
      ]
     },
     "execution_count": 29,
     "metadata": {},
     "output_type": "execute_result"
    }
   ],
   "source": [
    "a.view(9, 2)"
   ]
  },
  {
   "cell_type": "code",
   "execution_count": 30,
   "metadata": {},
   "outputs": [
    {
     "data": {
      "text/plain": [
       "tensor([[[ 0,  1],\n",
       "         [ 2,  3],\n",
       "         [ 4,  5]],\n",
       "\n",
       "        [[ 6,  7],\n",
       "         [ 8,  9],\n",
       "         [10, 11]],\n",
       "\n",
       "        [[12, 13],\n",
       "         [14, 15],\n",
       "         [16, 17]]])"
      ]
     },
     "execution_count": 30,
     "metadata": {},
     "output_type": "execute_result"
    }
   ],
   "source": [
    "a.view(3, 3, 2)"
   ]
  },
  {
   "cell_type": "code",
   "execution_count": 31,
   "metadata": {},
   "outputs": [
    {
     "name": "stderr",
     "output_type": "stream",
     "text": [
      "C:\\Users\\DC\\AppData\\Local\\Temp\\ipykernel_10696\\3903475333.py:1: UserWarning: TypedStorage is deprecated. It will be removed in the future and UntypedStorage will be the only storage class. This should only matter to you if you are using storages directly.  To access UntypedStorage directly, use tensor.untyped_storage() instead of tensor.storage()\n",
      "  a.storage() # memory address\n"
     ]
    },
    {
     "data": {
      "text/plain": [
       " 0\n",
       " 1\n",
       " 2\n",
       " 3\n",
       " 4\n",
       " 5\n",
       " 6\n",
       " 7\n",
       " 8\n",
       " 9\n",
       " 10\n",
       " 11\n",
       " 12\n",
       " 13\n",
       " 14\n",
       " 15\n",
       " 16\n",
       " 17\n",
       "[torch.storage.TypedStorage(dtype=torch.int64, device=cpu) of size 18]"
      ]
     },
     "execution_count": 31,
     "metadata": {},
     "output_type": "execute_result"
    }
   ],
   "source": [
    "a.storage() # memory address"
   ]
  },
  {
   "cell_type": "code",
   "execution_count": 32,
   "metadata": {},
   "outputs": [
    {
     "data": {
      "text/plain": [
       "torch.Size([36, 3, 2])"
      ]
     },
     "execution_count": 32,
     "metadata": {},
     "output_type": "execute_result"
    }
   ],
   "source": [
    "emb.shape"
   ]
  },
  {
   "cell_type": "code",
   "execution_count": 33,
   "metadata": {},
   "outputs": [],
   "source": [
    "# emb.view(32, 6) == torch.cat(torch.unbind(emb, 1), 1)"
   ]
  },
  {
   "cell_type": "code",
   "execution_count": 34,
   "metadata": {},
   "outputs": [],
   "source": [
    "h = torch.tanh(emb.view(-1, 6) @ W1 + b1)"
   ]
  },
  {
   "cell_type": "code",
   "execution_count": 35,
   "metadata": {},
   "outputs": [
    {
     "data": {
      "text/plain": [
       "tensor([[-0.9497,  0.9981, -0.6885,  ...,  0.7945,  0.9916, -0.7932],\n",
       "        [-0.2098,  0.9986, -0.9144,  ..., -0.8124,  0.9546, -0.9974],\n",
       "        [ 0.0989,  0.9963, -0.8504,  ..., -0.6564,  0.9539,  0.3869],\n",
       "        ...,\n",
       "        [-0.4102, -0.3628, -0.8431,  ..., -0.9988, -0.9977, -0.9998],\n",
       "        [ 0.4658,  0.9546, -0.9993,  ..., -0.8568,  0.9933, -0.7239],\n",
       "        [ 0.0374,  0.0330,  0.7786,  ..., -0.5294, -0.9833,  0.9999]])"
      ]
     },
     "execution_count": 35,
     "metadata": {},
     "output_type": "execute_result"
    }
   ],
   "source": [
    "h"
   ]
  },
  {
   "cell_type": "code",
   "execution_count": 36,
   "metadata": {},
   "outputs": [
    {
     "data": {
      "text/plain": [
       "torch.Size([36, 100])"
      ]
     },
     "execution_count": 36,
     "metadata": {},
     "output_type": "execute_result"
    }
   ],
   "source": [
    "h.shape"
   ]
  },
  {
   "cell_type": "code",
   "execution_count": 37,
   "metadata": {},
   "outputs": [
    {
     "data": {
      "text/plain": [
       "torch.Size([36, 100])"
      ]
     },
     "execution_count": 37,
     "metadata": {},
     "output_type": "execute_result"
    }
   ],
   "source": [
    "(emb.view(-1, 6) @ W1).shape"
   ]
  },
  {
   "cell_type": "code",
   "execution_count": 38,
   "metadata": {},
   "outputs": [
    {
     "data": {
      "text/plain": [
       "torch.Size([100])"
      ]
     },
     "execution_count": 38,
     "metadata": {},
     "output_type": "execute_result"
    }
   ],
   "source": [
    "b1.shape"
   ]
  },
  {
   "cell_type": "code",
   "execution_count": 39,
   "metadata": {},
   "outputs": [],
   "source": [
    "# 32, 100\n",
    "# broadcasting to 100\n",
    "# 1 , 100"
   ]
  },
  {
   "cell_type": "code",
   "execution_count": 40,
   "metadata": {},
   "outputs": [],
   "source": [
    "# Creating the final layer (output layer)\n",
    "W2 = torch.randn(100, 27)\n",
    "b2 = torch.randn(27)"
   ]
  },
  {
   "cell_type": "code",
   "execution_count": 41,
   "metadata": {},
   "outputs": [],
   "source": [
    "logits = h @ W2 + b2"
   ]
  },
  {
   "cell_type": "code",
   "execution_count": 42,
   "metadata": {},
   "outputs": [
    {
     "data": {
      "text/plain": [
       "torch.Size([36, 27])"
      ]
     },
     "execution_count": 42,
     "metadata": {},
     "output_type": "execute_result"
    }
   ],
   "source": [
    "logits.shape"
   ]
  },
  {
   "cell_type": "code",
   "execution_count": 43,
   "metadata": {},
   "outputs": [],
   "source": [
    "counts = logits.exp()"
   ]
  },
  {
   "cell_type": "code",
   "execution_count": 44,
   "metadata": {},
   "outputs": [],
   "source": [
    "prob = counts / counts.sum(-1, keepdim=True)"
   ]
  },
  {
   "cell_type": "code",
   "execution_count": 45,
   "metadata": {},
   "outputs": [
    {
     "data": {
      "text/plain": [
       "torch.Size([36, 27])"
      ]
     },
     "execution_count": 45,
     "metadata": {},
     "output_type": "execute_result"
    }
   ],
   "source": [
    "prob.shape"
   ]
  },
  {
   "cell_type": "code",
   "execution_count": 46,
   "metadata": {},
   "outputs": [
    {
     "data": {
      "text/plain": [
       "tensor([[5.6259e-03, 4.0365e-14, 1.1220e-12, 1.6429e-03, 6.2425e-07, 8.6124e-05,\n",
       "         9.3170e-07, 2.1305e-06, 7.4542e-07, 2.1513e-10, 4.9405e-08, 1.0103e-05,\n",
       "         1.7605e-06, 8.5938e-12, 1.2277e-10, 1.9547e-09, 2.9952e-07, 9.7833e-01,\n",
       "         9.0586e-04, 7.4724e-10, 1.3368e-02, 4.4159e-09, 1.2711e-06, 1.9221e-09,\n",
       "         4.5382e-10, 2.4110e-05, 2.2118e-10],\n",
       "        [4.1534e-04, 1.6842e-16, 8.7745e-11, 4.9786e-05, 8.0236e-09, 1.2244e-04,\n",
       "         1.9372e-08, 5.9999e-08, 9.3224e-01, 5.7765e-10, 1.6939e-10, 1.0296e-08,\n",
       "         4.4263e-07, 1.3931e-15, 3.7864e-10, 8.8024e-14, 6.3250e-06, 6.7028e-02,\n",
       "         9.3245e-10, 3.6358e-08, 1.6869e-07, 4.2361e-08, 4.3533e-13, 1.8655e-10,\n",
       "         8.3037e-11, 1.3917e-04, 1.1000e-07],\n",
       "        [4.1598e-05, 1.6091e-13, 1.4843e-10, 5.1148e-01, 2.8232e-06, 3.9842e-05,\n",
       "         2.6763e-08, 4.1025e-01, 3.9622e-05, 4.5232e-04, 1.3787e-06, 1.6966e-06,\n",
       "         1.9118e-08, 4.3731e-12, 7.7057e-02, 1.8821e-11, 1.6890e-07, 2.8826e-05,\n",
       "         7.9090e-08, 1.0992e-07, 6.4606e-11, 3.5604e-06, 1.1107e-09, 1.1320e-07,\n",
       "         3.6915e-04, 2.3209e-04, 3.3614e-07],\n",
       "        [2.1615e-08, 1.6768e-11, 1.0933e-10, 2.6574e-06, 2.2022e-08, 2.9644e-04,\n",
       "         1.6145e-04, 1.4573e-03, 2.5073e-16, 6.3647e-11, 8.9807e-07, 9.9804e-01,\n",
       "         2.4309e-06, 7.6062e-13, 6.5605e-09, 2.0448e-09, 1.8371e-09, 6.9621e-06,\n",
       "         3.5136e-12, 1.7755e-11, 3.5808e-05, 2.1600e-09, 3.0484e-11, 4.9578e-12,\n",
       "         8.7760e-09, 1.9044e-13, 1.5780e-09],\n",
       "        [3.1267e-07, 5.6282e-12, 7.7939e-15, 2.3821e-03, 6.9486e-13, 1.2545e-05,\n",
       "         2.8775e-08, 9.9649e-01, 3.5658e-09, 2.7156e-11, 4.2233e-08, 4.1051e-05,\n",
       "         1.0734e-03, 2.9239e-20, 1.2347e-12, 2.5846e-10, 2.0621e-10, 1.2768e-07,\n",
       "         2.1410e-11, 3.9243e-10, 7.1080e-11, 1.0638e-12, 4.8293e-13, 6.2218e-15,\n",
       "         1.9048e-11, 2.7874e-14, 1.1582e-08],\n",
       "        [1.6959e-08, 1.0331e-15, 5.9502e-13, 4.1208e-04, 7.7283e-12, 9.9958e-01,\n",
       "         5.5227e-14, 1.5467e-06, 3.1551e-10, 5.3410e-09, 1.3253e-06, 5.5169e-07,\n",
       "         3.2644e-09, 1.7726e-16, 3.6071e-07, 2.1817e-17, 3.1110e-13, 4.1806e-14,\n",
       "         5.8288e-10, 4.3011e-09, 1.8832e-10, 2.2371e-13, 2.5340e-12, 5.2457e-14,\n",
       "         4.4046e-11, 1.2984e-10, 1.1255e-10],\n",
       "        [5.6259e-03, 4.0365e-14, 1.1220e-12, 1.6429e-03, 6.2425e-07, 8.6124e-05,\n",
       "         9.3170e-07, 2.1305e-06, 7.4542e-07, 2.1513e-10, 4.9405e-08, 1.0103e-05,\n",
       "         1.7605e-06, 8.5938e-12, 1.2277e-10, 1.9547e-09, 2.9952e-07, 9.7833e-01,\n",
       "         9.0586e-04, 7.4724e-10, 1.3368e-02, 4.4159e-09, 1.2711e-06, 1.9221e-09,\n",
       "         4.5382e-10, 2.4110e-05, 2.2118e-10],\n",
       "        [4.1534e-04, 1.6842e-16, 8.7745e-11, 4.9786e-05, 8.0236e-09, 1.2244e-04,\n",
       "         1.9372e-08, 5.9999e-08, 9.3224e-01, 5.7765e-10, 1.6939e-10, 1.0296e-08,\n",
       "         4.4263e-07, 1.3931e-15, 3.7864e-10, 8.8024e-14, 6.3250e-06, 6.7028e-02,\n",
       "         9.3245e-10, 3.6358e-08, 1.6869e-07, 4.2361e-08, 4.3533e-13, 1.8655e-10,\n",
       "         8.3037e-11, 1.3917e-04, 1.1000e-07],\n",
       "        [4.1598e-05, 1.6091e-13, 1.4843e-10, 5.1148e-01, 2.8232e-06, 3.9842e-05,\n",
       "         2.6763e-08, 4.1025e-01, 3.9622e-05, 4.5232e-04, 1.3787e-06, 1.6966e-06,\n",
       "         1.9118e-08, 4.3731e-12, 7.7057e-02, 1.8821e-11, 1.6890e-07, 2.8826e-05,\n",
       "         7.9090e-08, 1.0992e-07, 6.4606e-11, 3.5604e-06, 1.1107e-09, 1.1320e-07,\n",
       "         3.6915e-04, 2.3209e-04, 3.3614e-07],\n",
       "        [2.1615e-08, 1.6768e-11, 1.0933e-10, 2.6574e-06, 2.2022e-08, 2.9644e-04,\n",
       "         1.6145e-04, 1.4573e-03, 2.5073e-16, 6.3647e-11, 8.9807e-07, 9.9804e-01,\n",
       "         2.4309e-06, 7.6062e-13, 6.5605e-09, 2.0448e-09, 1.8371e-09, 6.9621e-06,\n",
       "         3.5136e-12, 1.7755e-11, 3.5808e-05, 2.1600e-09, 3.0484e-11, 4.9578e-12,\n",
       "         8.7760e-09, 1.9044e-13, 1.5780e-09],\n",
       "        [4.5520e-10, 1.9992e-08, 1.6429e-15, 5.3059e-02, 2.4420e-07, 9.8776e-08,\n",
       "         5.6917e-09, 9.4384e-01, 9.2047e-07, 4.3890e-05, 3.7918e-09, 6.9956e-10,\n",
       "         3.0557e-03, 7.6362e-15, 1.0222e-14, 2.6552e-11, 1.2967e-06, 1.1249e-11,\n",
       "         2.3240e-12, 3.0145e-06, 1.4621e-11, 2.4329e-08, 2.3982e-14, 1.0141e-11,\n",
       "         3.9705e-13, 9.9066e-12, 2.6532e-07],\n",
       "        [1.2752e-10, 1.6706e-18, 9.1526e-18, 7.1555e-10, 1.5763e-10, 1.0000e+00,\n",
       "         1.2167e-18, 1.1759e-08, 1.4203e-12, 5.2777e-08, 3.0248e-09, 6.8520e-20,\n",
       "         2.7409e-18, 8.7002e-12, 7.4117e-10, 8.5310e-16, 5.9142e-14, 1.1674e-16,\n",
       "         1.0468e-08, 3.1268e-10, 7.0429e-12, 4.2815e-19, 3.0272e-07, 6.6032e-12,\n",
       "         2.8308e-11, 1.1225e-12, 2.8544e-13],\n",
       "        [5.6259e-03, 4.0365e-14, 1.1220e-12, 1.6429e-03, 6.2425e-07, 8.6124e-05,\n",
       "         9.3170e-07, 2.1305e-06, 7.4542e-07, 2.1513e-10, 4.9405e-08, 1.0103e-05,\n",
       "         1.7605e-06, 8.5938e-12, 1.2277e-10, 1.9547e-09, 2.9952e-07, 9.7833e-01,\n",
       "         9.0586e-04, 7.4724e-10, 1.3368e-02, 4.4159e-09, 1.2711e-06, 1.9221e-09,\n",
       "         4.5382e-10, 2.4110e-05, 2.2118e-10],\n",
       "        [4.1534e-04, 1.6842e-16, 8.7745e-11, 4.9786e-05, 8.0236e-09, 1.2244e-04,\n",
       "         1.9372e-08, 5.9999e-08, 9.3224e-01, 5.7765e-10, 1.6939e-10, 1.0296e-08,\n",
       "         4.4263e-07, 1.3931e-15, 3.7864e-10, 8.8024e-14, 6.3250e-06, 6.7028e-02,\n",
       "         9.3245e-10, 3.6358e-08, 1.6869e-07, 4.2361e-08, 4.3533e-13, 1.8655e-10,\n",
       "         8.3037e-11, 1.3917e-04, 1.1000e-07],\n",
       "        [4.1598e-05, 1.6091e-13, 1.4843e-10, 5.1148e-01, 2.8232e-06, 3.9842e-05,\n",
       "         2.6763e-08, 4.1025e-01, 3.9622e-05, 4.5232e-04, 1.3787e-06, 1.6966e-06,\n",
       "         1.9118e-08, 4.3731e-12, 7.7057e-02, 1.8821e-11, 1.6890e-07, 2.8826e-05,\n",
       "         7.9090e-08, 1.0992e-07, 6.4606e-11, 3.5604e-06, 1.1107e-09, 1.1320e-07,\n",
       "         3.6915e-04, 2.3209e-04, 3.3614e-07],\n",
       "        [2.1615e-08, 1.6768e-11, 1.0933e-10, 2.6574e-06, 2.2022e-08, 2.9644e-04,\n",
       "         1.6145e-04, 1.4573e-03, 2.5073e-16, 6.3647e-11, 8.9807e-07, 9.9804e-01,\n",
       "         2.4309e-06, 7.6062e-13, 6.5605e-09, 2.0448e-09, 1.8371e-09, 6.9621e-06,\n",
       "         3.5136e-12, 1.7755e-11, 3.5808e-05, 2.1600e-09, 3.0484e-11, 4.9578e-12,\n",
       "         8.7760e-09, 1.9044e-13, 1.5780e-09],\n",
       "        [4.5520e-10, 1.9992e-08, 1.6429e-15, 5.3059e-02, 2.4420e-07, 9.8776e-08,\n",
       "         5.6917e-09, 9.4384e-01, 9.2047e-07, 4.3890e-05, 3.7918e-09, 6.9956e-10,\n",
       "         3.0557e-03, 7.6362e-15, 1.0222e-14, 2.6552e-11, 1.2967e-06, 1.1249e-11,\n",
       "         2.3240e-12, 3.0145e-06, 1.4621e-11, 2.4329e-08, 2.3982e-14, 1.0141e-11,\n",
       "         3.9705e-13, 9.9066e-12, 2.6532e-07],\n",
       "        [1.2752e-10, 1.6706e-18, 9.1526e-18, 7.1555e-10, 1.5763e-10, 1.0000e+00,\n",
       "         1.2167e-18, 1.1759e-08, 1.4203e-12, 5.2777e-08, 3.0248e-09, 6.8520e-20,\n",
       "         2.7409e-18, 8.7002e-12, 7.4117e-10, 8.5310e-16, 5.9142e-14, 1.1674e-16,\n",
       "         1.0468e-08, 3.1268e-10, 7.0429e-12, 4.2815e-19, 3.0272e-07, 6.6032e-12,\n",
       "         2.8308e-11, 1.1225e-12, 2.8544e-13],\n",
       "        [2.5687e-03, 6.6666e-06, 7.9243e-12, 2.0165e-14, 9.1691e-10, 3.9424e-08,\n",
       "         2.7825e-06, 5.8242e-09, 8.2011e-08, 3.9787e-11, 7.7784e-11, 8.0369e-01,\n",
       "         8.6807e-02, 4.2071e-09, 1.0594e-10, 8.5836e-10, 9.0180e-10, 1.9864e-04,\n",
       "         3.7814e-10, 1.8261e-06, 1.0673e-01, 1.2666e-07, 6.0177e-13, 2.1922e-08,\n",
       "         1.6614e-16, 1.8462e-07, 6.0179e-11],\n",
       "        [4.1916e-05, 1.9939e-14, 6.1323e-17, 1.1944e-08, 2.9646e-09, 1.2638e-12,\n",
       "         9.9194e-01, 2.9011e-07, 1.2032e-16, 2.4476e-14, 1.4496e-13, 1.2023e-05,\n",
       "         1.0030e-12, 6.2184e-17, 6.7351e-11, 5.3335e-09, 2.2018e-11, 8.0008e-03,\n",
       "         3.6073e-12, 6.4479e-17, 7.5056e-10, 7.6568e-08, 6.3324e-07, 5.6350e-11,\n",
       "         2.2640e-10, 2.0079e-11, 7.5139e-13],\n",
       "        [5.6259e-03, 4.0365e-14, 1.1220e-12, 1.6429e-03, 6.2425e-07, 8.6124e-05,\n",
       "         9.3170e-07, 2.1305e-06, 7.4542e-07, 2.1513e-10, 4.9405e-08, 1.0103e-05,\n",
       "         1.7605e-06, 8.5938e-12, 1.2277e-10, 1.9547e-09, 2.9952e-07, 9.7833e-01,\n",
       "         9.0586e-04, 7.4724e-10, 1.3368e-02, 4.4159e-09, 1.2711e-06, 1.9221e-09,\n",
       "         4.5382e-10, 2.4110e-05, 2.2118e-10],\n",
       "        [4.1534e-04, 1.6842e-16, 8.7745e-11, 4.9786e-05, 8.0236e-09, 1.2244e-04,\n",
       "         1.9372e-08, 5.9999e-08, 9.3224e-01, 5.7765e-10, 1.6939e-10, 1.0296e-08,\n",
       "         4.4263e-07, 1.3931e-15, 3.7864e-10, 8.8024e-14, 6.3250e-06, 6.7028e-02,\n",
       "         9.3245e-10, 3.6358e-08, 1.6869e-07, 4.2361e-08, 4.3533e-13, 1.8655e-10,\n",
       "         8.3037e-11, 1.3917e-04, 1.1000e-07],\n",
       "        [4.1598e-05, 1.6091e-13, 1.4843e-10, 5.1148e-01, 2.8232e-06, 3.9842e-05,\n",
       "         2.6763e-08, 4.1025e-01, 3.9622e-05, 4.5232e-04, 1.3787e-06, 1.6966e-06,\n",
       "         1.9118e-08, 4.3731e-12, 7.7057e-02, 1.8821e-11, 1.6890e-07, 2.8826e-05,\n",
       "         7.9090e-08, 1.0992e-07, 6.4606e-11, 3.5604e-06, 1.1107e-09, 1.1320e-07,\n",
       "         3.6915e-04, 2.3209e-04, 3.3614e-07],\n",
       "        [2.1615e-08, 1.6768e-11, 1.0933e-10, 2.6574e-06, 2.2022e-08, 2.9644e-04,\n",
       "         1.6145e-04, 1.4573e-03, 2.5073e-16, 6.3647e-11, 8.9807e-07, 9.9804e-01,\n",
       "         2.4309e-06, 7.6062e-13, 6.5605e-09, 2.0448e-09, 1.8371e-09, 6.9621e-06,\n",
       "         3.5136e-12, 1.7755e-11, 3.5808e-05, 2.1600e-09, 3.0484e-11, 4.9578e-12,\n",
       "         8.7760e-09, 1.9044e-13, 1.5780e-09],\n",
       "        [4.5520e-10, 1.9992e-08, 1.6429e-15, 5.3059e-02, 2.4420e-07, 9.8776e-08,\n",
       "         5.6917e-09, 9.4384e-01, 9.2047e-07, 4.3890e-05, 3.7918e-09, 6.9956e-10,\n",
       "         3.0557e-03, 7.6362e-15, 1.0222e-14, 2.6552e-11, 1.2967e-06, 1.1249e-11,\n",
       "         2.3240e-12, 3.0145e-06, 1.4621e-11, 2.4329e-08, 2.3982e-14, 1.0141e-11,\n",
       "         3.9705e-13, 9.9066e-12, 2.6532e-07],\n",
       "        [3.7885e-09, 4.4880e-17, 1.3617e-16, 3.6403e-10, 1.4509e-12, 1.0000e+00,\n",
       "         4.4596e-17, 1.1367e-08, 2.0601e-13, 3.9085e-10, 7.8914e-09, 4.1878e-16,\n",
       "         1.3071e-15, 2.1906e-13, 6.4656e-09, 1.6749e-15, 2.5141e-13, 3.9794e-14,\n",
       "         7.4337e-10, 2.7715e-11, 4.1001e-10, 1.2044e-18, 1.2195e-06, 2.2389e-12,\n",
       "         2.1320e-12, 7.2593e-14, 4.4824e-13],\n",
       "        [5.6259e-03, 4.0365e-14, 1.1220e-12, 1.6429e-03, 6.2425e-07, 8.6124e-05,\n",
       "         9.3170e-07, 2.1305e-06, 7.4542e-07, 2.1513e-10, 4.9405e-08, 1.0103e-05,\n",
       "         1.7605e-06, 8.5938e-12, 1.2277e-10, 1.9547e-09, 2.9952e-07, 9.7833e-01,\n",
       "         9.0586e-04, 7.4724e-10, 1.3368e-02, 4.4159e-09, 1.2711e-06, 1.9221e-09,\n",
       "         4.5382e-10, 2.4110e-05, 2.2118e-10],\n",
       "        [4.1534e-04, 1.6842e-16, 8.7745e-11, 4.9786e-05, 8.0236e-09, 1.2244e-04,\n",
       "         1.9372e-08, 5.9999e-08, 9.3224e-01, 5.7765e-10, 1.6939e-10, 1.0296e-08,\n",
       "         4.4263e-07, 1.3931e-15, 3.7864e-10, 8.8024e-14, 6.3250e-06, 6.7028e-02,\n",
       "         9.3245e-10, 3.6358e-08, 1.6869e-07, 4.2361e-08, 4.3533e-13, 1.8655e-10,\n",
       "         8.3037e-11, 1.3917e-04, 1.1000e-07],\n",
       "        [4.1598e-05, 1.6091e-13, 1.4843e-10, 5.1148e-01, 2.8232e-06, 3.9842e-05,\n",
       "         2.6763e-08, 4.1025e-01, 3.9622e-05, 4.5232e-04, 1.3787e-06, 1.6966e-06,\n",
       "         1.9118e-08, 4.3731e-12, 7.7057e-02, 1.8821e-11, 1.6890e-07, 2.8826e-05,\n",
       "         7.9090e-08, 1.0992e-07, 6.4606e-11, 3.5604e-06, 1.1107e-09, 1.1320e-07,\n",
       "         3.6915e-04, 2.3209e-04, 3.3614e-07],\n",
       "        [2.1615e-08, 1.6768e-11, 1.0933e-10, 2.6574e-06, 2.2022e-08, 2.9644e-04,\n",
       "         1.6145e-04, 1.4573e-03, 2.5073e-16, 6.3647e-11, 8.9807e-07, 9.9804e-01,\n",
       "         2.4309e-06, 7.6062e-13, 6.5605e-09, 2.0448e-09, 1.8371e-09, 6.9621e-06,\n",
       "         3.5136e-12, 1.7755e-11, 3.5808e-05, 2.1600e-09, 3.0484e-11, 4.9578e-12,\n",
       "         8.7760e-09, 1.9044e-13, 1.5780e-09],\n",
       "        [5.4526e-09, 2.0389e-06, 2.7449e-17, 9.9506e-01, 4.1821e-08, 4.3964e-03,\n",
       "         1.6925e-05, 5.1634e-04, 1.7504e-11, 1.6672e-10, 5.4947e-07, 2.1996e-07,\n",
       "         7.7757e-06, 1.0352e-17, 1.1511e-17, 1.4383e-06, 6.2074e-09, 1.2261e-07,\n",
       "         6.3465e-08, 1.6948e-17, 7.1116e-08, 4.8882e-16, 1.1691e-07, 1.3940e-15,\n",
       "         2.6965e-11, 1.7524e-13, 1.8672e-11],\n",
       "        [3.2887e-05, 3.6008e-15, 1.5717e-09, 4.0647e-07, 1.7588e-04, 6.2075e-01,\n",
       "         4.1549e-18, 2.7477e-10, 3.7547e-01, 2.4273e-03, 2.5073e-06, 4.1542e-13,\n",
       "         2.8334e-05, 1.9369e-10, 4.2147e-10, 4.6077e-17, 6.4780e-08, 9.7840e-13,\n",
       "         6.2113e-06, 1.7367e-06, 4.6554e-08, 2.0593e-11, 5.6103e-12, 3.0838e-09,\n",
       "         1.8987e-11, 1.1058e-03, 5.5996e-11],\n",
       "        [1.7780e-01, 2.1810e-10, 8.1672e-13, 5.1807e-10, 6.3996e-07, 4.8838e-05,\n",
       "         1.6714e-05, 1.1774e-08, 1.2317e-15, 3.0655e-09, 1.8936e-07, 3.4986e-06,\n",
       "         1.3232e-10, 1.4239e-10, 6.0868e-05, 2.0651e-12, 3.2462e-09, 4.9996e-05,\n",
       "         9.2595e-09, 2.5688e-16, 1.1235e-05, 2.2044e-08, 8.2199e-01, 1.2481e-05,\n",
       "         3.4230e-06, 6.3603e-11, 4.4369e-11],\n",
       "        [1.9570e-08, 5.7668e-11, 5.7740e-13, 1.9573e-07, 3.1113e-11, 9.8606e-13,\n",
       "         2.1757e-11, 2.1671e-07, 9.9259e-05, 1.0520e-10, 6.5380e-11, 7.9619e-09,\n",
       "         9.9121e-01, 1.7782e-13, 5.9616e-16, 1.4416e-11, 3.0222e-11, 1.5067e-06,\n",
       "         2.2673e-09, 8.6876e-03, 9.0972e-13, 2.5954e-07, 1.7691e-17, 6.3185e-12,\n",
       "         9.9073e-15, 1.5806e-07, 1.4308e-11],\n",
       "        [7.4647e-06, 4.4846e-17, 5.0708e-12, 2.0594e-05, 1.3973e-07, 6.0030e-07,\n",
       "         1.0609e-08, 6.0450e-02, 6.1494e-06, 1.0142e-02, 1.2357e-08, 3.7665e-11,\n",
       "         5.3195e-09, 7.4017e-08, 9.2857e-01, 8.6776e-15, 7.5291e-09, 1.0522e-10,\n",
       "         4.8564e-09, 2.4867e-04, 2.4962e-15, 6.1695e-06, 1.9985e-09, 1.1654e-04,\n",
       "         7.4930e-06, 4.2006e-04, 3.8602e-07],\n",
       "        [2.5647e-07, 7.7925e-04, 2.3171e-14, 7.1527e-06, 1.7240e-09, 6.7374e-10,\n",
       "         2.4957e-04, 9.3783e-01, 9.3931e-07, 4.7105e-09, 1.5068e-05, 5.2352e-02,\n",
       "         7.9096e-03, 2.4934e-11, 6.5165e-05, 2.8064e-08, 2.2309e-11, 8.2471e-09,\n",
       "         5.7235e-11, 7.3333e-09, 7.8992e-04, 4.7780e-07, 9.9419e-10, 4.0517e-12,\n",
       "         5.8931e-09, 1.0142e-14, 2.5829e-09]])"
      ]
     },
     "execution_count": 46,
     "metadata": {},
     "output_type": "execute_result"
    }
   ],
   "source": [
    "prob"
   ]
  },
  {
   "cell_type": "code",
   "execution_count": 47,
   "metadata": {},
   "outputs": [
    {
     "data": {
      "text/plain": [
       "tensor(1.)"
      ]
     },
     "execution_count": 47,
     "metadata": {},
     "output_type": "execute_result"
    }
   ],
   "source": [
    "prob[0].sum() # normalized"
   ]
  },
  {
   "cell_type": "code",
   "execution_count": 48,
   "metadata": {},
   "outputs": [
    {
     "data": {
      "text/plain": [
       "tensor([ 1,  1,  2,  1, 14,  0,  1,  1,  2,  9,  4,  0,  1,  1,  2,  9,  4,  1,\n",
       "         8,  0,  1,  1,  2,  9, 18,  0,  1,  1,  2, 18,  9,  5, 12, 12,  1,  0])"
      ]
     },
     "execution_count": 48,
     "metadata": {},
     "output_type": "execute_result"
    }
   ],
   "source": [
    "Y # labels"
   ]
  },
  {
   "cell_type": "code",
   "execution_count": 49,
   "metadata": {},
   "outputs": [
    {
     "data": {
      "text/plain": [
       "tensor([ 0,  1,  2,  3,  4,  5,  6,  7,  8,  9, 10, 11, 12, 13, 14, 15, 16, 17,\n",
       "        18, 19, 20, 21, 22, 23, 24, 25, 26, 27, 28, 29, 30, 31, 32, 33, 34, 35])"
      ]
     },
     "execution_count": 49,
     "metadata": {},
     "output_type": "execute_result"
    }
   ],
   "source": [
    "torch.arange(36)"
   ]
  },
  {
   "cell_type": "code",
   "execution_count": 50,
   "metadata": {},
   "outputs": [
    {
     "data": {
      "text/plain": [
       "tensor([4.0365e-14, 1.6842e-16, 1.4843e-10, 1.6768e-11, 1.2347e-12, 1.6959e-08,\n",
       "        4.0365e-14, 1.6842e-16, 1.4843e-10, 6.3647e-11, 2.4420e-07, 1.2752e-10,\n",
       "        4.0365e-14, 1.6842e-16, 1.4843e-10, 6.3647e-11, 2.4420e-07, 1.6706e-18,\n",
       "        8.2011e-08, 4.1916e-05, 4.0365e-14, 1.6842e-16, 1.4843e-10, 6.3647e-11,\n",
       "        2.3240e-12, 3.7885e-09, 4.0365e-14, 1.6842e-16, 1.4843e-10, 3.5136e-12,\n",
       "        1.6672e-10, 6.2075e-01, 1.3232e-10, 9.9121e-01, 4.4846e-17, 2.5647e-07])"
      ]
     },
     "execution_count": 50,
     "metadata": {},
     "output_type": "execute_result"
    }
   ],
   "source": [
    "prob[torch.arange(36), Y] # probabilities of the true characters"
   ]
  },
  {
   "cell_type": "code",
   "execution_count": 124,
   "metadata": {},
   "outputs": [
    {
     "data": {
      "text/plain": [
       "tensor(17.8125)"
      ]
     },
     "execution_count": 124,
     "metadata": {},
     "output_type": "execute_result"
    }
   ],
   "source": [
    "loss = -prob[torch.arange(36), Y].log().mean() # cross entropy loss\n",
    "loss"
   ]
  },
  {
   "cell_type": "code",
   "execution_count": 51,
   "metadata": {},
   "outputs": [],
   "source": [
    "# ----------------- Summary -----------------"
   ]
  },
  {
   "cell_type": "code",
   "execution_count": 52,
   "metadata": {},
   "outputs": [
    {
     "data": {
      "text/plain": [
       "(torch.Size([36, 3]), torch.Size([36]))"
      ]
     },
     "execution_count": 52,
     "metadata": {},
     "output_type": "execute_result"
    }
   ],
   "source": [
    "X.shape, Y.shape"
   ]
  },
  {
   "cell_type": "code",
   "execution_count": 53,
   "metadata": {},
   "outputs": [],
   "source": [
    "g = torch.Generator().manual_seed(2147483647) # seed for reproducibility\n",
    "C = torch.randn(27, 2, generator=g)\n",
    "W1 = torch.randn((6, 100), generator=g)\n",
    "b1 = torch.randn(100, generator=g)\n",
    "W2 = torch.randn(100, 27, generator=g)\n",
    "b2 = torch.randn(27, generator=g)\n",
    "parameters = [C, W1, b1, W2, b2]"
   ]
  },
  {
   "cell_type": "code",
   "execution_count": 54,
   "metadata": {},
   "outputs": [
    {
     "data": {
      "text/plain": [
       "3481"
      ]
     },
     "execution_count": 54,
     "metadata": {},
     "output_type": "execute_result"
    }
   ],
   "source": [
    "sum(p.nelement() for p in parameters) # total number of parameters"
   ]
  },
  {
   "cell_type": "code",
   "execution_count": 62,
   "metadata": {},
   "outputs": [],
   "source": [
    "for p in parameters:\n",
    "  p.requires_grad = True"
   ]
  },
  {
   "cell_type": "code",
   "execution_count": null,
   "metadata": {},
   "outputs": [
    {
     "name": "stdout",
     "output_type": "stream",
     "text": [
      "0.2250777930021286\n"
     ]
    }
   ],
   "source": [
    "for _ in range(1000): # iterations\n",
    "\n",
    "# Forward pass\n",
    "\n",
    "  emb = C[X] # embedding\n",
    "  h = torch.tanh(emb.view(-1, 6) @ W1 + b1) # hidden layer\n",
    "  logits = h @ W2 + b2 # output layer\n",
    "# counts = logits.exp() # unnormalized probabilities\n",
    "# prob = counts / counts.sum(1, keepdim=True) # normalized probabilities\n",
    "# loss = -prob[torch.arange(36), Y].log().mean() # cross entropy loss\n",
    "#  but never use the above code in practice as it is not efficient and numerically unstable\n",
    "  loss = F.cross_entropy(logits, Y) \n",
    "  # print(loss.item())\n",
    "\n",
    "\n",
    "  # Backward pass\n",
    "  for p in parameters:\n",
    "    p.grad = None\n",
    "\n",
    "  loss.backward()\n",
    "\n",
    "  # Update\n",
    "  for p in parameters:\n",
    "    p.data += -0.1 *  p.grad\n",
    "print(loss.item())"
   ]
  },
  {
   "cell_type": "code",
   "execution_count": 61,
   "metadata": {},
   "outputs": [
    {
     "data": {
      "text/plain": [
       "tensor(17.8694)"
      ]
     },
     "execution_count": 61,
     "metadata": {},
     "output_type": "execute_result"
    }
   ],
   "source": [
    "F.cross_entropy(logits, Y) # PyTorch's implementation of cross entropy we can put the cross entropy directly in this code with the help of Pytorch directly in this code which will be more efficient for forward pass and backward pass and numerical stability."
   ]
  },
  {
   "cell_type": "code",
   "execution_count": 71,
   "metadata": {},
   "outputs": [
    {
     "data": {
      "text/plain": [
       "torch.return_types.max(\n",
       "values=tensor([24.8031, 17.9717, 17.1211, 15.1294, 15.7555, 17.4552, 24.8031, 17.9717,\n",
       "        17.1211, 15.1294, 15.3354, 12.2345, 24.8031, 17.9717, 17.1211, 15.1294,\n",
       "        15.3354, 12.2345, 13.1716, 20.6208, 24.8031, 17.9717, 17.1211, 15.1294,\n",
       "        15.3354, 16.3180, 24.8031, 17.9717, 17.1211, 15.1294, 17.5865, 17.6060,\n",
       "        13.3892, 12.7876, 12.2740, 15.9797], grad_fn=<MaxBackward0>),\n",
       "indices=tensor([ 1,  1,  2,  9, 14,  0,  1,  1,  2,  9,  4,  1,  1,  1,  2,  9,  4,  1,\n",
       "         8,  0,  1,  1,  2,  9,  4,  0,  1,  1,  2,  9,  9,  5, 12, 12,  1,  0]))"
      ]
     },
     "execution_count": 71,
     "metadata": {},
     "output_type": "execute_result"
    }
   ],
   "source": [
    "logits.max(1) # max in python is a function that returns two values: the maximum value and its index"
   ]
  },
  {
   "cell_type": "code",
   "execution_count": 72,
   "metadata": {},
   "outputs": [
    {
     "data": {
      "text/plain": [
       "tensor([ 1,  1,  2,  1, 14,  0,  1,  1,  2,  9,  4,  0,  1,  1,  2,  9,  4,  1,\n",
       "         8,  0,  1,  1,  2,  9, 18,  0,  1,  1,  2, 18,  9,  5, 12, 12,  1,  0])"
      ]
     },
     "execution_count": 72,
     "metadata": {},
     "output_type": "execute_result"
    }
   ],
   "source": [
    "Y # labels"
   ]
  }
 ],
 "metadata": {
  "kernelspec": {
   "display_name": "NN",
   "language": "python",
   "name": "python3"
  },
  "language_info": {
   "codemirror_mode": {
    "name": "ipython",
    "version": 3
   },
   "file_extension": ".py",
   "mimetype": "text/x-python",
   "name": "python",
   "nbconvert_exporter": "python",
   "pygments_lexer": "ipython3",
   "version": "3.11.11"
  }
 },
 "nbformat": 4,
 "nbformat_minor": 2
}
