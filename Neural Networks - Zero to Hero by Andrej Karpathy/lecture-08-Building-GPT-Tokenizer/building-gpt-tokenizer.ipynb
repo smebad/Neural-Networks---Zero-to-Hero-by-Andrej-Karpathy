{
 "cells": [
  {
   "cell_type": "code",
   "execution_count": 2,
   "metadata": {},
   "outputs": [
    {
     "data": {
      "text/plain": [
       "'Hello World @#$%^&*'"
      ]
     },
     "execution_count": 2,
     "metadata": {},
     "output_type": "execute_result"
    }
   ],
   "source": [
    "# strings in python, unicode strings\n",
    "\"Hello World @#$%^&*\""
   ]
  },
  {
   "cell_type": "code",
   "execution_count": 6,
   "metadata": {},
   "outputs": [
    {
     "data": {
      "text/plain": [
       "[72,\n",
       " 101,\n",
       " 108,\n",
       " 108,\n",
       " 111,\n",
       " 32,\n",
       " 87,\n",
       " 111,\n",
       " 114,\n",
       " 108,\n",
       " 100,\n",
       " 32,\n",
       " 64,\n",
       " 35,\n",
       " 36,\n",
       " 37,\n",
       " 94,\n",
       " 38,\n",
       " 42]"
      ]
     },
     "execution_count": 6,
     "metadata": {},
     "output_type": "execute_result"
    }
   ],
   "source": [
    "# access to unicode characters\n",
    "[ord(x) for x in \"Hello World @#$%^&*\"]"
   ]
  },
  {
   "cell_type": "code",
   "execution_count": null,
   "metadata": {},
   "outputs": [],
   "source": []
  }
 ],
 "metadata": {
  "kernelspec": {
   "display_name": "NN",
   "language": "python",
   "name": "python3"
  },
  "language_info": {
   "codemirror_mode": {
    "name": "ipython",
    "version": 3
   },
   "file_extension": ".py",
   "mimetype": "text/x-python",
   "name": "python",
   "nbconvert_exporter": "python",
   "pygments_lexer": "ipython3",
   "version": "3.11.11"
  }
 },
 "nbformat": 4,
 "nbformat_minor": 2
}
