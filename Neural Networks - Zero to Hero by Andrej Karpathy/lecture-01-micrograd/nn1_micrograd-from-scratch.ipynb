{
 "cells": [
  {
   "cell_type": "code",
   "execution_count": 190,
   "metadata": {},
   "outputs": [],
   "source": [
    "import math\n",
    "import numpy as np\n",
    "import matplotlib.pyplot as plt\n"
   ]
  },
  {
   "cell_type": "code",
   "execution_count": 191,
   "metadata": {},
   "outputs": [],
   "source": [
    "def f(x):\n",
    "  return 3*x**2 - 4*x + 5"
   ]
  },
  {
   "cell_type": "code",
   "execution_count": 192,
   "metadata": {},
   "outputs": [
    {
     "data": {
      "text/plain": [
       "20.0"
      ]
     },
     "execution_count": 192,
     "metadata": {},
     "output_type": "execute_result"
    }
   ],
   "source": [
    "f(3.0)"
   ]
  },
  {
   "cell_type": "code",
   "execution_count": 193,
   "metadata": {},
   "outputs": [
    {
     "data": {
      "text/plain": [
       "[<matplotlib.lines.Line2D at 0x1d4cd47c8d0>]"
      ]
     },
     "execution_count": 193,
     "metadata": {},
     "output_type": "execute_result"
    },
    {
     "data": {
      "image/png": "[encoded data removed]",
      "text/plain": [
       "<Figure size 640x480 with 1 Axes>"
      ]
     },
     "metadata": {},
     "output_type": "display_data"
    }
   ],
   "source": [
    "xs = np.arange (-5, 5, 0.25)\n",
    "ys = f(xs)\n",
    "plt.plot(xs, ys)"
   ]
  },
  {
   "cell_type": "code",
   "execution_count": 194,
   "metadata": {},
   "outputs": [
    {
     "data": {
      "text/plain": [
       "14.00000009255109"
      ]
     },
     "execution_count": 194,
     "metadata": {},
     "output_type": "execute_result"
    }
   ],
   "source": [
    "h = 0.00000001\n",
    "x = 3.0\n",
    "(f(x + h) - f(x))/h"
   ]
  },
  {
   "cell_type": "code",
   "execution_count": 195,
   "metadata": {},
   "outputs": [
    {
     "data": {
      "text/plain": [
       "-22.00000039920269"
      ]
     },
     "execution_count": 195,
     "metadata": {},
     "output_type": "execute_result"
    }
   ],
   "source": [
    "h = 0.00000001\n",
    "x = -3.0\n",
    "(f(x + h) - f(x))/h"
   ]
  },
  {
   "cell_type": "code",
   "execution_count": 196,
   "metadata": {},
   "outputs": [
    {
     "data": {
      "text/plain": [
       "0.0"
      ]
     },
     "execution_count": 196,
     "metadata": {},
     "output_type": "execute_result"
    }
   ],
   "source": [
    "h = 0.00000001\n",
    "x = 2/3\n",
    "(f(x + h) - f(x))/h"
   ]
  },
  {
   "cell_type": "code",
   "execution_count": 197,
   "metadata": {},
   "outputs": [
    {
     "name": "stdout",
     "output_type": "stream",
     "text": [
      "4.0\n"
     ]
    }
   ],
   "source": [
    "# more complex case\n",
    "a = 2.0\n",
    "b = -3.0\n",
    "c = 10.0\n",
    "d = a*b + c\n",
    "print(d)"
   ]
  },
  {
   "cell_type": "code",
   "execution_count": 198,
   "metadata": {},
   "outputs": [
    {
     "name": "stdout",
     "output_type": "stream",
     "text": [
      "d1 4.0\n",
      "d2 3.999699999999999\n",
      "slope -3.000000000010772\n"
     ]
    }
   ],
   "source": [
    "h = 0.0001\n",
    "\n",
    "# inputs\n",
    "a = 2.0\n",
    "b = -3.0\n",
    "c = 10.0\n",
    "\n",
    "d1 = a*b + c\n",
    "a += h\n",
    "d2 = a*b + c\n",
    "\n",
    "print('d1', d1)\n",
    "print('d2', d2)\n",
    "print('slope', (d2 -d1)/h)"
   ]
  },
  {
   "cell_type": "code",
   "execution_count": 199,
   "metadata": {},
   "outputs": [
    {
     "name": "stdout",
     "output_type": "stream",
     "text": [
      "d1 4.0\n",
      "d2 4.0002\n",
      "slope 2.0000000000042206\n"
     ]
    }
   ],
   "source": [
    "h = 0.0001\n",
    "\n",
    "# inputs\n",
    "a = 2.0\n",
    "b = -3.0\n",
    "c = 10.0\n",
    "\n",
    "d1 = a*b + c\n",
    "# bumping h up for b\n",
    "b += h\n",
    "d2 = a*b + c\n",
    "\n",
    "print('d1', d1)\n",
    "print('d2', d2)\n",
    "print('slope', (d2 -d1)/h)"
   ]
  },
  {
   "cell_type": "code",
   "execution_count": 200,
   "metadata": {},
   "outputs": [
    {
     "name": "stdout",
     "output_type": "stream",
     "text": [
      "d1 4.0\n",
      "d2 4.0001\n",
      "slope 0.9999999999976694\n"
     ]
    }
   ],
   "source": [
    "h = 0.0001\n",
    "\n",
    "# inputs\n",
    "a = 2.0\n",
    "b = -3.0\n",
    "c = 10.0\n",
    "\n",
    "d1 = a*b + c\n",
    "# bumping h up for c\n",
    "c += h\n",
    "d2 = a*b + c\n",
    "\n",
    "print('d1', d1)\n",
    "print('d2', d2)\n",
    "print('slope', (d2 -d1)/h)"
   ]
  },
  {
   "cell_type": "code",
   "execution_count": 201,
   "metadata": {},
   "outputs": [],
   "source": [
    "class Value:\n",
    "  def __init__(self, data, _children=(), _op='', label=''):\n",
    "    self.data = data\n",
    "    self.grad = 0.0\n",
    "    self._backward = lambda: None\n",
    "    self._prev = set(_children)\n",
    "    self._op = _op\n",
    "    self.label = label\n",
    "\n",
    "  def __repr__(self):\n",
    "    return f\"Value(data={self.data})\"\n",
    "  \n",
    "  # For adding\n",
    "  def __add__(self, other):\n",
    "    other = other if isinstance(other, Value) else Value(other)\n",
    "    out = Value(self.data + other.data, (self, other), '+')\n",
    "    \n",
    "    def _backward():\n",
    "      self.grad += 1.0 * out.grad\n",
    "      other.grad += 1.0 * out.grad\n",
    "    out._backward = _backward\n",
    "    \n",
    "    return out\n",
    "  \n",
    "  # For multiplying\n",
    "  def __mul__(self, other):\n",
    "    other = other if isinstance(other, Value) else Value(other)\n",
    "    out = Value(self.data * other.data, (self, other), '*')\n",
    "\n",
    "    def _backward():\n",
    "      self.grad += other.data * out.grad\n",
    "      other.grad += self.data * out.grad\n",
    "    out._backward = _backward\n",
    "\n",
    "    return out\n",
    "  \n",
    "  def __pow__(self, other):\n",
    "    assert isinstance(other, (int, float)), \"only supporting int/float powers for now\"\n",
    "    out = Value(self.data**other, (self,), f'**{other}')\n",
    "\n",
    "    def _backward():\n",
    "      self.grad += other * (self.data ** (other - 1)) * out.grad\n",
    "    out._backward = _backward\n",
    "\n",
    "    return out\n",
    "  \n",
    "  def __rmul__(self, other): # other * self\n",
    "    return self * other\n",
    "  \n",
    "  def __truediv__(self, other): # other / self\n",
    "    return self * other**-1\n",
    "  \n",
    "  def __neg__(self): # -self\n",
    "    return self * -1\n",
    "  \n",
    "  def __sub__(self, other): # self - other\n",
    "    return self + (-other)\n",
    "\n",
    "  def tanh(self):\n",
    "    x = self.data\n",
    "    t = (math.exp(2 * x) - 1) / (math.exp(2 * x) + 1)\n",
    "    out = Value(t, (self, ), 'tanh')\n",
    "    \n",
    "    def _backward():\n",
    "      self.grad += (1 - t**2) * out.grad\n",
    "    out._backward = _backward  \n",
    "    \n",
    "    return out\n",
    "  \n",
    "  def exp(self):\n",
    "    x = self.data\n",
    "    out = Value(math.exp(x), (self, ), 'exp')\n",
    "\n",
    "    def _backward():\n",
    "      self.grad += out.data * out.grad\n",
    "    out._backward = _backward\n",
    "\n",
    "    return out  \n",
    "\n",
    "  def backward(self):\n",
    "\n",
    "    topo = []\n",
    "    visited = set()\n",
    "    def build_topo(v):\n",
    "      if v not in visited:\n",
    "        visited.add(v)\n",
    "        for child in v._prev:\n",
    "          build_topo(child)\n",
    "        topo.append(v)\n",
    "    build_topo(self)\n",
    "\n",
    "    self.grad = 1.0\n",
    "    for node in reversed(topo):\n",
    "      node._backward()\n",
    "\n",
    "# a = Value(2.0, label='a')\n",
    "# b = Value(-3.0, label='b')\n",
    "# c = Value(10.0, label='c')\n",
    "# e = a * b; e.label = 'e'\n",
    "# d = e + c; d.label = 'd'\n",
    "# f = Value(-2.0, label='f')\n",
    "# L = d * f; L.label= 'L'\n",
    "# d\n",
    "\n",
    "# for solving manually\n",
    "# (a.__mul__(b)).__add__(c)"
   ]
  },
  {
   "cell_type": "code",
   "execution_count": 202,
   "metadata": {},
   "outputs": [
    {
     "data": {
      "text/plain": [
       "Value(data=-2.0)"
      ]
     },
     "execution_count": 202,
     "metadata": {},
     "output_type": "execute_result"
    }
   ],
   "source": [
    "a = Value(2.0)\n",
    "b = Value(4.0)\n",
    "a - b"
   ]
  },
  {
   "cell_type": "code",
   "execution_count": 203,
   "metadata": {},
   "outputs": [],
   "source": [
    "# a / b\n",
    "# a * (1/b)\n",
    "# a * (b**-1)"
   ]
  },
  {
   "cell_type": "code",
   "execution_count": 204,
   "metadata": {},
   "outputs": [],
   "source": [
    "# d._prev"
   ]
  },
  {
   "cell_type": "code",
   "execution_count": 205,
   "metadata": {},
   "outputs": [],
   "source": [
    "# d._op"
   ]
  },
  {
   "cell_type": "code",
   "execution_count": 206,
   "metadata": {},
   "outputs": [],
   "source": [
    "from graphviz import Digraph\n",
    "\n",
    "def trace(root):\n",
    "  # builds a set of all nodes and edges in a graph\n",
    "  nodes, edges = set(), set()\n",
    "  def build(v):\n",
    "    if v not in v._prev:\n",
    "      nodes.add(v)\n",
    "      for child in v._prev:\n",
    "        edges.add((child, v))\n",
    "        build(child)\n",
    "  build(root)\n",
    "  return nodes, edges\n",
    "\n",
    "def draw_dot(root):\n",
    "  dot = Digraph(format='svg', graph_attr={'rankdir': 'LR'}) # LR = left to right\n",
    "\n",
    "  nodes, edges = trace(root)\n",
    "  for n in nodes:\n",
    "    uid = str(id(n))\n",
    "    # for any value in the graph, create a rectangular ('record') node for it\n",
    "    dot.node(name = uid, label = \"{ %s | data %.4f | grad %.4f }\" % (n.label, n.data, n.grad), shape='record')\n",
    "    if n._op:\n",
    "      # if this value is a result of some operation, create an op node for it\n",
    "      dot.node(name = uid + n._op, label = n._op)\n",
    "      # and connect this node to it\n",
    "      dot.edge(uid + n._op, uid)\n",
    "\n",
    "  for n1, n2 in edges:\n",
    "    # connect n1 to the op node of n2\n",
    "    dot.edge(str(id(n1)), str(id(n2)) + n2._op)\n",
    "\n",
    "  return dot"
   ]
  },
  {
   "cell_type": "code",
   "execution_count": 207,
   "metadata": {},
   "outputs": [],
   "source": [
    " # draw_dot(d)"
   ]
  },
  {
   "cell_type": "code",
   "execution_count": 208,
   "metadata": {},
   "outputs": [],
   "source": [
    "# draw_dot(L)"
   ]
  },
  {
   "cell_type": "markdown",
   "metadata": {},
   "source": [
    "#### def of derivative\n",
    "- L = d * f\n",
    "- dL/dd = ?\n",
    "\n",
    "- (f(x + h) - f(x) / h)\n",
    "- ((d + h) * f - d * f) / h\n",
    "- (d * f + h * f - d * f) / h\n",
    "- (h * f) / h\n",
    "- f"
   ]
  },
  {
   "cell_type": "markdown",
   "metadata": {},
   "source": [
    "* dd / dc = 1.0\n",
    "* dd / de = 1.0\n",
    "* d = c  + e\n",
    "\n",
    "#### Want:\n",
    "dL / dc = (dL / dd) * (dd / dc)\n",
    "\n",
    "#### Know:\n",
    "- dL / dd\n",
    "- dd / dc"
   ]
  },
  {
   "cell_type": "code",
   "execution_count": 209,
   "metadata": {},
   "outputs": [],
   "source": [
    "# one step of an optmization (extremely usueful for training neural networks)\n",
    "# a.data += 0.01 * a.grad\n",
    "# b.data += 0.01 * b.grad\n",
    "# c.data += 0.01 * c.grad\n",
    "# f.data += 0.01 * f.grad\n",
    "\n",
    "# e = a * b\n",
    "# d = e + c\n",
    "# L = d * f\n",
    "\n",
    "# print(L.data)"
   ]
  },
  {
   "cell_type": "code",
   "execution_count": 210,
   "metadata": {},
   "outputs": [],
   "source": [
    "#a.grad = -2.0 * -3.0\n",
    "#b.grad = -2.0 * 2.0"
   ]
  },
  {
   "cell_type": "code",
   "execution_count": 211,
   "metadata": {},
   "outputs": [],
   "source": [
    "#c. grad = -2.0\n",
    "#e.grad = -2.0"
   ]
  },
  {
   "cell_type": "code",
   "execution_count": 212,
   "metadata": {},
   "outputs": [],
   "source": [
    "#f.grad = 4.0\n",
    "# d.grad = -2"
   ]
  },
  {
   "cell_type": "code",
   "execution_count": 213,
   "metadata": {},
   "outputs": [],
   "source": [
    "# def lol():\n",
    "\n",
    "  # h = 0.001\n",
    "\n",
    "  # a = Value(2.0, label = 'a')\n",
    "  # b = Value(-3.0, label = 'b')\n",
    "  # c = Value(10.0, label = 'c')\n",
    "  # e = a * b; e.label = 'e'\n",
    "  # d = e + c; d.label = 'd'\n",
    "  # f = Value(-2.0, label = 'f')\n",
    "  # L = d * f; L.label = 'L'\n",
    "  # L1 = L.data\n",
    "\n",
    "  # a = Value(2.0, label = 'a')\n",
    "  # b = Value(-3.0, label = 'b')\n",
    "  # c = Value(10.0, label = 'c')\n",
    "  # e = a * b; e.label = 'e'\n",
    "  # d = e + c; d.label = 'd'\n",
    "  # f = Value(-2.0, label = 'f')\n",
    "  # L = d * f; L.label = 'L'\n",
    "  # L2 = L.data\n",
    "\n",
    "  # print((L2 - L1)/h)\n",
    "\n",
    "# lol()"
   ]
  },
  {
   "cell_type": "code",
   "execution_count": 214,
   "metadata": {},
   "outputs": [],
   "source": [
    "# plt.plot(np.arange(-5,5,0.2), np.tanh(np.arange(-5,5,0.2))); plt.grid()"
   ]
  },
  {
   "cell_type": "code",
   "execution_count": 215,
   "metadata": {},
   "outputs": [],
   "source": [
    "# inputs x1, x2\n",
    "x1 = Value(2.0, label='x1')\n",
    "x2 = Value(0.0, label='x2')\n",
    "\n",
    "# weights w1, w2\n",
    "w1 = Value(-3.0, label='w1')\n",
    "w2 = Value(1.0, label='w2')\n",
    "\n",
    "# bias of the neuron\n",
    "b = Value(6.8813735870195432, label='b')\n",
    "\n",
    "# x1*w1 + x2*w2 + b\n",
    "x1w1 = x1 * w1; x1w1.label = 'x1 * w1'\n",
    "x2w2 = x2 * w2; x2w2.label = 'x2 * w2'\n",
    "x1w1x2w2 = x1w1 + x2w2; x1w1x2w2.label = 'x1 * w1 + x2 * w2'\n",
    "n = x1w1x2w2 + b; n.label = 'n'\n",
    "o = n.tanh(); o.label= 'o'\n",
    "o.backward()"
   ]
  },
  {
   "cell_type": "code",
   "execution_count": 216,
   "metadata": {},
   "outputs": [
    {
     "data": {
      "image/svg+xml": [
       "<?xml version=\"1.0\" encoding=\"UTF-8\" standalone=\"no\"?>\n",
       "<!DOCTYPE svg PUBLIC \"-//W3C//DTD SVG 1.1//EN\"\n",
       " \"http://www.w3.org/Graphics/SVG/1.1/DTD/svg11.dtd\">\n",
       "<!-- Generated by graphviz version 2.50.0 (0)\n",
       " -->\n",
       "<!-- Pages: 1 -->\n",
       "<svg width=\"1598pt\" height=\"210pt\"\n",
       " viewBox=\"0.00 0.00 1598.00 210.00\" xmlns=\"http://www.w3.org/2000/svg\" xmlns:xlink=\"http://www.w3.org/1999/xlink\">\n",
       "<g id=\"graph0\" class=\"graph\" transform=\"scale(1 1) rotate(0) translate(4 206)\">\n",
       "<polygon fill=\"white\" stroke=\"transparent\" points=\"-4,4 -4,-206 1594,-206 1594,4 -4,4\"/>\n",
       "<!-- 2013503856656 -->\n",
       "<g id=\"node1\" class=\"node\">\n",
       "<title>2013503856656</title>\n",
       "<polygon fill=\"none\" stroke=\"black\" points=\"731.5,-137.5 731.5,-173.5 916.5,-173.5 916.5,-137.5 731.5,-137.5\"/>\n",
       "<text text-anchor=\"middle\" x=\"743\" y=\"-151.8\" font-family=\"Times New Roman,serif\" font-size=\"14.00\">b</text>\n",
       "<polyline fill=\"none\" stroke=\"black\" points=\"754.5,-137.5 754.5,-173.5 \"/>\n",
       "<text text-anchor=\"middle\" x=\"794.5\" y=\"-151.8\" font-family=\"Times New Roman,serif\" font-size=\"14.00\">data 6.8814</text>\n",
       "<polyline fill=\"none\" stroke=\"black\" points=\"834.5,-137.5 834.5,-173.5 \"/>\n",
       "<text text-anchor=\"middle\" x=\"875.5\" y=\"-151.8\" font-family=\"Times New Roman,serif\" font-size=\"14.00\">grad 0.5000</text>\n",
       "</g>\n",
       "<!-- 2013503850064+ -->\n",
       "<g id=\"node3\" class=\"node\">\n",
       "<title>2013503850064+</title>\n",
       "<ellipse fill=\"none\" stroke=\"black\" cx=\"1031\" cy=\"-127.5\" rx=\"27\" ry=\"18\"/>\n",
       "<text text-anchor=\"middle\" x=\"1031\" y=\"-123.8\" font-family=\"Times New Roman,serif\" font-size=\"14.00\">+</text>\n",
       "</g>\n",
       "<!-- 2013503856656&#45;&gt;2013503850064+ -->\n",
       "<g id=\"edge12\" class=\"edge\">\n",
       "<title>2013503856656&#45;&gt;2013503850064+</title>\n",
       "<path fill=\"none\" stroke=\"black\" d=\"M916.71,-142.97C944.19,-139.22 972.72,-135.32 994.28,-132.38\"/>\n",
       "<polygon fill=\"black\" stroke=\"black\" points=\"994.83,-135.84 1004.26,-131.02 993.88,-128.9 994.83,-135.84\"/>\n",
       "</g>\n",
       "<!-- 2013503850064 -->\n",
       "<g id=\"node2\" class=\"node\">\n",
       "<title>2013503850064</title>\n",
       "<polygon fill=\"none\" stroke=\"black\" points=\"1094,-109.5 1094,-145.5 1279,-145.5 1279,-109.5 1094,-109.5\"/>\n",
       "<text text-anchor=\"middle\" x=\"1105.5\" y=\"-123.8\" font-family=\"Times New Roman,serif\" font-size=\"14.00\">n</text>\n",
       "<polyline fill=\"none\" stroke=\"black\" points=\"1117,-109.5 1117,-145.5 \"/>\n",
       "<text text-anchor=\"middle\" x=\"1157\" y=\"-123.8\" font-family=\"Times New Roman,serif\" font-size=\"14.00\">data 0.8814</text>\n",
       "<polyline fill=\"none\" stroke=\"black\" points=\"1197,-109.5 1197,-145.5 \"/>\n",
       "<text text-anchor=\"middle\" x=\"1238\" y=\"-123.8\" font-family=\"Times New Roman,serif\" font-size=\"14.00\">grad 0.5000</text>\n",
       "</g>\n",
       "<!-- 2013503737040tanh -->\n",
       "<g id=\"node10\" class=\"node\">\n",
       "<title>2013503737040tanh</title>\n",
       "<ellipse fill=\"none\" stroke=\"black\" cx=\"1342\" cy=\"-127.5\" rx=\"27\" ry=\"18\"/>\n",
       "<text text-anchor=\"middle\" x=\"1342\" y=\"-123.8\" font-family=\"Times New Roman,serif\" font-size=\"14.00\">tanh</text>\n",
       "</g>\n",
       "<!-- 2013503850064&#45;&gt;2013503737040tanh -->\n",
       "<g id=\"edge6\" class=\"edge\">\n",
       "<title>2013503850064&#45;&gt;2013503737040tanh</title>\n",
       "<path fill=\"none\" stroke=\"black\" d=\"M1279.01,-127.5C1288.01,-127.5 1296.74,-127.5 1304.66,-127.5\"/>\n",
       "<polygon fill=\"black\" stroke=\"black\" points=\"1304.91,-131 1314.91,-127.5 1304.91,-124 1304.91,-131\"/>\n",
       "</g>\n",
       "<!-- 2013503850064+&#45;&gt;2013503850064 -->\n",
       "<g id=\"edge1\" class=\"edge\">\n",
       "<title>2013503850064+&#45;&gt;2013503850064</title>\n",
       "<path fill=\"none\" stroke=\"black\" d=\"M1058.04,-127.5C1065.58,-127.5 1074.3,-127.5 1083.57,-127.5\"/>\n",
       "<polygon fill=\"black\" stroke=\"black\" points=\"1083.81,-131 1093.81,-127.5 1083.81,-124 1083.81,-131\"/>\n",
       "</g>\n",
       "<!-- 2013503859152 -->\n",
       "<g id=\"node4\" class=\"node\">\n",
       "<title>2013503859152</title>\n",
       "<polygon fill=\"none\" stroke=\"black\" points=\"680,-82.5 680,-118.5 968,-118.5 968,-82.5 680,-82.5\"/>\n",
       "<text text-anchor=\"middle\" x=\"740.5\" y=\"-96.8\" font-family=\"Times New Roman,serif\" font-size=\"14.00\">x1 * w1 + x2 * w2</text>\n",
       "<polyline fill=\"none\" stroke=\"black\" points=\"801,-82.5 801,-118.5 \"/>\n",
       "<text text-anchor=\"middle\" x=\"843.5\" y=\"-96.8\" font-family=\"Times New Roman,serif\" font-size=\"14.00\">data &#45;6.0000</text>\n",
       "<polyline fill=\"none\" stroke=\"black\" points=\"886,-82.5 886,-118.5 \"/>\n",
       "<text text-anchor=\"middle\" x=\"927\" y=\"-96.8\" font-family=\"Times New Roman,serif\" font-size=\"14.00\">grad 0.5000</text>\n",
       "</g>\n",
       "<!-- 2013503859152&#45;&gt;2013503850064+ -->\n",
       "<g id=\"edge7\" class=\"edge\">\n",
       "<title>2013503859152&#45;&gt;2013503850064+</title>\n",
       "<path fill=\"none\" stroke=\"black\" d=\"M961.74,-118.51C973.37,-120.04 984.34,-121.49 993.94,-122.75\"/>\n",
       "<polygon fill=\"black\" stroke=\"black\" points=\"993.79,-126.26 1004.16,-124.1 994.71,-119.32 993.79,-126.26\"/>\n",
       "</g>\n",
       "<!-- 2013503859152+ -->\n",
       "<g id=\"node5\" class=\"node\">\n",
       "<title>2013503859152+</title>\n",
       "<ellipse fill=\"none\" stroke=\"black\" cx=\"617\" cy=\"-100.5\" rx=\"27\" ry=\"18\"/>\n",
       "<text text-anchor=\"middle\" x=\"617\" y=\"-96.8\" font-family=\"Times New Roman,serif\" font-size=\"14.00\">+</text>\n",
       "</g>\n",
       "<!-- 2013503859152+&#45;&gt;2013503859152 -->\n",
       "<g id=\"edge2\" class=\"edge\">\n",
       "<title>2013503859152+&#45;&gt;2013503859152</title>\n",
       "<path fill=\"none\" stroke=\"black\" d=\"M644.38,-100.5C651.69,-100.5 660.17,-100.5 669.41,-100.5\"/>\n",
       "<polygon fill=\"black\" stroke=\"black\" points=\"669.69,-104 679.69,-100.5 669.69,-97 669.69,-104\"/>\n",
       "</g>\n",
       "<!-- 2013503859280 -->\n",
       "<g id=\"node6\" class=\"node\">\n",
       "<title>2013503859280</title>\n",
       "<polygon fill=\"none\" stroke=\"black\" points=\"326,-110.5 326,-146.5 554,-146.5 554,-110.5 326,-110.5\"/>\n",
       "<text text-anchor=\"middle\" x=\"356.5\" y=\"-124.8\" font-family=\"Times New Roman,serif\" font-size=\"14.00\">x1 * w1</text>\n",
       "<polyline fill=\"none\" stroke=\"black\" points=\"387,-110.5 387,-146.5 \"/>\n",
       "<text text-anchor=\"middle\" x=\"429.5\" y=\"-124.8\" font-family=\"Times New Roman,serif\" font-size=\"14.00\">data &#45;6.0000</text>\n",
       "<polyline fill=\"none\" stroke=\"black\" points=\"472,-110.5 472,-146.5 \"/>\n",
       "<text text-anchor=\"middle\" x=\"513\" y=\"-124.8\" font-family=\"Times New Roman,serif\" font-size=\"14.00\">grad 0.5000</text>\n",
       "</g>\n",
       "<!-- 2013503859280&#45;&gt;2013503859152+ -->\n",
       "<g id=\"edge14\" class=\"edge\">\n",
       "<title>2013503859280&#45;&gt;2013503859152+</title>\n",
       "<path fill=\"none\" stroke=\"black\" d=\"M553.81,-110.45C563.28,-108.93 572.32,-107.49 580.43,-106.19\"/>\n",
       "<polygon fill=\"black\" stroke=\"black\" points=\"581.19,-109.61 590.51,-104.58 580.08,-102.7 581.19,-109.61\"/>\n",
       "</g>\n",
       "<!-- 2013503859280* -->\n",
       "<g id=\"node7\" class=\"node\">\n",
       "<title>2013503859280*</title>\n",
       "<ellipse fill=\"none\" stroke=\"black\" cx=\"263\" cy=\"-128.5\" rx=\"27\" ry=\"18\"/>\n",
       "<text text-anchor=\"middle\" x=\"263\" y=\"-124.8\" font-family=\"Times New Roman,serif\" font-size=\"14.00\">*</text>\n",
       "</g>\n",
       "<!-- 2013503859280*&#45;&gt;2013503859280 -->\n",
       "<g id=\"edge3\" class=\"edge\">\n",
       "<title>2013503859280*&#45;&gt;2013503859280</title>\n",
       "<path fill=\"none\" stroke=\"black\" d=\"M290.2,-128.5C297.62,-128.5 306.23,-128.5 315.48,-128.5\"/>\n",
       "<polygon fill=\"black\" stroke=\"black\" points=\"315.76,-132 325.76,-128.5 315.76,-125 315.76,-132\"/>\n",
       "</g>\n",
       "<!-- 2013503859792 -->\n",
       "<g id=\"node8\" class=\"node\">\n",
       "<title>2013503859792</title>\n",
       "<polygon fill=\"none\" stroke=\"black\" points=\"0,-165.5 0,-201.5 200,-201.5 200,-165.5 0,-165.5\"/>\n",
       "<text text-anchor=\"middle\" x=\"16.5\" y=\"-179.8\" font-family=\"Times New Roman,serif\" font-size=\"14.00\">w1</text>\n",
       "<polyline fill=\"none\" stroke=\"black\" points=\"33,-165.5 33,-201.5 \"/>\n",
       "<text text-anchor=\"middle\" x=\"75.5\" y=\"-179.8\" font-family=\"Times New Roman,serif\" font-size=\"14.00\">data &#45;3.0000</text>\n",
       "<polyline fill=\"none\" stroke=\"black\" points=\"118,-165.5 118,-201.5 \"/>\n",
       "<text text-anchor=\"middle\" x=\"159\" y=\"-179.8\" font-family=\"Times New Roman,serif\" font-size=\"14.00\">grad 1.0000</text>\n",
       "</g>\n",
       "<!-- 2013503859792&#45;&gt;2013503859280* -->\n",
       "<g id=\"edge8\" class=\"edge\">\n",
       "<title>2013503859792&#45;&gt;2013503859280*</title>\n",
       "<path fill=\"none\" stroke=\"black\" d=\"M172.53,-165.44C181.84,-162.67 191.2,-159.67 200,-156.5 210.53,-152.71 221.75,-147.9 231.72,-143.33\"/>\n",
       "<polygon fill=\"black\" stroke=\"black\" points=\"233.25,-146.48 240.82,-139.07 230.28,-140.14 233.25,-146.48\"/>\n",
       "</g>\n",
       "<!-- 2013503737040 -->\n",
       "<g id=\"node9\" class=\"node\">\n",
       "<title>2013503737040</title>\n",
       "<polygon fill=\"none\" stroke=\"black\" points=\"1405,-109.5 1405,-145.5 1590,-145.5 1590,-109.5 1405,-109.5\"/>\n",
       "<text text-anchor=\"middle\" x=\"1416.5\" y=\"-123.8\" font-family=\"Times New Roman,serif\" font-size=\"14.00\">o</text>\n",
       "<polyline fill=\"none\" stroke=\"black\" points=\"1428,-109.5 1428,-145.5 \"/>\n",
       "<text text-anchor=\"middle\" x=\"1468\" y=\"-123.8\" font-family=\"Times New Roman,serif\" font-size=\"14.00\">data 0.7071</text>\n",
       "<polyline fill=\"none\" stroke=\"black\" points=\"1508,-109.5 1508,-145.5 \"/>\n",
       "<text text-anchor=\"middle\" x=\"1549\" y=\"-123.8\" font-family=\"Times New Roman,serif\" font-size=\"14.00\">grad 1.0000</text>\n",
       "</g>\n",
       "<!-- 2013503737040tanh&#45;&gt;2013503737040 -->\n",
       "<g id=\"edge4\" class=\"edge\">\n",
       "<title>2013503737040tanh&#45;&gt;2013503737040</title>\n",
       "<path fill=\"none\" stroke=\"black\" d=\"M1369.04,-127.5C1376.58,-127.5 1385.3,-127.5 1394.57,-127.5\"/>\n",
       "<polygon fill=\"black\" stroke=\"black\" points=\"1394.81,-131 1404.81,-127.5 1394.81,-124 1394.81,-131\"/>\n",
       "</g>\n",
       "<!-- 2013503853328 -->\n",
       "<g id=\"node11\" class=\"node\">\n",
       "<title>2013503853328</title>\n",
       "<polygon fill=\"none\" stroke=\"black\" points=\"2,-110.5 2,-146.5 198,-146.5 198,-110.5 2,-110.5\"/>\n",
       "<text text-anchor=\"middle\" x=\"17\" y=\"-124.8\" font-family=\"Times New Roman,serif\" font-size=\"14.00\">x1</text>\n",
       "<polyline fill=\"none\" stroke=\"black\" points=\"32,-110.5 32,-146.5 \"/>\n",
       "<text text-anchor=\"middle\" x=\"72\" y=\"-124.8\" font-family=\"Times New Roman,serif\" font-size=\"14.00\">data 2.0000</text>\n",
       "<polyline fill=\"none\" stroke=\"black\" points=\"112,-110.5 112,-146.5 \"/>\n",
       "<text text-anchor=\"middle\" x=\"155\" y=\"-124.8\" font-family=\"Times New Roman,serif\" font-size=\"14.00\">grad &#45;1.5000</text>\n",
       "</g>\n",
       "<!-- 2013503853328&#45;&gt;2013503859280* -->\n",
       "<g id=\"edge9\" class=\"edge\">\n",
       "<title>2013503853328&#45;&gt;2013503859280*</title>\n",
       "<path fill=\"none\" stroke=\"black\" d=\"M198.37,-128.5C208.05,-128.5 217.4,-128.5 225.8,-128.5\"/>\n",
       "<polygon fill=\"black\" stroke=\"black\" points=\"225.91,-132 235.91,-128.5 225.91,-125 225.91,-132\"/>\n",
       "</g>\n",
       "<!-- 2013503856464 -->\n",
       "<g id=\"node12\" class=\"node\">\n",
       "<title>2013503856464</title>\n",
       "<polygon fill=\"none\" stroke=\"black\" points=\"2.5,-55.5 2.5,-91.5 197.5,-91.5 197.5,-55.5 2.5,-55.5\"/>\n",
       "<text text-anchor=\"middle\" x=\"19\" y=\"-69.8\" font-family=\"Times New Roman,serif\" font-size=\"14.00\">w2</text>\n",
       "<polyline fill=\"none\" stroke=\"black\" points=\"35.5,-55.5 35.5,-91.5 \"/>\n",
       "<text text-anchor=\"middle\" x=\"75.5\" y=\"-69.8\" font-family=\"Times New Roman,serif\" font-size=\"14.00\">data 1.0000</text>\n",
       "<polyline fill=\"none\" stroke=\"black\" points=\"115.5,-55.5 115.5,-91.5 \"/>\n",
       "<text text-anchor=\"middle\" x=\"156.5\" y=\"-69.8\" font-family=\"Times New Roman,serif\" font-size=\"14.00\">grad 0.0000</text>\n",
       "</g>\n",
       "<!-- 2013503854544* -->\n",
       "<g id=\"node15\" class=\"node\">\n",
       "<title>2013503854544*</title>\n",
       "<ellipse fill=\"none\" stroke=\"black\" cx=\"263\" cy=\"-73.5\" rx=\"27\" ry=\"18\"/>\n",
       "<text text-anchor=\"middle\" x=\"263\" y=\"-69.8\" font-family=\"Times New Roman,serif\" font-size=\"14.00\">*</text>\n",
       "</g>\n",
       "<!-- 2013503856464&#45;&gt;2013503854544* -->\n",
       "<g id=\"edge10\" class=\"edge\">\n",
       "<title>2013503856464&#45;&gt;2013503854544*</title>\n",
       "<path fill=\"none\" stroke=\"black\" d=\"M197.91,-73.5C207.65,-73.5 217.05,-73.5 225.52,-73.5\"/>\n",
       "<polygon fill=\"black\" stroke=\"black\" points=\"225.7,-77 235.7,-73.5 225.7,-70 225.7,-77\"/>\n",
       "</g>\n",
       "<!-- 2013503857040 -->\n",
       "<g id=\"node13\" class=\"node\">\n",
       "<title>2013503857040</title>\n",
       "<polygon fill=\"none\" stroke=\"black\" points=\"4,-0.5 4,-36.5 196,-36.5 196,-0.5 4,-0.5\"/>\n",
       "<text text-anchor=\"middle\" x=\"19\" y=\"-14.8\" font-family=\"Times New Roman,serif\" font-size=\"14.00\">x2</text>\n",
       "<polyline fill=\"none\" stroke=\"black\" points=\"34,-0.5 34,-36.5 \"/>\n",
       "<text text-anchor=\"middle\" x=\"74\" y=\"-14.8\" font-family=\"Times New Roman,serif\" font-size=\"14.00\">data 0.0000</text>\n",
       "<polyline fill=\"none\" stroke=\"black\" points=\"114,-0.5 114,-36.5 \"/>\n",
       "<text text-anchor=\"middle\" x=\"155\" y=\"-14.8\" font-family=\"Times New Roman,serif\" font-size=\"14.00\">grad 0.5000</text>\n",
       "</g>\n",
       "<!-- 2013503857040&#45;&gt;2013503854544* -->\n",
       "<g id=\"edge11\" class=\"edge\">\n",
       "<title>2013503857040&#45;&gt;2013503854544*</title>\n",
       "<path fill=\"none\" stroke=\"black\" d=\"M169.28,-36.5C179.65,-39.61 190.16,-42.98 200,-46.5 210.28,-50.17 221.28,-54.74 231.11,-59.07\"/>\n",
       "<polygon fill=\"black\" stroke=\"black\" points=\"229.93,-62.37 240.48,-63.27 232.79,-55.99 229.93,-62.37\"/>\n",
       "</g>\n",
       "<!-- 2013503854544 -->\n",
       "<g id=\"node14\" class=\"node\">\n",
       "<title>2013503854544</title>\n",
       "<polygon fill=\"none\" stroke=\"black\" points=\"328.5,-55.5 328.5,-91.5 551.5,-91.5 551.5,-55.5 328.5,-55.5\"/>\n",
       "<text text-anchor=\"middle\" x=\"359\" y=\"-69.8\" font-family=\"Times New Roman,serif\" font-size=\"14.00\">x2 * w2</text>\n",
       "<polyline fill=\"none\" stroke=\"black\" points=\"389.5,-55.5 389.5,-91.5 \"/>\n",
       "<text text-anchor=\"middle\" x=\"429.5\" y=\"-69.8\" font-family=\"Times New Roman,serif\" font-size=\"14.00\">data 0.0000</text>\n",
       "<polyline fill=\"none\" stroke=\"black\" points=\"469.5,-55.5 469.5,-91.5 \"/>\n",
       "<text text-anchor=\"middle\" x=\"510.5\" y=\"-69.8\" font-family=\"Times New Roman,serif\" font-size=\"14.00\">grad 0.5000</text>\n",
       "</g>\n",
       "<!-- 2013503854544&#45;&gt;2013503859152+ -->\n",
       "<g id=\"edge13\" class=\"edge\">\n",
       "<title>2013503854544&#45;&gt;2013503859152+</title>\n",
       "<path fill=\"none\" stroke=\"black\" d=\"M551.83,-90.6C562.05,-92.18 571.82,-93.68 580.51,-95.02\"/>\n",
       "<polygon fill=\"black\" stroke=\"black\" points=\"580.12,-98.51 590.54,-96.57 581.19,-91.59 580.12,-98.51\"/>\n",
       "</g>\n",
       "<!-- 2013503854544*&#45;&gt;2013503854544 -->\n",
       "<g id=\"edge5\" class=\"edge\">\n",
       "<title>2013503854544*&#45;&gt;2013503854544</title>\n",
       "<path fill=\"none\" stroke=\"black\" d=\"M290.2,-73.5C298.36,-73.5 307.96,-73.5 318.28,-73.5\"/>\n",
       "<polygon fill=\"black\" stroke=\"black\" points=\"318.37,-77 328.37,-73.5 318.37,-70 318.37,-77\"/>\n",
       "</g>\n",
       "</g>\n",
       "</svg>\n"
      ],
      "text/plain": [
       "<graphviz.graphs.Digraph at 0x1d4cce78410>"
      ]
     },
     "execution_count": 216,
     "metadata": {},
     "output_type": "execute_result"
    }
   ],
   "source": [
    "draw_dot(o)"
   ]
  },
  {
   "cell_type": "code",
   "execution_count": 217,
   "metadata": {},
   "outputs": [
    {
     "data": {
      "image/svg+xml": [
       "<?xml version=\"1.0\" encoding=\"UTF-8\" standalone=\"no\"?>\n",
       "<!DOCTYPE svg PUBLIC \"-//W3C//DTD SVG 1.1//EN\"\n",
       " \"http://www.w3.org/Graphics/SVG/1.1/DTD/svg11.dtd\">\n",
       "<!-- Generated by graphviz version 2.50.0 (0)\n",
       " -->\n",
       "<!-- Pages: 1 -->\n",
       "<svg width=\"2967pt\" height=\"239pt\"\n",
       " viewBox=\"0.00 0.00 2967.00 239.00\" xmlns=\"http://www.w3.org/2000/svg\" xmlns:xlink=\"http://www.w3.org/1999/xlink\">\n",
       "<g id=\"graph0\" class=\"graph\" transform=\"scale(1 1) rotate(0) translate(4 235)\">\n",
       "<polygon fill=\"white\" stroke=\"transparent\" points=\"-4,4 -4,-235 2963,-235 2963,4 -4,4\"/>\n",
       "<!-- 2013503854096 -->\n",
       "<g id=\"node1\" class=\"node\">\n",
       "<title>2013503854096</title>\n",
       "<polygon fill=\"none\" stroke=\"black\" points=\"4,-194.5 4,-230.5 196,-230.5 196,-194.5 4,-194.5\"/>\n",
       "<text text-anchor=\"middle\" x=\"19\" y=\"-208.8\" font-family=\"Times New Roman,serif\" font-size=\"14.00\">x2</text>\n",
       "<polyline fill=\"none\" stroke=\"black\" points=\"34,-194.5 34,-230.5 \"/>\n",
       "<text text-anchor=\"middle\" x=\"74\" y=\"-208.8\" font-family=\"Times New Roman,serif\" font-size=\"14.00\">data 0.0000</text>\n",
       "<polyline fill=\"none\" stroke=\"black\" points=\"114,-194.5 114,-230.5 \"/>\n",
       "<text text-anchor=\"middle\" x=\"155\" y=\"-208.8\" font-family=\"Times New Roman,serif\" font-size=\"14.00\">grad 0.5000</text>\n",
       "</g>\n",
       "<!-- 2013465524880* -->\n",
       "<g id=\"node7\" class=\"node\">\n",
       "<title>2013465524880*</title>\n",
       "<ellipse fill=\"none\" stroke=\"black\" cx=\"263\" cy=\"-157.5\" rx=\"27\" ry=\"18\"/>\n",
       "<text text-anchor=\"middle\" x=\"263\" y=\"-153.8\" font-family=\"Times New Roman,serif\" font-size=\"14.00\">*</text>\n",
       "</g>\n",
       "<!-- 2013503854096&#45;&gt;2013465524880* -->\n",
       "<g id=\"edge21\" class=\"edge\">\n",
       "<title>2013503854096&#45;&gt;2013465524880*</title>\n",
       "<path fill=\"none\" stroke=\"black\" d=\"M172.53,-194.44C181.84,-191.67 191.2,-188.67 200,-185.5 210.53,-181.71 221.75,-176.9 231.72,-172.33\"/>\n",
       "<polygon fill=\"black\" stroke=\"black\" points=\"233.25,-175.48 240.82,-168.07 230.28,-169.14 233.25,-175.48\"/>\n",
       "</g>\n",
       "<!-- 2013503851600 -->\n",
       "<g id=\"node2\" class=\"node\">\n",
       "<title>2013503851600</title>\n",
       "<polygon fill=\"none\" stroke=\"black\" points=\"2774,-54.5 2774,-90.5 2959,-90.5 2959,-54.5 2774,-54.5\"/>\n",
       "<text text-anchor=\"middle\" x=\"2785.5\" y=\"-68.8\" font-family=\"Times New Roman,serif\" font-size=\"14.00\">o</text>\n",
       "<polyline fill=\"none\" stroke=\"black\" points=\"2797,-54.5 2797,-90.5 \"/>\n",
       "<text text-anchor=\"middle\" x=\"2837\" y=\"-68.8\" font-family=\"Times New Roman,serif\" font-size=\"14.00\">data 0.7071</text>\n",
       "<polyline fill=\"none\" stroke=\"black\" points=\"2877,-54.5 2877,-90.5 \"/>\n",
       "<text text-anchor=\"middle\" x=\"2918\" y=\"-68.8\" font-family=\"Times New Roman,serif\" font-size=\"14.00\">grad 1.0000</text>\n",
       "</g>\n",
       "<!-- 2013503851600* -->\n",
       "<g id=\"node3\" class=\"node\">\n",
       "<title>2013503851600*</title>\n",
       "<ellipse fill=\"none\" stroke=\"black\" cx=\"2711\" cy=\"-72.5\" rx=\"27\" ry=\"18\"/>\n",
       "<text text-anchor=\"middle\" x=\"2711\" y=\"-68.8\" font-family=\"Times New Roman,serif\" font-size=\"14.00\">*</text>\n",
       "</g>\n",
       "<!-- 2013503851600*&#45;&gt;2013503851600 -->\n",
       "<g id=\"edge1\" class=\"edge\">\n",
       "<title>2013503851600*&#45;&gt;2013503851600</title>\n",
       "<path fill=\"none\" stroke=\"black\" d=\"M2738.04,-72.5C2745.58,-72.5 2754.3,-72.5 2763.57,-72.5\"/>\n",
       "<polygon fill=\"black\" stroke=\"black\" points=\"2763.81,-76 2773.81,-72.5 2763.81,-69 2763.81,-76\"/>\n",
       "</g>\n",
       "<!-- 2013503851088 -->\n",
       "<g id=\"node4\" class=\"node\">\n",
       "<title>2013503851088</title>\n",
       "<polygon fill=\"none\" stroke=\"black\" points=\"2248,-82.5 2248,-118.5 2430,-118.5 2430,-82.5 2248,-82.5\"/>\n",
       "<text text-anchor=\"middle\" x=\"2258\" y=\"-96.8\" font-family=\"Times New Roman,serif\" font-size=\"14.00\"> </text>\n",
       "<polyline fill=\"none\" stroke=\"black\" points=\"2268,-82.5 2268,-118.5 \"/>\n",
       "<text text-anchor=\"middle\" x=\"2308\" y=\"-96.8\" font-family=\"Times New Roman,serif\" font-size=\"14.00\">data 4.8284</text>\n",
       "<polyline fill=\"none\" stroke=\"black\" points=\"2348,-82.5 2348,-118.5 \"/>\n",
       "<text text-anchor=\"middle\" x=\"2389\" y=\"-96.8\" font-family=\"Times New Roman,serif\" font-size=\"14.00\">grad 0.1464</text>\n",
       "</g>\n",
       "<!-- 2013503851088&#45;&gt;2013503851600* -->\n",
       "<g id=\"edge19\" class=\"edge\">\n",
       "<title>2013503851088&#45;&gt;2013503851600*</title>\n",
       "<path fill=\"none\" stroke=\"black\" d=\"M2430.31,-93.9C2491.7,-89.37 2574.76,-83.19 2648,-77.5 2656.42,-76.85 2665.48,-76.13 2674.01,-75.44\"/>\n",
       "<polygon fill=\"black\" stroke=\"black\" points=\"2674.37,-78.92 2684.06,-74.63 2673.81,-71.94 2674.37,-78.92\"/>\n",
       "</g>\n",
       "<!-- 2013503851088+ -->\n",
       "<g id=\"node5\" class=\"node\">\n",
       "<title>2013503851088+</title>\n",
       "<ellipse fill=\"none\" stroke=\"black\" cx=\"1963\" cy=\"-100.5\" rx=\"27\" ry=\"18\"/>\n",
       "<text text-anchor=\"middle\" x=\"1963\" y=\"-96.8\" font-family=\"Times New Roman,serif\" font-size=\"14.00\">+</text>\n",
       "</g>\n",
       "<!-- 2013503851088+&#45;&gt;2013503851088 -->\n",
       "<g id=\"edge2\" class=\"edge\">\n",
       "<title>2013503851088+&#45;&gt;2013503851088</title>\n",
       "<path fill=\"none\" stroke=\"black\" d=\"M1990,-100.5C2040.46,-100.5 2154.06,-100.5 2237.81,-100.5\"/>\n",
       "<polygon fill=\"black\" stroke=\"black\" points=\"2237.87,-104 2247.87,-100.5 2237.87,-97 2237.87,-104\"/>\n",
       "</g>\n",
       "<!-- 2013465524880 -->\n",
       "<g id=\"node6\" class=\"node\">\n",
       "<title>2013465524880</title>\n",
       "<polygon fill=\"none\" stroke=\"black\" points=\"328.5,-139.5 328.5,-175.5 551.5,-175.5 551.5,-139.5 328.5,-139.5\"/>\n",
       "<text text-anchor=\"middle\" x=\"359\" y=\"-153.8\" font-family=\"Times New Roman,serif\" font-size=\"14.00\">x2 * w2</text>\n",
       "<polyline fill=\"none\" stroke=\"black\" points=\"389.5,-139.5 389.5,-175.5 \"/>\n",
       "<text text-anchor=\"middle\" x=\"429.5\" y=\"-153.8\" font-family=\"Times New Roman,serif\" font-size=\"14.00\">data 0.0000</text>\n",
       "<polyline fill=\"none\" stroke=\"black\" points=\"469.5,-139.5 469.5,-175.5 \"/>\n",
       "<text text-anchor=\"middle\" x=\"510.5\" y=\"-153.8\" font-family=\"Times New Roman,serif\" font-size=\"14.00\">grad 0.5000</text>\n",
       "</g>\n",
       "<!-- 2013503862992+ -->\n",
       "<g id=\"node12\" class=\"node\">\n",
       "<title>2013503862992+</title>\n",
       "<ellipse fill=\"none\" stroke=\"black\" cx=\"617\" cy=\"-129.5\" rx=\"27\" ry=\"18\"/>\n",
       "<text text-anchor=\"middle\" x=\"617\" y=\"-125.8\" font-family=\"Times New Roman,serif\" font-size=\"14.00\">+</text>\n",
       "</g>\n",
       "<!-- 2013465524880&#45;&gt;2013503862992+ -->\n",
       "<g id=\"edge22\" class=\"edge\">\n",
       "<title>2013465524880&#45;&gt;2013503862992+</title>\n",
       "<path fill=\"none\" stroke=\"black\" d=\"M551.83,-139.77C562.05,-138.13 571.82,-136.57 580.51,-135.18\"/>\n",
       "<polygon fill=\"black\" stroke=\"black\" points=\"581.21,-138.61 590.54,-133.57 580.11,-131.7 581.21,-138.61\"/>\n",
       "</g>\n",
       "<!-- 2013465524880*&#45;&gt;2013465524880 -->\n",
       "<g id=\"edge3\" class=\"edge\">\n",
       "<title>2013465524880*&#45;&gt;2013465524880</title>\n",
       "<path fill=\"none\" stroke=\"black\" d=\"M290.2,-157.5C298.36,-157.5 307.96,-157.5 318.28,-157.5\"/>\n",
       "<polygon fill=\"black\" stroke=\"black\" points=\"318.37,-161 328.37,-157.5 318.37,-154 318.37,-161\"/>\n",
       "</g>\n",
       "<!-- 2013490063504 -->\n",
       "<g id=\"node8\" class=\"node\">\n",
       "<title>2013490063504</title>\n",
       "<polygon fill=\"none\" stroke=\"black\" points=\"1713,-110.5 1713,-146.5 1900,-146.5 1900,-110.5 1713,-110.5\"/>\n",
       "<text text-anchor=\"middle\" x=\"1723\" y=\"-124.8\" font-family=\"Times New Roman,serif\" font-size=\"14.00\"> </text>\n",
       "<polyline fill=\"none\" stroke=\"black\" points=\"1733,-110.5 1733,-146.5 \"/>\n",
       "<text text-anchor=\"middle\" x=\"1775.5\" y=\"-124.8\" font-family=\"Times New Roman,serif\" font-size=\"14.00\">data &#45;1.0000</text>\n",
       "<polyline fill=\"none\" stroke=\"black\" points=\"1818,-110.5 1818,-146.5 \"/>\n",
       "<text text-anchor=\"middle\" x=\"1859\" y=\"-124.8\" font-family=\"Times New Roman,serif\" font-size=\"14.00\">grad 0.1464</text>\n",
       "</g>\n",
       "<!-- 2013490063504&#45;&gt;2013503851088+ -->\n",
       "<g id=\"edge28\" class=\"edge\">\n",
       "<title>2013490063504&#45;&gt;2013503851088+</title>\n",
       "<path fill=\"none\" stroke=\"black\" d=\"M1900.05,-111.73C1909.54,-110.01 1918.71,-108.35 1926.95,-106.85\"/>\n",
       "<polygon fill=\"black\" stroke=\"black\" points=\"1927.64,-110.28 1936.85,-105.06 1926.39,-103.4 1927.64,-110.28\"/>\n",
       "</g>\n",
       "<!-- 2013486813904 -->\n",
       "<g id=\"node9\" class=\"node\">\n",
       "<title>2013486813904</title>\n",
       "<polygon fill=\"none\" stroke=\"black\" points=\"2466,-31.5 2466,-67.5 2648,-67.5 2648,-31.5 2466,-31.5\"/>\n",
       "<text text-anchor=\"middle\" x=\"2476\" y=\"-45.8\" font-family=\"Times New Roman,serif\" font-size=\"14.00\"> </text>\n",
       "<polyline fill=\"none\" stroke=\"black\" points=\"2486,-31.5 2486,-67.5 \"/>\n",
       "<text text-anchor=\"middle\" x=\"2526\" y=\"-45.8\" font-family=\"Times New Roman,serif\" font-size=\"14.00\">data 0.1464</text>\n",
       "<polyline fill=\"none\" stroke=\"black\" points=\"2566,-31.5 2566,-67.5 \"/>\n",
       "<text text-anchor=\"middle\" x=\"2607\" y=\"-45.8\" font-family=\"Times New Roman,serif\" font-size=\"14.00\">grad 4.8284</text>\n",
       "</g>\n",
       "<!-- 2013486813904&#45;&gt;2013503851600* -->\n",
       "<g id=\"edge13\" class=\"edge\">\n",
       "<title>2013486813904&#45;&gt;2013503851600*</title>\n",
       "<path fill=\"none\" stroke=\"black\" d=\"M2648.18,-63.15C2657.42,-64.54 2666.38,-65.9 2674.47,-67.12\"/>\n",
       "<polygon fill=\"black\" stroke=\"black\" points=\"2674.15,-70.61 2684.56,-68.65 2675.19,-63.69 2674.15,-70.61\"/>\n",
       "</g>\n",
       "<!-- 2013486813904**&#45;1 -->\n",
       "<g id=\"node10\" class=\"node\">\n",
       "<title>2013486813904**&#45;1</title>\n",
       "<ellipse fill=\"none\" stroke=\"black\" cx=\"2339\" cy=\"-45.5\" rx=\"27\" ry=\"18\"/>\n",
       "<text text-anchor=\"middle\" x=\"2339\" y=\"-41.8\" font-family=\"Times New Roman,serif\" font-size=\"14.00\">**&#45;1</text>\n",
       "</g>\n",
       "<!-- 2013486813904**&#45;1&#45;&gt;2013486813904 -->\n",
       "<g id=\"edge4\" class=\"edge\">\n",
       "<title>2013486813904**&#45;1&#45;&gt;2013486813904</title>\n",
       "<path fill=\"none\" stroke=\"black\" d=\"M2366.05,-45.98C2388.53,-46.4 2422.48,-47.03 2455.5,-47.64\"/>\n",
       "<polygon fill=\"black\" stroke=\"black\" points=\"2455.64,-51.14 2465.7,-47.83 2455.77,-44.14 2455.64,-51.14\"/>\n",
       "</g>\n",
       "<!-- 2013503862992 -->\n",
       "<g id=\"node11\" class=\"node\">\n",
       "<title>2013503862992</title>\n",
       "<polygon fill=\"none\" stroke=\"black\" points=\"680,-111.5 680,-147.5 968,-147.5 968,-111.5 680,-111.5\"/>\n",
       "<text text-anchor=\"middle\" x=\"740.5\" y=\"-125.8\" font-family=\"Times New Roman,serif\" font-size=\"14.00\">x1 * w1 + x2 * w2</text>\n",
       "<polyline fill=\"none\" stroke=\"black\" points=\"801,-111.5 801,-147.5 \"/>\n",
       "<text text-anchor=\"middle\" x=\"843.5\" y=\"-125.8\" font-family=\"Times New Roman,serif\" font-size=\"14.00\">data &#45;6.0000</text>\n",
       "<polyline fill=\"none\" stroke=\"black\" points=\"886,-111.5 886,-147.5 \"/>\n",
       "<text text-anchor=\"middle\" x=\"927\" y=\"-125.8\" font-family=\"Times New Roman,serif\" font-size=\"14.00\">grad 0.5000</text>\n",
       "</g>\n",
       "<!-- 2013503852880+ -->\n",
       "<g id=\"node21\" class=\"node\">\n",
       "<title>2013503852880+</title>\n",
       "<ellipse fill=\"none\" stroke=\"black\" cx=\"1031\" cy=\"-101.5\" rx=\"27\" ry=\"18\"/>\n",
       "<text text-anchor=\"middle\" x=\"1031\" y=\"-97.8\" font-family=\"Times New Roman,serif\" font-size=\"14.00\">+</text>\n",
       "</g>\n",
       "<!-- 2013503862992&#45;&gt;2013503852880+ -->\n",
       "<g id=\"edge18\" class=\"edge\">\n",
       "<title>2013503862992&#45;&gt;2013503852880+</title>\n",
       "<path fill=\"none\" stroke=\"black\" d=\"M956.86,-111.49C970.52,-109.62 983.43,-107.86 994.48,-106.35\"/>\n",
       "<polygon fill=\"black\" stroke=\"black\" points=\"995.05,-109.81 1004.48,-104.99 994.1,-102.87 995.05,-109.81\"/>\n",
       "</g>\n",
       "<!-- 2013503862992+&#45;&gt;2013503862992 -->\n",
       "<g id=\"edge5\" class=\"edge\">\n",
       "<title>2013503862992+&#45;&gt;2013503862992</title>\n",
       "<path fill=\"none\" stroke=\"black\" d=\"M644.38,-129.5C651.69,-129.5 660.17,-129.5 669.41,-129.5\"/>\n",
       "<polygon fill=\"black\" stroke=\"black\" points=\"669.69,-133 679.69,-129.5 669.69,-126 669.69,-133\"/>\n",
       "</g>\n",
       "<!-- 2013503852240 -->\n",
       "<g id=\"node13\" class=\"node\">\n",
       "<title>2013503852240</title>\n",
       "<polygon fill=\"none\" stroke=\"black\" points=\"0,-84.5 0,-120.5 200,-120.5 200,-84.5 0,-84.5\"/>\n",
       "<text text-anchor=\"middle\" x=\"16.5\" y=\"-98.8\" font-family=\"Times New Roman,serif\" font-size=\"14.00\">w1</text>\n",
       "<polyline fill=\"none\" stroke=\"black\" points=\"33,-84.5 33,-120.5 \"/>\n",
       "<text text-anchor=\"middle\" x=\"75.5\" y=\"-98.8\" font-family=\"Times New Roman,serif\" font-size=\"14.00\">data &#45;3.0000</text>\n",
       "<polyline fill=\"none\" stroke=\"black\" points=\"118,-84.5 118,-120.5 \"/>\n",
       "<text text-anchor=\"middle\" x=\"159\" y=\"-98.8\" font-family=\"Times New Roman,serif\" font-size=\"14.00\">grad 1.0000</text>\n",
       "</g>\n",
       "<!-- 2013503858064* -->\n",
       "<g id=\"node26\" class=\"node\">\n",
       "<title>2013503858064*</title>\n",
       "<ellipse fill=\"none\" stroke=\"black\" cx=\"263\" cy=\"-102.5\" rx=\"27\" ry=\"18\"/>\n",
       "<text text-anchor=\"middle\" x=\"263\" y=\"-98.8\" font-family=\"Times New Roman,serif\" font-size=\"14.00\">*</text>\n",
       "</g>\n",
       "<!-- 2013503852240&#45;&gt;2013503858064* -->\n",
       "<g id=\"edge12\" class=\"edge\">\n",
       "<title>2013503852240&#45;&gt;2013503858064*</title>\n",
       "<path fill=\"none\" stroke=\"black\" d=\"M200.21,-102.5C209.2,-102.5 217.86,-102.5 225.7,-102.5\"/>\n",
       "<polygon fill=\"black\" stroke=\"black\" points=\"225.85,-106 235.85,-102.5 225.85,-99 225.85,-106\"/>\n",
       "</g>\n",
       "<!-- 2013503864080 -->\n",
       "<g id=\"node14\" class=\"node\">\n",
       "<title>2013503864080</title>\n",
       "<polygon fill=\"none\" stroke=\"black\" points=\"2026,-27.5 2026,-63.5 2212,-63.5 2212,-27.5 2026,-27.5\"/>\n",
       "<text text-anchor=\"middle\" x=\"2036\" y=\"-41.8\" font-family=\"Times New Roman,serif\" font-size=\"14.00\"> </text>\n",
       "<polyline fill=\"none\" stroke=\"black\" points=\"2046,-27.5 2046,-63.5 \"/>\n",
       "<text text-anchor=\"middle\" x=\"2086\" y=\"-41.8\" font-family=\"Times New Roman,serif\" font-size=\"14.00\">data 6.8284</text>\n",
       "<polyline fill=\"none\" stroke=\"black\" points=\"2126,-27.5 2126,-63.5 \"/>\n",
       "<text text-anchor=\"middle\" x=\"2169\" y=\"-41.8\" font-family=\"Times New Roman,serif\" font-size=\"14.00\">grad &#45;0.1036</text>\n",
       "</g>\n",
       "<!-- 2013503864080&#45;&gt;2013486813904**&#45;1 -->\n",
       "<g id=\"edge23\" class=\"edge\">\n",
       "<title>2013503864080&#45;&gt;2013486813904**&#45;1</title>\n",
       "<path fill=\"none\" stroke=\"black\" d=\"M2212.14,-45.5C2243.72,-45.5 2277.24,-45.5 2301.74,-45.5\"/>\n",
       "<polygon fill=\"black\" stroke=\"black\" points=\"2301.98,-49 2311.98,-45.5 2301.98,-42 2301.98,-49\"/>\n",
       "</g>\n",
       "<!-- 2013503864080+ -->\n",
       "<g id=\"node15\" class=\"node\">\n",
       "<title>2013503864080+</title>\n",
       "<ellipse fill=\"none\" stroke=\"black\" cx=\"1963\" cy=\"-45.5\" rx=\"27\" ry=\"18\"/>\n",
       "<text text-anchor=\"middle\" x=\"1963\" y=\"-41.8\" font-family=\"Times New Roman,serif\" font-size=\"14.00\">+</text>\n",
       "</g>\n",
       "<!-- 2013503864080+&#45;&gt;2013503864080 -->\n",
       "<g id=\"edge6\" class=\"edge\">\n",
       "<title>2013503864080+&#45;&gt;2013503864080</title>\n",
       "<path fill=\"none\" stroke=\"black\" d=\"M1990.12,-45.5C1997.62,-45.5 2006.29,-45.5 2015.5,-45.5\"/>\n",
       "<polygon fill=\"black\" stroke=\"black\" points=\"2015.69,-49 2025.69,-45.5 2015.69,-42 2015.69,-49\"/>\n",
       "</g>\n",
       "<!-- 2013503850768 -->\n",
       "<g id=\"node16\" class=\"node\">\n",
       "<title>2013503850768</title>\n",
       "<polygon fill=\"none\" stroke=\"black\" points=\"1713.5,-0.5 1713.5,-36.5 1899.5,-36.5 1899.5,-0.5 1713.5,-0.5\"/>\n",
       "<text text-anchor=\"middle\" x=\"1723.5\" y=\"-14.8\" font-family=\"Times New Roman,serif\" font-size=\"14.00\"> </text>\n",
       "<polyline fill=\"none\" stroke=\"black\" points=\"1733.5,-0.5 1733.5,-36.5 \"/>\n",
       "<text text-anchor=\"middle\" x=\"1773.5\" y=\"-14.8\" font-family=\"Times New Roman,serif\" font-size=\"14.00\">data 1.0000</text>\n",
       "<polyline fill=\"none\" stroke=\"black\" points=\"1813.5,-0.5 1813.5,-36.5 \"/>\n",
       "<text text-anchor=\"middle\" x=\"1856.5\" y=\"-14.8\" font-family=\"Times New Roman,serif\" font-size=\"14.00\">grad &#45;0.1036</text>\n",
       "</g>\n",
       "<!-- 2013503850768&#45;&gt;2013503864080+ -->\n",
       "<g id=\"edge25\" class=\"edge\">\n",
       "<title>2013503850768&#45;&gt;2013503864080+</title>\n",
       "<path fill=\"none\" stroke=\"black\" d=\"M1899.6,-34.6C1909.15,-36.26 1918.37,-37.88 1926.68,-39.33\"/>\n",
       "<polygon fill=\"black\" stroke=\"black\" points=\"1926.2,-42.8 1936.65,-41.07 1927.4,-35.9 1926.2,-42.8\"/>\n",
       "</g>\n",
       "<!-- 2013503852304 -->\n",
       "<g id=\"node17\" class=\"node\">\n",
       "<title>2013503852304</title>\n",
       "<polygon fill=\"none\" stroke=\"black\" points=\"1405,-55.5 1405,-91.5 1587,-91.5 1587,-55.5 1405,-55.5\"/>\n",
       "<text text-anchor=\"middle\" x=\"1415\" y=\"-69.8\" font-family=\"Times New Roman,serif\" font-size=\"14.00\"> </text>\n",
       "<polyline fill=\"none\" stroke=\"black\" points=\"1425,-55.5 1425,-91.5 \"/>\n",
       "<text text-anchor=\"middle\" x=\"1465\" y=\"-69.8\" font-family=\"Times New Roman,serif\" font-size=\"14.00\">data 1.7627</text>\n",
       "<polyline fill=\"none\" stroke=\"black\" points=\"1505,-55.5 1505,-91.5 \"/>\n",
       "<text text-anchor=\"middle\" x=\"1546\" y=\"-69.8\" font-family=\"Times New Roman,serif\" font-size=\"14.00\">grad 0.2500</text>\n",
       "</g>\n",
       "<!-- 2013503858128exp -->\n",
       "<g id=\"node28\" class=\"node\">\n",
       "<title>2013503858128exp</title>\n",
       "<ellipse fill=\"none\" stroke=\"black\" cx=\"1650\" cy=\"-73.5\" rx=\"27\" ry=\"18\"/>\n",
       "<text text-anchor=\"middle\" x=\"1650\" y=\"-69.8\" font-family=\"Times New Roman,serif\" font-size=\"14.00\">exp</text>\n",
       "</g>\n",
       "<!-- 2013503852304&#45;&gt;2013503858128exp -->\n",
       "<g id=\"edge26\" class=\"edge\">\n",
       "<title>2013503852304&#45;&gt;2013503858128exp</title>\n",
       "<path fill=\"none\" stroke=\"black\" d=\"M1587.18,-73.5C1596.14,-73.5 1604.83,-73.5 1612.73,-73.5\"/>\n",
       "<polygon fill=\"black\" stroke=\"black\" points=\"1612.96,-77 1622.96,-73.5 1612.96,-70 1612.96,-77\"/>\n",
       "</g>\n",
       "<!-- 2013503852304* -->\n",
       "<g id=\"node18\" class=\"node\">\n",
       "<title>2013503852304*</title>\n",
       "<ellipse fill=\"none\" stroke=\"black\" cx=\"1342\" cy=\"-73.5\" rx=\"27\" ry=\"18\"/>\n",
       "<text text-anchor=\"middle\" x=\"1342\" y=\"-69.8\" font-family=\"Times New Roman,serif\" font-size=\"14.00\">*</text>\n",
       "</g>\n",
       "<!-- 2013503852304*&#45;&gt;2013503852304 -->\n",
       "<g id=\"edge7\" class=\"edge\">\n",
       "<title>2013503852304*&#45;&gt;2013503852304</title>\n",
       "<path fill=\"none\" stroke=\"black\" d=\"M1369.13,-73.5C1376.67,-73.5 1385.39,-73.5 1394.64,-73.5\"/>\n",
       "<polygon fill=\"black\" stroke=\"black\" points=\"1394.87,-77 1404.87,-73.5 1394.87,-70 1394.87,-77\"/>\n",
       "</g>\n",
       "<!-- 2013503853840 -->\n",
       "<g id=\"node19\" class=\"node\">\n",
       "<title>2013503853840</title>\n",
       "<polygon fill=\"none\" stroke=\"black\" points=\"1095.5,-28.5 1095.5,-64.5 1277.5,-64.5 1277.5,-28.5 1095.5,-28.5\"/>\n",
       "<text text-anchor=\"middle\" x=\"1105.5\" y=\"-42.8\" font-family=\"Times New Roman,serif\" font-size=\"14.00\"> </text>\n",
       "<polyline fill=\"none\" stroke=\"black\" points=\"1115.5,-28.5 1115.5,-64.5 \"/>\n",
       "<text text-anchor=\"middle\" x=\"1155.5\" y=\"-42.8\" font-family=\"Times New Roman,serif\" font-size=\"14.00\">data 2.0000</text>\n",
       "<polyline fill=\"none\" stroke=\"black\" points=\"1195.5,-28.5 1195.5,-64.5 \"/>\n",
       "<text text-anchor=\"middle\" x=\"1236.5\" y=\"-42.8\" font-family=\"Times New Roman,serif\" font-size=\"14.00\">grad 0.2203</text>\n",
       "</g>\n",
       "<!-- 2013503853840&#45;&gt;2013503852304* -->\n",
       "<g id=\"edge24\" class=\"edge\">\n",
       "<title>2013503853840&#45;&gt;2013503852304*</title>\n",
       "<path fill=\"none\" stroke=\"black\" d=\"M1277.68,-62.36C1287.61,-64.11 1297.23,-65.8 1305.84,-67.32\"/>\n",
       "<polygon fill=\"black\" stroke=\"black\" points=\"1305.36,-70.78 1315.81,-69.07 1306.57,-63.89 1305.36,-70.78\"/>\n",
       "</g>\n",
       "<!-- 2013503852880 -->\n",
       "<g id=\"node20\" class=\"node\">\n",
       "<title>2013503852880</title>\n",
       "<polygon fill=\"none\" stroke=\"black\" points=\"1094,-83.5 1094,-119.5 1279,-119.5 1279,-83.5 1094,-83.5\"/>\n",
       "<text text-anchor=\"middle\" x=\"1105.5\" y=\"-97.8\" font-family=\"Times New Roman,serif\" font-size=\"14.00\">n</text>\n",
       "<polyline fill=\"none\" stroke=\"black\" points=\"1117,-83.5 1117,-119.5 \"/>\n",
       "<text text-anchor=\"middle\" x=\"1157\" y=\"-97.8\" font-family=\"Times New Roman,serif\" font-size=\"14.00\">data 0.8814</text>\n",
       "<polyline fill=\"none\" stroke=\"black\" points=\"1197,-83.5 1197,-119.5 \"/>\n",
       "<text text-anchor=\"middle\" x=\"1238\" y=\"-97.8\" font-family=\"Times New Roman,serif\" font-size=\"14.00\">grad 0.5000</text>\n",
       "</g>\n",
       "<!-- 2013503852880&#45;&gt;2013503852304* -->\n",
       "<g id=\"edge14\" class=\"edge\">\n",
       "<title>2013503852880&#45;&gt;2013503852304*</title>\n",
       "<path fill=\"none\" stroke=\"black\" d=\"M1279.01,-84.81C1288.49,-83.08 1297.66,-81.41 1305.9,-79.9\"/>\n",
       "<polygon fill=\"black\" stroke=\"black\" points=\"1306.6,-83.33 1315.81,-78.09 1305.35,-76.45 1306.6,-83.33\"/>\n",
       "</g>\n",
       "<!-- 2013503852880+&#45;&gt;2013503852880 -->\n",
       "<g id=\"edge8\" class=\"edge\">\n",
       "<title>2013503852880+&#45;&gt;2013503852880</title>\n",
       "<path fill=\"none\" stroke=\"black\" d=\"M1058.04,-101.5C1065.58,-101.5 1074.3,-101.5 1083.57,-101.5\"/>\n",
       "<polygon fill=\"black\" stroke=\"black\" points=\"1083.81,-105 1093.81,-101.5 1083.81,-98 1083.81,-105\"/>\n",
       "</g>\n",
       "<!-- 2013503858960 -->\n",
       "<g id=\"node22\" class=\"node\">\n",
       "<title>2013503858960</title>\n",
       "<polygon fill=\"none\" stroke=\"black\" points=\"731.5,-56.5 731.5,-92.5 916.5,-92.5 916.5,-56.5 731.5,-56.5\"/>\n",
       "<text text-anchor=\"middle\" x=\"743\" y=\"-70.8\" font-family=\"Times New Roman,serif\" font-size=\"14.00\">b</text>\n",
       "<polyline fill=\"none\" stroke=\"black\" points=\"754.5,-56.5 754.5,-92.5 \"/>\n",
       "<text text-anchor=\"middle\" x=\"794.5\" y=\"-70.8\" font-family=\"Times New Roman,serif\" font-size=\"14.00\">data 6.8814</text>\n",
       "<polyline fill=\"none\" stroke=\"black\" points=\"834.5,-56.5 834.5,-92.5 \"/>\n",
       "<text text-anchor=\"middle\" x=\"875.5\" y=\"-70.8\" font-family=\"Times New Roman,serif\" font-size=\"14.00\">grad 0.5000</text>\n",
       "</g>\n",
       "<!-- 2013503858960&#45;&gt;2013503852880+ -->\n",
       "<g id=\"edge16\" class=\"edge\">\n",
       "<title>2013503858960&#45;&gt;2013503852880+</title>\n",
       "<path fill=\"none\" stroke=\"black\" d=\"M916.71,-86.58C944.19,-90.2 972.72,-93.96 994.28,-96.8\"/>\n",
       "<polygon fill=\"black\" stroke=\"black\" points=\"993.89,-100.27 1004.26,-98.11 994.81,-93.33 993.89,-100.27\"/>\n",
       "</g>\n",
       "<!-- 2013503859984 -->\n",
       "<g id=\"node23\" class=\"node\">\n",
       "<title>2013503859984</title>\n",
       "<polygon fill=\"none\" stroke=\"black\" points=\"2.5,-139.5 2.5,-175.5 197.5,-175.5 197.5,-139.5 2.5,-139.5\"/>\n",
       "<text text-anchor=\"middle\" x=\"19\" y=\"-153.8\" font-family=\"Times New Roman,serif\" font-size=\"14.00\">w2</text>\n",
       "<polyline fill=\"none\" stroke=\"black\" points=\"35.5,-139.5 35.5,-175.5 \"/>\n",
       "<text text-anchor=\"middle\" x=\"75.5\" y=\"-153.8\" font-family=\"Times New Roman,serif\" font-size=\"14.00\">data 1.0000</text>\n",
       "<polyline fill=\"none\" stroke=\"black\" points=\"115.5,-139.5 115.5,-175.5 \"/>\n",
       "<text text-anchor=\"middle\" x=\"156.5\" y=\"-153.8\" font-family=\"Times New Roman,serif\" font-size=\"14.00\">grad 0.0000</text>\n",
       "</g>\n",
       "<!-- 2013503859984&#45;&gt;2013465524880* -->\n",
       "<g id=\"edge20\" class=\"edge\">\n",
       "<title>2013503859984&#45;&gt;2013465524880*</title>\n",
       "<path fill=\"none\" stroke=\"black\" d=\"M197.91,-157.5C207.65,-157.5 217.05,-157.5 225.52,-157.5\"/>\n",
       "<polygon fill=\"black\" stroke=\"black\" points=\"225.7,-161 235.7,-157.5 225.7,-154 225.7,-161\"/>\n",
       "</g>\n",
       "<!-- 2013503862160 -->\n",
       "<g id=\"node24\" class=\"node\">\n",
       "<title>2013503862160</title>\n",
       "<polygon fill=\"none\" stroke=\"black\" points=\"2,-29.5 2,-65.5 198,-65.5 198,-29.5 2,-29.5\"/>\n",
       "<text text-anchor=\"middle\" x=\"17\" y=\"-43.8\" font-family=\"Times New Roman,serif\" font-size=\"14.00\">x1</text>\n",
       "<polyline fill=\"none\" stroke=\"black\" points=\"32,-29.5 32,-65.5 \"/>\n",
       "<text text-anchor=\"middle\" x=\"72\" y=\"-43.8\" font-family=\"Times New Roman,serif\" font-size=\"14.00\">data 2.0000</text>\n",
       "<polyline fill=\"none\" stroke=\"black\" points=\"112,-29.5 112,-65.5 \"/>\n",
       "<text text-anchor=\"middle\" x=\"155\" y=\"-43.8\" font-family=\"Times New Roman,serif\" font-size=\"14.00\">grad &#45;1.5000</text>\n",
       "</g>\n",
       "<!-- 2013503862160&#45;&gt;2013503858064* -->\n",
       "<g id=\"edge17\" class=\"edge\">\n",
       "<title>2013503862160&#45;&gt;2013503858064*</title>\n",
       "<path fill=\"none\" stroke=\"black\" d=\"M169.28,-65.5C179.65,-68.61 190.16,-71.98 200,-75.5 210.28,-79.17 221.28,-83.74 231.11,-88.07\"/>\n",
       "<polygon fill=\"black\" stroke=\"black\" points=\"229.93,-91.37 240.48,-92.27 232.79,-84.99 229.93,-91.37\"/>\n",
       "</g>\n",
       "<!-- 2013503858064 -->\n",
       "<g id=\"node25\" class=\"node\">\n",
       "<title>2013503858064</title>\n",
       "<polygon fill=\"none\" stroke=\"black\" points=\"326,-84.5 326,-120.5 554,-120.5 554,-84.5 326,-84.5\"/>\n",
       "<text text-anchor=\"middle\" x=\"356.5\" y=\"-98.8\" font-family=\"Times New Roman,serif\" font-size=\"14.00\">x1 * w1</text>\n",
       "<polyline fill=\"none\" stroke=\"black\" points=\"387,-84.5 387,-120.5 \"/>\n",
       "<text text-anchor=\"middle\" x=\"429.5\" y=\"-98.8\" font-family=\"Times New Roman,serif\" font-size=\"14.00\">data &#45;6.0000</text>\n",
       "<polyline fill=\"none\" stroke=\"black\" points=\"472,-84.5 472,-120.5 \"/>\n",
       "<text text-anchor=\"middle\" x=\"513\" y=\"-98.8\" font-family=\"Times New Roman,serif\" font-size=\"14.00\">grad 0.5000</text>\n",
       "</g>\n",
       "<!-- 2013503858064&#45;&gt;2013503862992+ -->\n",
       "<g id=\"edge11\" class=\"edge\">\n",
       "<title>2013503858064&#45;&gt;2013503862992+</title>\n",
       "<path fill=\"none\" stroke=\"black\" d=\"M554.3,-119.98C563.62,-121.42 572.51,-122.79 580.5,-124.02\"/>\n",
       "<polygon fill=\"black\" stroke=\"black\" points=\"580.02,-127.49 590.43,-125.56 581.08,-120.57 580.02,-127.49\"/>\n",
       "</g>\n",
       "<!-- 2013503858064*&#45;&gt;2013503858064 -->\n",
       "<g id=\"edge9\" class=\"edge\">\n",
       "<title>2013503858064*&#45;&gt;2013503858064</title>\n",
       "<path fill=\"none\" stroke=\"black\" d=\"M290.2,-102.5C297.62,-102.5 306.23,-102.5 315.48,-102.5\"/>\n",
       "<polygon fill=\"black\" stroke=\"black\" points=\"315.76,-106 325.76,-102.5 315.76,-99 315.76,-106\"/>\n",
       "</g>\n",
       "<!-- 2013503858128 -->\n",
       "<g id=\"node27\" class=\"node\">\n",
       "<title>2013503858128</title>\n",
       "<polygon fill=\"none\" stroke=\"black\" points=\"1715.5,-55.5 1715.5,-91.5 1897.5,-91.5 1897.5,-55.5 1715.5,-55.5\"/>\n",
       "<text text-anchor=\"middle\" x=\"1725.5\" y=\"-69.8\" font-family=\"Times New Roman,serif\" font-size=\"14.00\"> </text>\n",
       "<polyline fill=\"none\" stroke=\"black\" points=\"1735.5,-55.5 1735.5,-91.5 \"/>\n",
       "<text text-anchor=\"middle\" x=\"1775.5\" y=\"-69.8\" font-family=\"Times New Roman,serif\" font-size=\"14.00\">data 5.8284</text>\n",
       "<polyline fill=\"none\" stroke=\"black\" points=\"1815.5,-55.5 1815.5,-91.5 \"/>\n",
       "<text text-anchor=\"middle\" x=\"1856.5\" y=\"-69.8\" font-family=\"Times New Roman,serif\" font-size=\"14.00\">grad 0.0429</text>\n",
       "</g>\n",
       "<!-- 2013503858128&#45;&gt;2013503851088+ -->\n",
       "<g id=\"edge15\" class=\"edge\">\n",
       "<title>2013503858128&#45;&gt;2013503851088+</title>\n",
       "<path fill=\"none\" stroke=\"black\" d=\"M1897.82,-89.28C1908.07,-91.08 1918.01,-92.81 1926.88,-94.36\"/>\n",
       "<polygon fill=\"black\" stroke=\"black\" points=\"1926.3,-97.81 1936.75,-96.09 1927.5,-90.92 1926.3,-97.81\"/>\n",
       "</g>\n",
       "<!-- 2013503858128&#45;&gt;2013503864080+ -->\n",
       "<g id=\"edge27\" class=\"edge\">\n",
       "<title>2013503858128&#45;&gt;2013503864080+</title>\n",
       "<path fill=\"none\" stroke=\"black\" d=\"M1897.82,-57.13C1908.07,-55.27 1918.01,-53.47 1926.88,-51.87\"/>\n",
       "<polygon fill=\"black\" stroke=\"black\" points=\"1927.54,-55.3 1936.75,-50.08 1926.29,-48.42 1927.54,-55.3\"/>\n",
       "</g>\n",
       "<!-- 2013503858128exp&#45;&gt;2013503858128 -->\n",
       "<g id=\"edge10\" class=\"edge\">\n",
       "<title>2013503858128exp&#45;&gt;2013503858128</title>\n",
       "<path fill=\"none\" stroke=\"black\" d=\"M1677.21,-73.5C1685.34,-73.5 1694.85,-73.5 1704.94,-73.5\"/>\n",
       "<polygon fill=\"black\" stroke=\"black\" points=\"1705.19,-77 1715.19,-73.5 1705.19,-70 1705.19,-77\"/>\n",
       "</g>\n",
       "</g>\n",
       "</svg>\n"
      ],
      "text/plain": [
       "<graphviz.graphs.Digraph at 0x1d4ce2ea4d0>"
      ]
     },
     "execution_count": 217,
     "metadata": {},
     "output_type": "execute_result"
    }
   ],
   "source": [
    "# inputs x1, x2\n",
    "x1 = Value(2.0, label='x1')\n",
    "x2 = Value(0.0, label='x2')\n",
    "\n",
    "# weights w1, w2\n",
    "w1 = Value(-3.0, label='w1')\n",
    "w2 = Value(1.0, label='w2')\n",
    "\n",
    "# bias of the neuron\n",
    "b = Value(6.8813735870195432, label='b')\n",
    "\n",
    "# x1*w1 + x2*w2 + b\n",
    "x1w1 = x1 * w1; x1w1.label = 'x1 * w1'\n",
    "x2w2 = x2 * w2; x2w2.label = 'x2 * w2'\n",
    "x1w1x2w2 = x1w1 + x2w2; x1w1x2w2.label = 'x1 * w1 + x2 * w2'\n",
    "n = x1w1x2w2 + b; n.label = 'n'\n",
    "# ---\n",
    "e = (2*n).exp()\n",
    "o = (e -1) / (e + 1)\n",
    "# --- \n",
    "o.label= 'o'\n",
    "o.backward()\n",
    "draw_dot(o)"
   ]
  },
  {
   "cell_type": "code",
   "execution_count": 218,
   "metadata": {},
   "outputs": [],
   "source": [
    "# o.backward()"
   ]
  },
  {
   "cell_type": "code",
   "execution_count": 219,
   "metadata": {},
   "outputs": [],
   "source": [
    "# topological sort graph\n",
    "# topo = []\n",
    "# visited = set()\n",
    "# def build_topo(v):\n",
    "  # if v not in visited:\n",
    "    # visited.add(v)\n",
    "    # for child in v._prev:\n",
    "     #  build_topo(child)\n",
    "    # topo.append(v)\n",
    "# build_topo(o)\n",
    "# topo"
   ]
  },
  {
   "cell_type": "code",
   "execution_count": 220,
   "metadata": {},
   "outputs": [],
   "source": [
    "#o.grad = 1.0"
   ]
  },
  {
   "cell_type": "code",
   "execution_count": 221,
   "metadata": {},
   "outputs": [],
   "source": [
    "# without doing backP manually\n",
    "# o._backward()"
   ]
  },
  {
   "cell_type": "code",
   "execution_count": 222,
   "metadata": {},
   "outputs": [],
   "source": [
    "# n._backward()"
   ]
  },
  {
   "cell_type": "code",
   "execution_count": 223,
   "metadata": {},
   "outputs": [],
   "source": [
    "# b._backward()"
   ]
  },
  {
   "cell_type": "code",
   "execution_count": 224,
   "metadata": {},
   "outputs": [],
   "source": [
    "# x1w1x2w2._backward()"
   ]
  },
  {
   "cell_type": "code",
   "execution_count": 225,
   "metadata": {},
   "outputs": [],
   "source": [
    "# x2w2._backward()\n",
    "# x1w1._backward()"
   ]
  },
  {
   "cell_type": "code",
   "execution_count": 226,
   "metadata": {},
   "outputs": [],
   "source": [
    "# x1.grad = w1.data * x1w1.grad\n",
    "# w1.grad = x1.data * x1w1.grad"
   ]
  },
  {
   "cell_type": "code",
   "execution_count": 227,
   "metadata": {},
   "outputs": [],
   "source": [
    "# x2.grad = w2.data * x2w2.grad\n",
    "# w2.grad = x2.data * x2w2.grad"
   ]
  },
  {
   "cell_type": "code",
   "execution_count": 228,
   "metadata": {},
   "outputs": [],
   "source": [
    "# x1w1.grad = 0.5\n",
    "# x2w2.grad = 0.5"
   ]
  },
  {
   "cell_type": "code",
   "execution_count": 229,
   "metadata": {},
   "outputs": [],
   "source": [
    "# x1w1x2w2.grad= 0.5\n",
    "# b.grad = 0.5"
   ]
  },
  {
   "cell_type": "code",
   "execution_count": 230,
   "metadata": {},
   "outputs": [],
   "source": [
    "# n.grad = 0.5"
   ]
  },
  {
   "cell_type": "code",
   "execution_count": 231,
   "metadata": {},
   "outputs": [],
   "source": [
    "# o.grad = 1.0"
   ]
  },
  {
   "cell_type": "code",
   "execution_count": 232,
   "metadata": {},
   "outputs": [],
   "source": [
    "# 1 - o.data**2"
   ]
  },
  {
   "cell_type": "code",
   "execution_count": 233,
   "metadata": {},
   "outputs": [],
   "source": [
    "# o = tanh(n)\n",
    "# do/dn = 1 - o**2"
   ]
  },
  {
   "cell_type": "code",
   "execution_count": 234,
   "metadata": {},
   "outputs": [],
   "source": [
    "# debugging\n",
    "#a = Value(3.0, label='a')\n",
    "#b = a + a ; b.label = 'b'\n",
    "#b.backward()\n",
    "#draw_dot(b)"
   ]
  },
  {
   "cell_type": "code",
   "execution_count": 235,
   "metadata": {},
   "outputs": [],
   "source": [
    "import torch"
   ]
  },
  {
   "cell_type": "code",
   "execution_count": 248,
   "metadata": {},
   "outputs": [
    {
     "name": "stdout",
     "output_type": "stream",
     "text": [
      "0.7071066904050358\n",
      "---\n",
      "x2 0.5000001283844369\n",
      "w2 0.0\n",
      "x1 -1.5000003851533106\n",
      "w1 1.0000002567688737\n"
     ]
    }
   ],
   "source": [
    "x1 = torch.Tensor([2.0]).double()                ; x1.requires_grad = True\n",
    "x2 = torch.Tensor([0.0]).double()                ; x2.requires_grad = True\n",
    "w1 = torch.Tensor([-3.0]).double()               ; w1.requires_grad = True\n",
    "w2 = torch.Tensor([1.0]).double()                ; w2.requires_grad = True\n",
    "b = torch.Tensor([6.8813735870195432]).double()  ; b.requires_grad = True\n",
    "n = x1*w1 + x2*w2 + b\n",
    "o = torch.tanh(n)\n",
    "\n",
    "print(o.data.item())\n",
    "o.backward()\n",
    "\n",
    "print('---')\n",
    "print('x2', x2.grad.item())\n",
    "print('w2', w2.grad.item())\n",
    "print('x1', x1.grad.item())\n",
    "print('w1', w1.grad.item())"
   ]
  },
  {
   "cell_type": "code",
   "execution_count": 237,
   "metadata": {},
   "outputs": [],
   "source": [
    "# o.item()"
   ]
  },
  {
   "cell_type": "code",
   "execution_count": 238,
   "metadata": {},
   "outputs": [],
   "source": [
    "# x2.grad.item()"
   ]
  },
  {
   "cell_type": "code",
   "execution_count": 239,
   "metadata": {},
   "outputs": [],
   "source": [
    "# torch.Tensor([2.0])"
   ]
  },
  {
   "cell_type": "code",
   "execution_count": 249,
   "metadata": {},
   "outputs": [],
   "source": [
    "class Neuron:\n",
    "  \n",
    "  def __init__(self, nin):\n",
    "    self.w = [Value(random.uniform(-1,1)) for _ in range(nin)]\n",
    "    self.b = Value(random.uniform(-1,1))\n",
    "  \n",
    "  def __call__(self, x):\n",
    "    # w * x + b\n",
    "    act = sum((wi*xi for wi, xi in zip(self.w, x)), self.b)\n",
    "    out = act.tanh()\n",
    "    return out\n",
    "  \n",
    "  def parameters(self):\n",
    "    return self.w + [self.b]\n",
    "\n",
    "class Layer:\n",
    "  \n",
    "  def __init__(self, nin, nout):\n",
    "    self.neurons = [Neuron(nin) for _ in range(nout)]\n",
    "  \n",
    "  def __call__(self, x):\n",
    "    outs = [n(x) for n in self.neurons]\n",
    "    return outs[0] if len(outs) == 1 else outs\n",
    "  \n",
    "  def parameters(self):\n",
    "    return [p for neuron in self.neurons for p in neuron.parameters()]\n",
    "\n",
    "class MLP:\n",
    "  \n",
    "  def __init__(self, nin, nouts):\n",
    "    sz = [nin] + nouts\n",
    "    self.layers = [Layer(sz[i], sz[i+1]) for i in range(len(nouts))]\n",
    "  \n",
    "  def __call__(self, x):\n",
    "    for layer in self.layers:\n",
    "      x = layer(x)\n",
    "    return x\n",
    "  \n",
    "  def parameters(self):\n",
    "    return [p for layer in self.layers for p in layer.parameters()]"
   ]
  },
  {
   "cell_type": "code",
   "execution_count": 251,
   "metadata": {},
   "outputs": [
    {
     "data": {
      "text/plain": [
       "Value(data=0.418984752203693)"
      ]
     },
     "execution_count": 251,
     "metadata": {},
     "output_type": "execute_result"
    }
   ],
   "source": [
    "x = [2.0, 3.0, -1.0]\n",
    "n = MLP(3, [4, 4, 1])\n",
    "n(x)"
   ]
  },
  {
   "cell_type": "code",
   "execution_count": 256,
   "metadata": {},
   "outputs": [],
   "source": [
    "# a simple dataset for NN\n",
    "xs = [\n",
    "  [2.0, 3.0, -1.0],\n",
    "  [3.0, -1.0, 0.5],\n",
    "  [0.5, 1.0, 1.0],\n",
    "  [1.0, 1.0, -1.0],\n",
    "]\n",
    "ys = [1.0, -1.0, -1.0, 1.0] # desired targets"
   ]
  },
  {
   "cell_type": "code",
   "execution_count": 258,
   "metadata": {},
   "outputs": [
    {
     "data": {
      "text/plain": [
       "[Value(data=-0.9887598104293918),\n",
       " Value(data=-0.7195026310306705),\n",
       " Value(data=-0.9203769470103966),\n",
       " Value(data=-0.36909355865795535),\n",
       " Value(data=-0.3335082361447801),\n",
       " Value(data=-0.7367200274906844),\n",
       " Value(data=-0.8593808501034799),\n",
       " Value(data=-0.0011446448921403896),\n",
       " Value(data=-0.4614113079819635),\n",
       " Value(data=0.6534197186256534),\n",
       " Value(data=-0.310501481909099),\n",
       " Value(data=-0.5548704324852309),\n",
       " Value(data=-0.9473703881394546),\n",
       " Value(data=0.39996374833413006),\n",
       " Value(data=-0.2805089896464463),\n",
       " Value(data=-0.2315124126680015),\n",
       " Value(data=0.14811917262279461),\n",
       " Value(data=-0.6843620374719364),\n",
       " Value(data=0.8850093084528214),\n",
       " Value(data=-0.8673914455887923),\n",
       " Value(data=0.322092829947457),\n",
       " Value(data=0.6802417596779295),\n",
       " Value(data=-0.6524872008644722),\n",
       " Value(data=-0.3840841511028519),\n",
       " Value(data=-0.46798170254444016),\n",
       " Value(data=-0.9919842561594749),\n",
       " Value(data=0.4144620676689521),\n",
       " Value(data=-0.24401138889322738),\n",
       " Value(data=-0.6222771152039617),\n",
       " Value(data=-0.6382745392517446),\n",
       " Value(data=-0.07462639968446538),\n",
       " Value(data=0.5163409572450088),\n",
       " Value(data=0.8844384419059705),\n",
       " Value(data=-0.5912330279962721),\n",
       " Value(data=-0.497465077288735),\n",
       " Value(data=-0.7328650980950695),\n",
       " Value(data=0.9249204326273928),\n",
       " Value(data=0.3401266595132888),\n",
       " Value(data=0.006936820608671734),\n",
       " Value(data=-0.39823965054615185),\n",
       " Value(data=-0.5626567444574988)]"
      ]
     },
     "execution_count": 258,
     "metadata": {},
     "output_type": "execute_result"
    }
   ],
   "source": [
    "n.parameters()"
   ]
  },
  {
   "cell_type": "code",
   "execution_count": 254,
   "metadata": {},
   "outputs": [
    {
     "data": {
      "text/plain": [
       "[Value(data=0.337578718171804),\n",
       " Value(data=1.0482312694774811),\n",
       " Value(data=1.6185815223264668),\n",
       " Value(data=0.9425872783354049)]"
      ]
     },
     "execution_count": 254,
     "metadata": {},
     "output_type": "execute_result"
    }
   ],
   "source": [
    "[(yout - ygt) ** 2 for ygt, yout in zip(ys, ypred)]"
   ]
  },
  {
   "cell_type": "code",
   "execution_count": 243,
   "metadata": {},
   "outputs": [
    {
     "data": {
      "text/plain": [
       "5.726683257445039"
      ]
     },
     "execution_count": 243,
     "metadata": {},
     "output_type": "execute_result"
    }
   ],
   "source": [
    "loss = sum((yout.data - ygt) ** 2 for ygt, yout in zip(ys, ypred))\n",
    "loss"
   ]
  },
  {
   "cell_type": "code",
   "execution_count": 244,
   "metadata": {},
   "outputs": [
    {
     "name": "stdout",
     "output_type": "stream",
     "text": [
      "<class 'float'>\n"
     ]
    }
   ],
   "source": [
    "print(type(loss))"
   ]
  },
  {
   "cell_type": "code",
   "execution_count": 246,
   "metadata": {},
   "outputs": [
    {
     "ename": "RuntimeError",
     "evalue": "Trying to backward through the graph a second time (or directly access saved tensors after they have already been freed). Saved intermediate values of the graph are freed when you call .backward() or autograd.grad(). Specify retain_graph=True if you need to backward through the graph a second time or if you need to access saved tensors after calling backward.",
     "output_type": "error",
     "traceback": [
      "\u001b[1;31m---------------------------------------------------------------------------\u001b[0m",
      "\u001b[1;31mRuntimeError\u001b[0m                              Traceback (most recent call last)",
      "Cell \u001b[1;32mIn[246], line 1\u001b[0m\n\u001b[1;32m----> 1\u001b[0m loss\u001b[38;5;241m.\u001b[39mbackward()\n",
      "File \u001b[1;32mc:\\Users\\DC\\miniconda3\\envs\\NN\\Lib\\site-packages\\torch\\_tensor.py:581\u001b[0m, in \u001b[0;36mTensor.backward\u001b[1;34m(self, gradient, retain_graph, create_graph, inputs)\u001b[0m\n\u001b[0;32m    571\u001b[0m \u001b[38;5;28;01mif\u001b[39;00m has_torch_function_unary(\u001b[38;5;28mself\u001b[39m):\n\u001b[0;32m    572\u001b[0m     \u001b[38;5;28;01mreturn\u001b[39;00m handle_torch_function(\n\u001b[0;32m    573\u001b[0m         Tensor\u001b[38;5;241m.\u001b[39mbackward,\n\u001b[0;32m    574\u001b[0m         (\u001b[38;5;28mself\u001b[39m,),\n\u001b[1;32m   (...)\u001b[0m\n\u001b[0;32m    579\u001b[0m         inputs\u001b[38;5;241m=\u001b[39minputs,\n\u001b[0;32m    580\u001b[0m     )\n\u001b[1;32m--> 581\u001b[0m torch\u001b[38;5;241m.\u001b[39mautograd\u001b[38;5;241m.\u001b[39mbackward(\n\u001b[0;32m    582\u001b[0m     \u001b[38;5;28mself\u001b[39m, gradient, retain_graph, create_graph, inputs\u001b[38;5;241m=\u001b[39minputs\n\u001b[0;32m    583\u001b[0m )\n",
      "File \u001b[1;32mc:\\Users\\DC\\miniconda3\\envs\\NN\\Lib\\site-packages\\torch\\autograd\\__init__.py:347\u001b[0m, in \u001b[0;36mbackward\u001b[1;34m(tensors, grad_tensors, retain_graph, create_graph, grad_variables, inputs)\u001b[0m\n\u001b[0;32m    342\u001b[0m     retain_graph \u001b[38;5;241m=\u001b[39m create_graph\n\u001b[0;32m    344\u001b[0m \u001b[38;5;66;03m# The reason we repeat the same comment below is that\u001b[39;00m\n\u001b[0;32m    345\u001b[0m \u001b[38;5;66;03m# some Python versions print out the first line of a multi-line function\u001b[39;00m\n\u001b[0;32m    346\u001b[0m \u001b[38;5;66;03m# calls in the traceback and some print out the last line\u001b[39;00m\n\u001b[1;32m--> 347\u001b[0m _engine_run_backward(\n\u001b[0;32m    348\u001b[0m     tensors,\n\u001b[0;32m    349\u001b[0m     grad_tensors_,\n\u001b[0;32m    350\u001b[0m     retain_graph,\n\u001b[0;32m    351\u001b[0m     create_graph,\n\u001b[0;32m    352\u001b[0m     inputs,\n\u001b[0;32m    353\u001b[0m     allow_unreachable\u001b[38;5;241m=\u001b[39m\u001b[38;5;28;01mTrue\u001b[39;00m,\n\u001b[0;32m    354\u001b[0m     accumulate_grad\u001b[38;5;241m=\u001b[39m\u001b[38;5;28;01mTrue\u001b[39;00m,\n\u001b[0;32m    355\u001b[0m )\n",
      "File \u001b[1;32mc:\\Users\\DC\\miniconda3\\envs\\NN\\Lib\\site-packages\\torch\\autograd\\graph.py:825\u001b[0m, in \u001b[0;36m_engine_run_backward\u001b[1;34m(t_outputs, *args, **kwargs)\u001b[0m\n\u001b[0;32m    823\u001b[0m     unregister_hooks \u001b[38;5;241m=\u001b[39m _register_logging_hooks_on_whole_graph(t_outputs)\n\u001b[0;32m    824\u001b[0m \u001b[38;5;28;01mtry\u001b[39;00m:\n\u001b[1;32m--> 825\u001b[0m     \u001b[38;5;28;01mreturn\u001b[39;00m Variable\u001b[38;5;241m.\u001b[39m_execution_engine\u001b[38;5;241m.\u001b[39mrun_backward(  \u001b[38;5;66;03m# Calls into the C++ engine to run the backward pass\u001b[39;00m\n\u001b[0;32m    826\u001b[0m         t_outputs, \u001b[38;5;241m*\u001b[39margs, \u001b[38;5;241m*\u001b[39m\u001b[38;5;241m*\u001b[39mkwargs\n\u001b[0;32m    827\u001b[0m     )  \u001b[38;5;66;03m# Calls into the C++ engine to run the backward pass\u001b[39;00m\n\u001b[0;32m    828\u001b[0m \u001b[38;5;28;01mfinally\u001b[39;00m:\n\u001b[0;32m    829\u001b[0m     \u001b[38;5;28;01mif\u001b[39;00m attach_logging_hooks:\n",
      "\u001b[1;31mRuntimeError\u001b[0m: Trying to backward through the graph a second time (or directly access saved tensors after they have already been freed). Saved intermediate values of the graph are freed when you call .backward() or autograd.grad(). Specify retain_graph=True if you need to backward through the graph a second time or if you need to access saved tensors after calling backward."
     ]
    }
   ],
   "source": [
    "loss.backward()"
   ]
  },
  {
   "cell_type": "code",
   "execution_count": 247,
   "metadata": {},
   "outputs": [
    {
     "data": {
      "text/plain": [
       "0.0"
      ]
     },
     "execution_count": 247,
     "metadata": {},
     "output_type": "execute_result"
    }
   ],
   "source": [
    "n.layers[0].neurons[0].w[0].grad"
   ]
  },
  {
   "cell_type": "code",
   "execution_count": null,
   "metadata": {},
   "outputs": [],
   "source": []
  }
 ],
 "metadata": {
  "kernelspec": {
   "display_name": "NN",
   "language": "python",
   "name": "python3"
  },
  "language_info": {
   "codemirror_mode": {
    "name": "ipython",
    "version": 3
   },
   "file_extension": ".py",
   "mimetype": "text/x-python",
   "name": "python",
   "nbconvert_exporter": "python",
   "pygments_lexer": "ipython3",
   "version": "3.11.11"
  }
 },
 "nbformat": 4,
 "nbformat_minor": 2
}
